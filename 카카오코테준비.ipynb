{
  "nbformat": 4,
  "nbformat_minor": 0,
  "metadata": {
    "colab": {
      "provenance": [],
      "authorship_tag": "ABX9TyP0Jgx2lnIsYT7hEEdUU4M6",
      "include_colab_link": true
    },
    "kernelspec": {
      "name": "python3",
      "display_name": "Python 3"
    },
    "language_info": {
      "name": "python"
    }
  },
  "cells": [
    {
      "cell_type": "markdown",
      "metadata": {
        "id": "view-in-github",
        "colab_type": "text"
      },
      "source": [
        "<a href=\"https://colab.research.google.com/github/LYZAcell/python_algorithm/blob/main/%EC%B9%B4%EC%B9%B4%EC%98%A4%EC%BD%94%ED%85%8C%EC%A4%80%EB%B9%84.ipynb\" target=\"_parent\"><img src=\"https://colab.research.google.com/assets/colab-badge.svg\" alt=\"Open In Colab\"/></a>"
      ]
    },
    {
      "cell_type": "markdown",
      "source": [
        "# 프로그래머스"
      ],
      "metadata": {
        "id": "yETWSvpyxzXS"
      }
    },
    {
      "cell_type": "markdown",
      "source": [
        "## Lv.0"
      ],
      "metadata": {
        "id": "izImy8wIx2WG"
      }
    },
    {
      "cell_type": "markdown",
      "source": [
        "## Lv.1"
      ],
      "metadata": {
        "id": "lSRVwmclx3rR"
      }
    },
    {
      "cell_type": "markdown",
      "source": [
        "1. [PCCP 기출문제] 1번 / 동영상 재생기"
      ],
      "metadata": {
        "id": "MQrnM1qvx50g"
      }
    },
    {
      "cell_type": "code",
      "execution_count": null,
      "metadata": {
        "id": "Db1Hk6inxQl7"
      },
      "outputs": [],
      "source": [
        "# [PCCP 기출문제] 1번 / 동영상 재생기\n",
        "def solution(video_len, pos, op_start, op_end, commands):\n",
        "    answer = ''\n",
        "    return answer"
      ]
    }
  ]
}