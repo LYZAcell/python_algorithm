{
  "nbformat": 4,
  "nbformat_minor": 0,
  "metadata": {
    "colab": {
      "provenance": [],
      "authorship_tag": "ABX9TyNWeR8/G9NxGMCO9vZ/ldv+",
      "include_colab_link": true
    },
    "kernelspec": {
      "name": "python3",
      "display_name": "Python 3"
    },
    "language_info": {
      "name": "python"
    }
  },
  "cells": [
    {
      "cell_type": "markdown",
      "metadata": {
        "id": "view-in-github",
        "colab_type": "text"
      },
      "source": [
        "<a href=\"https://colab.research.google.com/github/LYZAcell/python_algorithm/blob/main/%EC%B9%B4%EC%B9%B4%EC%98%A4%EC%BD%94%ED%85%8C%EC%A4%80%EB%B9%84.ipynb\" target=\"_parent\"><img src=\"https://colab.research.google.com/assets/colab-badge.svg\" alt=\"Open In Colab\"/></a>"
      ]
    },
    {
      "cell_type": "markdown",
      "source": [
        "# 프로그래머스"
      ],
      "metadata": {
        "id": "yETWSvpyxzXS"
      }
    },
    {
      "cell_type": "markdown",
      "source": [
        "## Lv.0"
      ],
      "metadata": {
        "id": "izImy8wIx2WG"
      }
    },
    {
      "cell_type": "markdown",
      "source": [
        "- 프로그래머스는 함수만 실행하면 됨...!!"
      ],
      "metadata": {
        "id": "c7zlzOISE_wN"
      }
    },
    {
      "cell_type": "code",
      "source": [
        "# 뒤에서 5등까지\n",
        "def solution(num_list):\n",
        "    num_list.sort()\n",
        "    top = num_list[:5]\n",
        "    return top"
      ],
      "metadata": {
        "id": "Lu9IlD6DE7hs"
      },
      "execution_count": null,
      "outputs": []
    },
    {
      "cell_type": "markdown",
      "source": [
        "## Lv.1"
      ],
      "metadata": {
        "id": "lSRVwmclx3rR"
      }
    },
    {
      "cell_type": "markdown",
      "source": [
        "1. [PCCE 기출문제] 9번 / 지폐 접기\n",
        "2. 약수의 합\n",
        "3. 수박수박수박수박수박수?\n",
        "4. 하샤드 수"
      ],
      "metadata": {
        "id": "MQrnM1qvx50g"
      }
    },
    {
      "cell_type": "code",
      "execution_count": null,
      "metadata": {
        "id": "Db1Hk6inxQl7"
      },
      "outputs": [],
      "source": [
        "# [PCCE 기출문제] 9번 / 지폐 접기\n",
        "def solution(wallet, bill):\n",
        "    answer = 0\n",
        "    while min(bill)>min(wallet) or max(bill) > max(wallet): # min, max 둘다봐주기\n",
        "        if bill[0] > bill[1]:\n",
        "            bill[0] = bill[0] // 2\n",
        "        else:\n",
        "            bill[1] = bill[1] //2\n",
        "        answer += 1\n",
        "\n",
        "    return answer"
      ]
    },
    {
      "cell_type": "code",
      "source": [
        "# 약수의 합\n",
        "def solution(n):\n",
        "    answer = 0\n",
        "    for num in range(1,n+1):\n",
        "        if n % num == 0:\n",
        "            answer += num\n",
        "    return answer"
      ],
      "metadata": {
        "id": "H3WPQD8a4CBW"
      },
      "execution_count": null,
      "outputs": []
    },
    {
      "cell_type": "code",
      "source": [
        "# 수박수박수박수박수박수\n",
        "def solution(n):\n",
        "    answer = ''\n",
        "    for i in range(n):\n",
        "        if i % 2 == 0:\n",
        "            answer += '수'\n",
        "        if i%2 == 1:\n",
        "            answer += '박'\n",
        "    return answer"
      ],
      "metadata": {
        "id": "pzKauMWUKiqe"
      },
      "execution_count": null,
      "outputs": []
    },
    {
      "cell_type": "code",
      "source": [
        "# 하샤드 수\n",
        "def solution(x):\n",
        "    answer = True\n",
        "    hasha = 0\n",
        "    for n in str(x):\n",
        "        n = int(n)\n",
        "        hasha += n\n",
        "\n",
        "    if x % hasha == 0:\n",
        "        answer = True\n",
        "    else:\n",
        "        answer = False\n",
        "    return answer"
      ],
      "metadata": {
        "id": "M9IrGBvFfBPa"
      },
      "execution_count": null,
      "outputs": []
    },
    {
      "cell_type": "code",
      "source": [
        "#https://school.programmers.co.kr/learn/courses/30/lessons/340213#\n",
        "# 2,7 오답\n",
        "def solution(video_len, pos, op_start, op_end, commands):\n",
        "    answer = ''\n",
        "    video_len = int(video_len[:2])*60 + int(video_len[3:5])\n",
        "    pos = int(pos[:2]) * 60 + int(pos[3:5])\n",
        "    op_start = int(op_start[:2]) * 60 + int(op_start[3:5])\n",
        "    op_end = int(op_end[:2]) * 60 + int(op_end[3:5])\n",
        "\n",
        "    for command in commands:\n",
        "        if command == 'next':\n",
        "             # 원래부터 오프닝 구간인건 op_end +10\n",
        "            if pos >= op_start and  pos <= op_end:\n",
        "                pos = op_end + 10\n",
        "            # 10초를 더해야 사이에 있는건 op_end로만 가면됨\n",
        "            elif pos + 10 >= op_start and pos <= op_end:\n",
        "                pos = op_end\n",
        "            # 초과할 시\n",
        "            elif pos + 10 >= video_len:\n",
        "                pos = video_len\n",
        "            else:\n",
        "                pos += 10\n",
        "        elif command == 'prev':\n",
        "            if pos <= 10:\n",
        "                pos = 0\n",
        "            elif pos >= op_start and  pos <= op_end:\n",
        "                if pos -10 < op_start:\n",
        "                    pos = op_end\n",
        "                    if pos < 0:\n",
        "                        pos = 0\n",
        "                else:\n",
        "                    pos= op_end\n",
        "            else:\n",
        "                pos -= 10\n",
        "    answer_mm = pos //60\n",
        "    answer_ss = pos % 60\n",
        "    if answer_ss < 10:\n",
        "        answer_ss = '0'+str(answer_ss)\n",
        "    else:\n",
        "        answer_ss = str(answer_ss)\n",
        "\n",
        "    if answer_mm < 10:\n",
        "        answer_mm = '0'+str(answer_mm)\n",
        "    else:\n",
        "        answer_mm = str(answer_mm)\n",
        "    answer = str(answer_mm) + ':'+ str(answer_ss)\n",
        "    return answer"
      ],
      "metadata": {
        "id": "lcFFnNEws_Fk"
      },
      "execution_count": null,
      "outputs": []
    }
  ]
}