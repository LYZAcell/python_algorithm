{
  "nbformat": 4,
  "nbformat_minor": 0,
  "metadata": {
    "colab": {
      "provenance": [],
      "authorship_tag": "ABX9TyPQt6l8KFEjyUaqwyDre51X",
      "include_colab_link": true
    },
    "kernelspec": {
      "name": "python3",
      "display_name": "Python 3"
    },
    "language_info": {
      "name": "python"
    }
  },
  "cells": [
    {
      "cell_type": "markdown",
      "metadata": {
        "id": "view-in-github",
        "colab_type": "text"
      },
      "source": [
        "<a href=\"https://colab.research.google.com/github/LYZAcell/python_algorithm/blob/main/%EC%B9%B4%EC%B9%B4%EC%98%A4%EC%BD%94%ED%85%8C%EC%A4%80%EB%B9%84.ipynb\" target=\"_parent\"><img src=\"https://colab.research.google.com/assets/colab-badge.svg\" alt=\"Open In Colab\"/></a>"
      ]
    },
    {
      "cell_type": "markdown",
      "source": [
        "# 프로그래머스"
      ],
      "metadata": {
        "id": "yETWSvpyxzXS"
      }
    },
    {
      "cell_type": "markdown",
      "source": [
        "## Lv.0"
      ],
      "metadata": {
        "id": "izImy8wIx2WG"
      }
    },
    {
      "cell_type": "markdown",
      "source": [
        "- 프로그래머스는 함수만 실행하면 됨...!!"
      ],
      "metadata": {
        "id": "c7zlzOISE_wN"
      }
    },
    {
      "cell_type": "code",
      "source": [
        "# 뒤에서 5등까지\n",
        "def solution(num_list):\n",
        "    num_list.sort()\n",
        "    top = num_list[:5]\n",
        "    return top"
      ],
      "metadata": {
        "id": "Lu9IlD6DE7hs"
      },
      "execution_count": null,
      "outputs": []
    },
    {
      "cell_type": "markdown",
      "source": [
        "## Lv.1"
      ],
      "metadata": {
        "id": "lSRVwmclx3rR"
      }
    },
    {
      "cell_type": "markdown",
      "source": [
        "1. [PCCE 기출문제] 9번 / 지폐 접기\n",
        "2. 약수의 합\n",
        "3. 수박수박수박수박수박수?\n",
        "4. 하샤드 수\n",
        "5. 동영상 재생기 _ 다시 푸는 중\n",
        "6. 서울에서 김서방 찾기\n",
        "7. 같은 숫자는 싫어\n",
        "8. 신규아이디 추천\n",
        "9. 실패율"
      ],
      "metadata": {
        "id": "MQrnM1qvx50g"
      }
    },
    {
      "cell_type": "code",
      "execution_count": null,
      "metadata": {
        "id": "Db1Hk6inxQl7"
      },
      "outputs": [],
      "source": [
        "# [PCCE 기출문제] 9번 / 지폐 접기\n",
        "def solution(wallet, bill):\n",
        "    answer = 0\n",
        "    while min(bill)>min(wallet) or max(bill) > max(wallet): # min, max 둘다봐주기\n",
        "        if bill[0] > bill[1]:\n",
        "            bill[0] = bill[0] // 2\n",
        "        else:\n",
        "            bill[1] = bill[1] //2\n",
        "        answer += 1\n",
        "\n",
        "    return answer"
      ]
    },
    {
      "cell_type": "code",
      "source": [
        "# 약수의 합\n",
        "def solution(n):\n",
        "    answer = 0\n",
        "    for num in range(1,n+1):\n",
        "        if n % num == 0:\n",
        "            answer += num\n",
        "    return answer"
      ],
      "metadata": {
        "id": "H3WPQD8a4CBW"
      },
      "execution_count": null,
      "outputs": []
    },
    {
      "cell_type": "code",
      "source": [
        "# 수박수박수박수박수박수\n",
        "def solution(n):\n",
        "    answer = ''\n",
        "    for i in range(n):\n",
        "        if i % 2 == 0:\n",
        "            answer += '수'\n",
        "        if i%2 == 1:\n",
        "            answer += '박'\n",
        "    return answer"
      ],
      "metadata": {
        "id": "pzKauMWUKiqe"
      },
      "execution_count": null,
      "outputs": []
    },
    {
      "cell_type": "code",
      "source": [
        "# 하샤드 수\n",
        "def solution(x):\n",
        "    answer = True\n",
        "    hasha = 0\n",
        "    for n in str(x):\n",
        "        n = int(n)\n",
        "        hasha += n\n",
        "\n",
        "    if x % hasha == 0:\n",
        "        answer = True\n",
        "    else:\n",
        "        answer = False\n",
        "    return answer"
      ],
      "metadata": {
        "id": "M9IrGBvFfBPa"
      },
      "execution_count": null,
      "outputs": []
    },
    {
      "cell_type": "code",
      "source": [
        "#https://school.programmers.co.kr/learn/courses/30/lessons/340213#\n",
        "# 2,7 오답\n",
        "def solution(video_len, pos, op_start, op_end, commands):\n",
        "    answer = ''\n",
        "    video_len = int(video_len[:2])*60 + int(video_len[3:5])\n",
        "    pos = int(pos[:2]) * 60 + int(pos[3:5])\n",
        "    op_start = int(op_start[:2]) * 60 + int(op_start[3:5])\n",
        "    op_end = int(op_end[:2]) * 60 + int(op_end[3:5])\n",
        "\n",
        "    for command in commands:\n",
        "        if command == 'next':\n",
        "             # 원래부터 오프닝 구간인건 op_end +10\n",
        "            if pos >= op_start and  pos <= op_end:\n",
        "                pos = op_end + 10\n",
        "            # 10초를 더해야 사이에 있는건 op_end로만 가면됨\n",
        "            elif pos + 10 >= op_start and pos <= op_end:\n",
        "                pos = op_end\n",
        "            # 초과할 시\n",
        "            elif pos + 10 >= video_len:\n",
        "                pos = video_len\n",
        "            else:\n",
        "                pos += 10\n",
        "        elif command == 'prev':\n",
        "            if pos <= 10:\n",
        "                pos = 0\n",
        "            elif pos >= op_start and  pos <= op_end:\n",
        "                if pos -10 < op_start:\n",
        "                    pos = op_end\n",
        "                    if pos < 0:\n",
        "                        pos = 0\n",
        "                else:\n",
        "                    pos= op_end\n",
        "            else:\n",
        "                pos -= 10\n",
        "    answer_mm = pos //60\n",
        "    answer_ss = pos % 60\n",
        "    if answer_ss < 10:\n",
        "        answer_ss = '0'+str(answer_ss)\n",
        "    else:\n",
        "        answer_ss = str(answer_ss)\n",
        "\n",
        "    if answer_mm < 10:\n",
        "        answer_mm = '0'+str(answer_mm)\n",
        "    else:\n",
        "        answer_mm = str(answer_mm)\n",
        "    answer = str(answer_mm) + ':'+ str(answer_ss)\n",
        "    return answer"
      ],
      "metadata": {
        "id": "lcFFnNEws_Fk"
      },
      "execution_count": null,
      "outputs": []
    },
    {
      "cell_type": "code",
      "source": [
        "# 김서방찾기\n",
        "def solution(seoul):\n",
        "    answer = ''\n",
        "    for i in range(len(seoul)):\n",
        "        if seoul[i] == \"Kim\":\n",
        "            location = str(i)\n",
        "\n",
        "    answer = '김서방은 '+ location+\"에 \"+\"있다\"\n",
        "    return answer"
      ],
      "metadata": {
        "id": "acXEnZAhiCNn"
      },
      "execution_count": null,
      "outputs": []
    },
    {
      "cell_type": "code",
      "source": [
        "# 같은 숫자는 싫어\n",
        "def solution(arr):\n",
        "    answer = []\n",
        "    temp = arr[0]\n",
        "    answer.append(temp)\n",
        "    for i in range(len(arr)):\n",
        "        if temp != arr[i]:\n",
        "            temp = arr[i]\n",
        "            answer.append(temp)\n",
        "\n",
        "    return answer"
      ],
      "metadata": {
        "id": "j7LWdG-5i45B"
      },
      "execution_count": null,
      "outputs": []
    },
    {
      "cell_type": "code",
      "source": [
        "# 신규 아이디추천\n",
        "def solution(new_id):\n",
        "    new_id = new_id.lower()\n",
        "    clean_id = ''\n",
        "    alphabet = ['a','b','c','d','e','f','g','h','i','j','k','l','m','n','o','p','q','r','s','t','u','v','w','x','y','z']\n",
        "    punc = ['_','-','.']\n",
        "    num = ['1','2','3','4','5','6','7','8','9','0']\n",
        "    # 2단계: 문자 필요한거 남기기\n",
        "    for alpha in new_id:\n",
        "        if alpha in alphabet:\n",
        "            clean_id += alpha\n",
        "        elif alpha in num:\n",
        "            clean_id += alpha\n",
        "        elif alpha in punc:\n",
        "            clean_id += alpha\n",
        "    punc_remove = ''\n",
        "    # 3단계: .. 가 연속할경우\n",
        "    for i in range(len(clean_id)-1):\n",
        "        if clean_id[i] == '.' and clean_id[i+1] == '.':\n",
        "            continue\n",
        "        else:\n",
        "            punc_remove+= clean_id[i]\n",
        "    if clean_id[-1] != '.':\n",
        "        punc_remove += clean_id[-1]\n",
        "\n",
        "    pont_remove = ''\n",
        "    # 4단계: 맨처음. 이나 끝 '.'\n",
        "    for p in range(len(punc_remove)):\n",
        "        if p == 0:\n",
        "            if punc_remove[0] != '.':\n",
        "                pont_remove += punc_remove[0]\n",
        "        elif p == len(punc_remove)-1:\n",
        "            if punc_remove[p] != '.':\n",
        "                pont_remove += punc_remove[p]\n",
        "        else:\n",
        "            pont_remove += punc_remove[p]\n",
        "\n",
        "    #5단계: 빈문자열이면 a대입\n",
        "    if len(pont_remove) == 0:\n",
        "        pont_remove = 'aaa'\n",
        "    elif len(pont_remove) >0 and len(pont_remove)<3:\n",
        "        pont_remove +=pont_remove[-1]\n",
        "    elif len(pont_remove) >= 16:\n",
        "        if pont_remove[-1] == '.':\n",
        "            pont_remove = pont_remove[:14]\n",
        "        else:\n",
        "            pont_remove = pont_remove[:15]\n",
        "    else:\n",
        "        pass\n",
        "\n",
        "    #마지막 온점검사\n",
        "    if pont_remove[0] == '.' or pont_remove[-1] == '.':\n",
        "        for\n",
        "\n",
        "\n",
        "\n",
        "    answer = pont_remove\n",
        "\n",
        "    return answer"
      ],
      "metadata": {
        "id": "NyagC5zJDDGK"
      },
      "execution_count": null,
      "outputs": []
    },
    {
      "cell_type": "code",
      "source": [
        "#실패율 -> 더 푸는중\n",
        "def solution(N, stages):\n",
        "    defeat = []\n",
        "    for i in range(1, N + 1):\n",
        "        cnt = 0\n",
        "        stay = 0\n",
        "        for stage in stages:\n",
        "            if stage >= i: #분모\n",
        "                cnt += 1\n",
        "            if stage == i:\n",
        "                stay += 1\n",
        "        prob = stay / cnt\n",
        "        defeat.append(prob)\n",
        "        print(\"defeat가능성:\",defeat)\n",
        "\n",
        "    sorted_defeat = sorted(defeat, reverse = True)\n",
        "    sorted_defeat= set(sorted_defeat)\n",
        "    result = []\n",
        "    print(sorted_defeat)\n",
        "    for point in sorted_defeat:\n",
        "        for j in range(len(defeat)):\n",
        "            if point == defeat[j]:\n",
        "                result.append(j+1)\n",
        "\n",
        "\n",
        "    return result\n",
        "\n",
        "print(solution(5, [2, 1, 2, 6, 2, 4, 3, 3]))"
      ],
      "metadata": {
        "id": "dNvvt6UcOAt2"
      },
      "execution_count": null,
      "outputs": []
    }
  ]
}