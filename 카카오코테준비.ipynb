{
  "nbformat": 4,
  "nbformat_minor": 0,
  "metadata": {
    "colab": {
      "provenance": [],
      "authorship_tag": "ABX9TyMoJB9uekUX5KNJeVm493+f",
      "include_colab_link": true
    },
    "kernelspec": {
      "name": "python3",
      "display_name": "Python 3"
    },
    "language_info": {
      "name": "python"
    }
  },
  "cells": [
    {
      "cell_type": "markdown",
      "metadata": {
        "id": "view-in-github",
        "colab_type": "text"
      },
      "source": [
        "<a href=\"https://colab.research.google.com/github/LYZAcell/python_algorithm/blob/main/%EC%B9%B4%EC%B9%B4%EC%98%A4%EC%BD%94%ED%85%8C%EC%A4%80%EB%B9%84.ipynb\" target=\"_parent\"><img src=\"https://colab.research.google.com/assets/colab-badge.svg\" alt=\"Open In Colab\"/></a>"
      ]
    },
    {
      "cell_type": "markdown",
      "source": [
        "# 프로그래머스"
      ],
      "metadata": {
        "id": "yETWSvpyxzXS"
      }
    },
    {
      "cell_type": "markdown",
      "source": [
        "## Lv.0"
      ],
      "metadata": {
        "id": "izImy8wIx2WG"
      }
    },
    {
      "cell_type": "markdown",
      "source": [
        "- 프로그래머스는 함수만 실행하면 됨...!!"
      ],
      "metadata": {
        "id": "c7zlzOISE_wN"
      }
    },
    {
      "cell_type": "code",
      "source": [
        "# 뒤에서 5등까지\n",
        "def solution(num_list):\n",
        "    num_list.sort()\n",
        "    top = num_list[:5]\n",
        "    return top"
      ],
      "metadata": {
        "id": "Lu9IlD6DE7hs"
      },
      "execution_count": null,
      "outputs": []
    },
    {
      "cell_type": "markdown",
      "source": [
        "## Lv.1"
      ],
      "metadata": {
        "id": "lSRVwmclx3rR"
      }
    },
    {
      "cell_type": "markdown",
      "source": [
        "1. [PCCE 기출문제] 9번 / 지폐 접기\n",
        "2. 약수의 합\n",
        "3. 수박수박수박수박수박수?"
      ],
      "metadata": {
        "id": "MQrnM1qvx50g"
      }
    },
    {
      "cell_type": "code",
      "execution_count": null,
      "metadata": {
        "id": "Db1Hk6inxQl7"
      },
      "outputs": [],
      "source": [
        "# [PCCE 기출문제] 9번 / 지폐 접기\n",
        "def solution(wallet, bill):\n",
        "    answer = 0\n",
        "    while min(bill)>min(wallet) or max(bill) > max(wallet): # min, max 둘다봐주기\n",
        "        if bill[0] > bill[1]:\n",
        "            bill[0] = bill[0] // 2\n",
        "        else:\n",
        "            bill[1] = bill[1] //2\n",
        "        answer += 1\n",
        "\n",
        "    return answer"
      ]
    },
    {
      "cell_type": "code",
      "source": [
        "# 약수의 합\n",
        "def solution(n):\n",
        "    answer = 0\n",
        "    for num in range(1,n+1):\n",
        "        if n % num == 0:\n",
        "            answer += num\n",
        "    return answer"
      ],
      "metadata": {
        "id": "H3WPQD8a4CBW"
      },
      "execution_count": null,
      "outputs": []
    },
    {
      "cell_type": "code",
      "source": [
        "# 수박수박수박수박수박수\n",
        "def solution(n):\n",
        "    answer = ''\n",
        "    for i in range(n):\n",
        "        if i % 2 == 0:\n",
        "            answer += '수'\n",
        "        if i%2 == 1:\n",
        "            answer += '박'\n",
        "    return answer"
      ],
      "metadata": {
        "id": "pzKauMWUKiqe"
      },
      "execution_count": null,
      "outputs": []
    }
  ]
}