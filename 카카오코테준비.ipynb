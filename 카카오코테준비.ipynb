{
  "nbformat": 4,
  "nbformat_minor": 0,
  "metadata": {
    "colab": {
      "provenance": [],
      "authorship_tag": "ABX9TyNb52YtpFm7FnFTZdo9JaMp",
      "include_colab_link": true
    },
    "kernelspec": {
      "name": "python3",
      "display_name": "Python 3"
    },
    "language_info": {
      "name": "python"
    }
  },
  "cells": [
    {
      "cell_type": "markdown",
      "metadata": {
        "id": "view-in-github",
        "colab_type": "text"
      },
      "source": [
        "<a href=\"https://colab.research.google.com/github/LYZAcell/python_algorithm/blob/main/%EC%B9%B4%EC%B9%B4%EC%98%A4%EC%BD%94%ED%85%8C%EC%A4%80%EB%B9%84.ipynb\" target=\"_parent\"><img src=\"https://colab.research.google.com/assets/colab-badge.svg\" alt=\"Open In Colab\"/></a>"
      ]
    },
    {
      "cell_type": "markdown",
      "source": [
        "# 프로그래머스"
      ],
      "metadata": {
        "id": "yETWSvpyxzXS"
      }
    },
    {
      "cell_type": "markdown",
      "source": [
        "## Lv.0"
      ],
      "metadata": {
        "id": "izImy8wIx2WG"
      }
    },
    {
      "cell_type": "markdown",
      "source": [
        "- 프로그래머스는 함수만 실행하면 됨...!!\n",
        "1. 개미군단"
      ],
      "metadata": {
        "id": "c7zlzOISE_wN"
      }
    },
    {
      "cell_type": "code",
      "source": [
        "# 뒤에서 5등까지\n",
        "def solution(num_list):\n",
        "    num_list.sort()\n",
        "    top = num_list[:5]\n",
        "    return top"
      ],
      "metadata": {
        "id": "Lu9IlD6DE7hs"
      },
      "execution_count": null,
      "outputs": []
    },
    {
      "cell_type": "code",
      "source": [
        "#12. 개미군단\n",
        "# 장군:5, 병정:3, 일 1 -> Greedy\n",
        "# hp가 주어지면 26 //장군 (마리)\n",
        "def solution(hp):\n",
        "    ad_num = hp // 5\n",
        "    ad_left = hp % 5\n",
        "    sol_num = ad_left // 3\n",
        "    sol_left = ad_left % 3\n",
        "    work_num = sol_left // 1\n",
        "    answer = ad_num + sol_num + work_num\n",
        "    return answer"
      ],
      "metadata": {
        "id": "6MKGYafcTYeX"
      },
      "execution_count": null,
      "outputs": []
    },
    {
      "cell_type": "markdown",
      "source": [
        "## Lv.1"
      ],
      "metadata": {
        "id": "lSRVwmclx3rR"
      }
    },
    {
      "cell_type": "markdown",
      "source": [
        "1. [PCCE 기출문제] 9번 / 지폐 접기\n",
        "2. 약수의 합\n",
        "3. 수박수박수박수박수박수?\n",
        "4. 하샤드 수\n",
        "5. 동영상 재생기 _ 다시 푸는 중\n",
        "6. 서울에서 김서방 찾기\n",
        "7. 같은 숫자는 싫어\n",
        "8. 신규아이디 추천 _ 다시풀기\n",
        "9. 실패율\n",
        "10. 모의고사\n",
        "11. 콜라츠 추측\n",
        "12. 부족한 금액 계산하기"
      ],
      "metadata": {
        "id": "MQrnM1qvx50g"
      }
    },
    {
      "cell_type": "code",
      "execution_count": null,
      "metadata": {
        "id": "Db1Hk6inxQl7"
      },
      "outputs": [],
      "source": [
        "# [PCCE 기출문제] 9번 / 지폐 접기\n",
        "def solution(wallet, bill):\n",
        "    answer = 0\n",
        "    while min(bill)>min(wallet) or max(bill) > max(wallet): # min, max 둘다봐주기\n",
        "        if bill[0] > bill[1]:\n",
        "            bill[0] = bill[0] // 2\n",
        "        else:\n",
        "            bill[1] = bill[1] //2\n",
        "        answer += 1\n",
        "\n",
        "    return answer"
      ]
    },
    {
      "cell_type": "code",
      "source": [
        "# 약수의 합\n",
        "def solution(n):\n",
        "    answer = 0\n",
        "    for num in range(1,n+1):\n",
        "        if n % num == 0:\n",
        "            answer += num\n",
        "    return answer"
      ],
      "metadata": {
        "id": "H3WPQD8a4CBW"
      },
      "execution_count": null,
      "outputs": []
    },
    {
      "cell_type": "code",
      "source": [
        "# 수박수박수박수박수박수\n",
        "def solution(n):\n",
        "    answer = ''\n",
        "    for i in range(n):\n",
        "        if i % 2 == 0:\n",
        "            answer += '수'\n",
        "        if i%2 == 1:\n",
        "            answer += '박'\n",
        "    return answer"
      ],
      "metadata": {
        "id": "pzKauMWUKiqe"
      },
      "execution_count": null,
      "outputs": []
    },
    {
      "cell_type": "code",
      "source": [
        "# 하샤드 수\n",
        "def solution(x):\n",
        "    answer = True\n",
        "    hasha = 0\n",
        "    for n in str(x):\n",
        "        n = int(n)\n",
        "        hasha += n\n",
        "\n",
        "    if x % hasha == 0:\n",
        "        answer = True\n",
        "    else:\n",
        "        answer = False\n",
        "    return answer"
      ],
      "metadata": {
        "id": "M9IrGBvFfBPa"
      },
      "execution_count": null,
      "outputs": []
    },
    {
      "cell_type": "code",
      "source": [
        "#https://school.programmers.co.kr/learn/courses/30/lessons/340213#\n",
        "# 2,7 오답\n",
        "def solution(video_len, pos, op_start, op_end, commands):\n",
        "    answer = ''\n",
        "    video_len = int(video_len[:2])*60 + int(video_len[3:5])\n",
        "    pos = int(pos[:2]) * 60 + int(pos[3:5])\n",
        "    op_start = int(op_start[:2]) * 60 + int(op_start[3:5])\n",
        "    op_end = int(op_end[:2]) * 60 + int(op_end[3:5])\n",
        "\n",
        "    for command in commands:\n",
        "        if command == 'next':\n",
        "             # 원래부터 오프닝 구간인건 op_end +10\n",
        "            if pos >= op_start and  pos <= op_end:\n",
        "                pos = op_end + 10\n",
        "            # 10초를 더해야 사이에 있는건 op_end로만 가면됨\n",
        "            elif pos + 10 >= op_start and pos <= op_end:\n",
        "                pos = op_end\n",
        "            # 초과할 시\n",
        "            elif pos + 10 >= video_len:\n",
        "                pos = video_len\n",
        "            else:\n",
        "                pos += 10\n",
        "        elif command == 'prev':\n",
        "            if pos <= 10:\n",
        "                pos = 0\n",
        "            elif pos >= op_start and  pos <= op_end:\n",
        "                if pos -10 < op_start:\n",
        "                    pos = op_end\n",
        "                    if pos < 0:\n",
        "                        pos = 0\n",
        "                else:\n",
        "                    pos= op_end\n",
        "            else:\n",
        "                pos -= 10\n",
        "    answer_mm = pos //60\n",
        "    answer_ss = pos % 60\n",
        "    if answer_ss < 10:\n",
        "        answer_ss = '0'+str(answer_ss)\n",
        "    else:\n",
        "        answer_ss = str(answer_ss)\n",
        "\n",
        "    if answer_mm < 10:\n",
        "        answer_mm = '0'+str(answer_mm)\n",
        "    else:\n",
        "        answer_mm = str(answer_mm)\n",
        "    answer = str(answer_mm) + ':'+ str(answer_ss)\n",
        "    return answer"
      ],
      "metadata": {
        "id": "lcFFnNEws_Fk"
      },
      "execution_count": null,
      "outputs": []
    },
    {
      "cell_type": "code",
      "source": [
        "# 김서방찾기\n",
        "def solution(seoul):\n",
        "    answer = ''\n",
        "    for i in range(len(seoul)):\n",
        "        if seoul[i] == \"Kim\":\n",
        "            location = str(i)\n",
        "\n",
        "    answer = '김서방은 '+ location+\"에 \"+\"있다\"\n",
        "    return answer"
      ],
      "metadata": {
        "id": "acXEnZAhiCNn"
      },
      "execution_count": null,
      "outputs": []
    },
    {
      "cell_type": "code",
      "source": [
        "# 같은 숫자는 싫어\n",
        "def solution(arr):\n",
        "    answer = []\n",
        "    temp = arr[0]\n",
        "    answer.append(temp)\n",
        "    for i in range(len(arr)):\n",
        "        if temp != arr[i]:\n",
        "            temp = arr[i]\n",
        "            answer.append(temp)\n",
        "\n",
        "    return answer"
      ],
      "metadata": {
        "id": "j7LWdG-5i45B"
      },
      "execution_count": null,
      "outputs": []
    },
    {
      "cell_type": "code",
      "source": [
        "# 신규 아이디추천\n",
        "def solution(new_id):\n",
        "    new_id = new_id.lower()\n",
        "    clean_id = ''\n",
        "    alphabet = ['a','b','c','d','e','f','g','h','i','j','k','l','m','n','o','p','q','r','s','t','u','v','w','x','y','z']\n",
        "    punc = ['_','-','.']\n",
        "    num = ['1','2','3','4','5','6','7','8','9','0']\n",
        "    # 2단계: 문자 필요한거 남기기\n",
        "    for alpha in new_id:\n",
        "        if alpha in alphabet:\n",
        "            clean_id += alpha\n",
        "        elif alpha in num:\n",
        "            clean_id += alpha\n",
        "        elif alpha in punc:\n",
        "            clean_id += alpha\n",
        "    punc_remove = ''\n",
        "    # 3단계: .. 가 연속할경우\n",
        "    for i in range(len(clean_id)-1):\n",
        "        if clean_id[i] == '.' and clean_id[i+1] == '.':\n",
        "            continue\n",
        "        else:\n",
        "            punc_remove+= clean_id[i]\n",
        "    if clean_id[-1] != '.':\n",
        "        punc_remove += clean_id[-1]\n",
        "\n",
        "    pont_remove = ''\n",
        "    # 4단계: 맨처음. 이나 끝 '.'\n",
        "    for p in range(len(punc_remove)):\n",
        "        if p == 0:\n",
        "            if punc_remove[0] != '.':\n",
        "                pont_remove += punc_remove[0]\n",
        "        elif p == len(punc_remove)-1:\n",
        "            if punc_remove[p] != '.':\n",
        "                pont_remove += punc_remove[p]\n",
        "        else:\n",
        "            pont_remove += punc_remove[p]\n",
        "\n",
        "    #5단계: 빈문자열이면 a대입\n",
        "    if len(pont_remove) == 0:\n",
        "        pont_remove = 'aaa'\n",
        "    elif len(pont_remove) >0 and len(pont_remove)<3:\n",
        "        pont_remove +=pont_remove[-1]\n",
        "    elif len(pont_remove) >= 16:\n",
        "        if pont_remove[-1] == '.':\n",
        "            pont_remove = pont_remove[:14]\n",
        "        else:\n",
        "            pont_remove = pont_remove[:15]\n",
        "    else:\n",
        "        pass\n",
        "\n",
        "    #마지막 온점검사\n",
        "    if pont_remove[0] == '.' or pont_remove[-1] == '.':\n",
        "        for\n",
        "\n",
        "\n",
        "\n",
        "    answer = pont_remove\n",
        "\n",
        "    return answer"
      ],
      "metadata": {
        "id": "NyagC5zJDDGK"
      },
      "execution_count": null,
      "outputs": []
    },
    {
      "cell_type": "code",
      "source": [
        "#실패율 -> 풀이 완료~\n",
        "# 로직 구상 : N 은 레벨, 머물고있는 레벨들 stages가 주어진다 -> 도전자분모 : 도전중인 레벨 i보다 크거나 같은 사람들 실패율 분자 : i인 사람들- > for i in range(1,N+1), for j in range(len(stages))순회하면ㄴ서 실패율 defeat리스트 append (그럼 1,2,3,4,5레벨순으로 담김)\n",
        "# 순서대로 담긴 defeat_origin을 sorted한 sorted_defeat을 만들기 -> 순회하면서 인덱스 + 1추가 = result\n",
        "\n",
        "# 확률이 동일할 시? sorted_defeat에 set을 해버리고 같은걸 same_test에 다 저장한뒤 나열하기\n",
        "def solution(N, stages):\n",
        "    defeat = []\n",
        "    for i in range(1, N + 1):\n",
        "        cnt = 0\n",
        "        stay = 0\n",
        "        for stage in stages:\n",
        "            if stage >= i: #분모\n",
        "                cnt += 1\n",
        "            if stage == i:\n",
        "                stay += 1\n",
        "        #cnt가 0인경우 처리\n",
        "        if cnt == 0 :\n",
        "            prob = 0\n",
        "        else:\n",
        "            prob = stay / cnt\n",
        "        defeat.append(prob)\n",
        "        #print(\"defeat가능성:\",defeat)\n",
        "\n",
        "    sorted_defeat = set(defeat)\n",
        "    sorted_defeat = sorted(sorted_defeat, reverse = True)\n",
        "    result = []\n",
        "    #print(sorted_defeat)\n",
        "    for point in sorted_defeat:\n",
        "        for j in range(len(defeat)):\n",
        "            if point == defeat[j]:\n",
        "                result.append(j+1)\n",
        "\n",
        "\n",
        "    return result\n",
        "\n",
        "print(solution(5, [2, 1, 2, 6, 2, 4, 3, 3]))"
      ],
      "metadata": {
        "id": "dNvvt6UcOAt2"
      },
      "execution_count": null,
      "outputs": []
    },
    {
      "cell_type": "code",
      "source": [
        "# 10. 모의고사\n",
        "# 알고리즘 : answers의 len을따서 Q_nums를 구함 -> Q_nums동안 1번은 for i로 12345찍고 그런거 구현. 각 1,2,3의 answer을 저장한다\n",
        "# 1번수포자 : for i in range(Q_nums): %5의 나머지에 따라 마킹,. %5 == 0이면 5마킹\n",
        "# 2번수포자:  짝수면 2번, 홀수일땐 1345로 증가 for j in range돌려서 i가짝수면 j없고 i가 홀수면 j%8이 1이면1, 3이면 3, 5면 4, 7이면 5마킹\n",
        "# 3번수포자: 3311224455 10개씩 3311224455 10에 0,1은 3 , 2,3은 1, 3,4는 2 .. 씩 반복하면될듯\n",
        "# 채점은? answers를 탐색하며 answer이 각각맞는지 cnt1, cnt2, cnt3 증가 -> 가장큰 cnt가 return. 동점이면 둘이\n",
        "\n",
        "def solution(answers):\n",
        "    Q_nums = len(answers)  # 문제 갯수\n",
        "    answer_1 = []\n",
        "    answer_2 = []\n",
        "    answer_3 = []\n",
        "    # 1번마킹하기\n",
        "    for i in range(Q_nums):\n",
        "        answer1 = (i + 1) % 5\n",
        "        if answer1 == 0:\n",
        "            answer1 = 5\n",
        "        answer_1.append(answer1)\n",
        "    # 2번 마킹하기\n",
        "    for j in range(Q_nums):\n",
        "        if j % 2 == 0:\n",
        "            answer2 = 2\n",
        "        elif j % 8 == 1:\n",
        "            answer2 = 1\n",
        "        elif j % 8 == 3:\n",
        "            answer2 = 3\n",
        "        elif j % 8 == 5:\n",
        "            answer2 = 4\n",
        "        elif j%8 == 7:\n",
        "            answer2 = 5\n",
        "        answer_2.append(answer2)\n",
        "    # 3번 마킹\n",
        "    for k in range(Q_nums):\n",
        "        if k % 10 == 0 or k % 10 == 1:\n",
        "            answer3 = 3\n",
        "        elif k % 10 == 2 or k % 10 == 3:\n",
        "            answer3 = 1\n",
        "        elif k % 10 == 4 or k % 10 == 5:\n",
        "            answer3 = 2\n",
        "        elif k % 10 == 6 or k % 10 == 7:\n",
        "            answer3 = 4\n",
        "        elif k % 10 == 8 or k % 10 == 9:\n",
        "            answer3 = 5\n",
        "        answer_3.append(answer3)\n",
        "\n",
        "    cnt1, cnt2, cnt3 = 0, 0, 0\n",
        "\n",
        "    for i in range(len(answers)):\n",
        "        if answer_1[i] == answers[i]:\n",
        "            cnt1 += 1\n",
        "        if answer_2[i] == answers[i]:\n",
        "            cnt2 += 1\n",
        "        if answer_3 [i] == answers[i]:\n",
        "            cnt3 += 1\n",
        "    cnt_array = [cnt1, cnt2, cnt3]\n",
        "    result = []\n",
        "    max_cnt = max(cnt_array)\n",
        "    for cnt_i in range(len(cnt_array)):\n",
        "        if cnt_array[cnt_i] == max_cnt:\n",
        "            result.append(cnt_i + 1)\n",
        "\n",
        "    return result"
      ],
      "metadata": {
        "id": "T3QkVkb7U1zg"
      },
      "execution_count": null,
      "outputs": []
    },
    {
      "cell_type": "code",
      "source": [
        "#11. 콜라츠 추측\n",
        "# cnt 500조건을 while에 넣어주기\n",
        "def solution(num):\n",
        "    cnt = 0\n",
        "    while num != 1 and cnt < 500:\n",
        "\n",
        "        if num %2 == 0 :\n",
        "            num = num // 2\n",
        "            cnt += 1\n",
        "        elif num == 1:\n",
        "            cnt = 0\n",
        "            break\n",
        "        elif num %2 != 0:\n",
        "            num = num *3 +1\n",
        "            cnt+=1\n",
        "    if cnt == 500:\n",
        "        cnt = -1\n",
        "\n",
        "\n",
        "    answer = cnt\n",
        "    return answer"
      ],
      "metadata": {
        "id": "6yYC07UMexuf"
      },
      "execution_count": null,
      "outputs": []
    },
    {
      "cell_type": "code",
      "source": [
        "# 부족한 금액 계산하기\n",
        "# n번탐에 따라 N배 요금이 오름 (n*count구조(누적x))\n",
        "# money - 이용금(해서 얼마나 모자르는지)\n",
        "# for i in range(1, count+1): 해서 price *i 누적 후 money 빼기\n",
        "def solution(price, money, count):\n",
        "    total = 0\n",
        "    for i in range(1, count+1):\n",
        "        total += price *i\n",
        "    answer = money - total\n",
        "    if answer < 0:\n",
        "        answer = -(answer)\n",
        "    elif answer >= 0 :\n",
        "        answer = 0\n",
        "\n",
        "    return answer"
      ],
      "metadata": {
        "id": "JZpOgvCIS04h"
      },
      "execution_count": null,
      "outputs": []
    }
  ]
}