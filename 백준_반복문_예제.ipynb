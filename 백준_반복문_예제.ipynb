{
  "cells": [
    {
      "cell_type": "markdown",
      "metadata": {
        "id": "237eydFPPgQI"
      },
      "source": [
        "## 11382번. 입출력 - 꼬마 정민\n",
        "\n",
        "꼬마 정민이는 이제 A + B 정도는 쉽게 계산할 수 있다. 이제 A + B + C를 계산할 차례이다!\n",
        "- 첫 번째 줄에 A, B, C (1 ≤ A, B, C ≤ 1012)이 공백을 사이에 두고 주어진다.\n",
        "- A+B+C의 값을 출력한다."
      ]
    },
    {
      "cell_type": "code",
      "execution_count": null,
      "metadata": {
        "id": "w1AJZK4wPgQN",
        "outputId": "1c5419cb-8a98-41d2-97cc-82430405845a"
      },
      "outputs": [
        {
          "name": "stdin",
          "output_type": "stream",
          "text": [
            " 77 77 7777\n"
          ]
        },
        {
          "name": "stdout",
          "output_type": "stream",
          "text": [
            "7931\n"
          ]
        }
      ],
      "source": [
        "input_num = input()\n",
        "number_list = input_num.split()\n",
        "temp = 0\n",
        "#print(number_list)\n",
        "for number in number_list:\n",
        "    number = int(number)\n",
        "    temp += number\n",
        "\n",
        "print(temp)"
      ]
    },
    {
      "cell_type": "markdown",
      "metadata": {
        "id": "OmEv9gT3PgQP"
      },
      "source": [
        "# 9498번. 반복문 - 시험점수\n",
        "\n",
        "시험 점수를 입력받아 90 ~ 100점은 A, 80 ~ 89점은 B, 70 ~ 79점은 C, 60 ~ 69점은 D, 나머지 점수는 F를 출력하는 프로그램을 작성하시오."
      ]
    },
    {
      "cell_type": "code",
      "execution_count": null,
      "metadata": {
        "id": "8tZrkIJlPgQQ",
        "outputId": "802c9d87-c257-4dc8-8d9f-999f9abfc0c5"
      },
      "outputs": [
        {
          "name": "stdin",
          "output_type": "stream",
          "text": [
            " 49\n"
          ]
        },
        {
          "name": "stdout",
          "output_type": "stream",
          "text": [
            "F\n"
          ]
        }
      ],
      "source": [
        "score = int(input())\n",
        "\n",
        "if 90 <= score <= 100:\n",
        "    print(\"A\")\n",
        "\n",
        "elif 80 <= score <= 89:\n",
        "    print(\"B\")\n",
        "\n",
        "elif 70 <= score <= 79:\n",
        "    print(\"C\")\n",
        "\n",
        "elif 60 <= score <= 69:\n",
        "    print(\"D\")\n",
        "\n",
        "elif score < 60:\n",
        "    print(\"F\")\n",
        "\n",
        "else:\n",
        "    print(\"올바른 점수가 아닙니다.\")"
      ]
    },
    {
      "cell_type": "markdown",
      "metadata": {
        "id": "EhGCVh2MPgQR"
      },
      "source": [
        "# 2753번. 윤년\n",
        "\n"
      ]
    },
    {
      "cell_type": "markdown",
      "source": [
        "https://www.acmicpc.net/problem/2753\n",
        "\n",
        "연도가 주어졌을 때, 윤년이면 1, 아니면 0을 출력하는 프로그램을 작성하시오.\n",
        "\n",
        "윤년은 연도가 4의 배수이면서, 100의 배수가 아닐 때 또는 400의 배수일 때이다.\n",
        "\n",
        "예를 들어, 2012년은 4의 배수이면서 100의 배수가 아니라서 윤년이다. 1900년은 100의 배수이고 400의 배수는 아니기 때문에 윤년이 아니다. 하지만, 2000년은 400의 배수이기 때문에 윤년이다.\n",
        "\n",
        "- 입력: 첫째 줄에 연도가 주어진다. 연도는 1보다 크거나 같고, 4000보다 작거나 같은 자연수이다.\n",
        "- 출력: 첫째 줄에 윤년이면 1, 아니면 0을 출력한다."
      ],
      "metadata": {
        "id": "qeDHKXPoP6hZ"
      }
    },
    {
      "cell_type": "code",
      "execution_count": null,
      "metadata": {
        "id": "thx8vrNRPgQS",
        "outputId": "de93c9e0-2b73-442d-bb0c-9187a17501f2"
      },
      "outputs": [
        {
          "name": "stdin",
          "output_type": "stream",
          "text": [
            " 2004\n"
          ]
        },
        {
          "name": "stdout",
          "output_type": "stream",
          "text": [
            "1\n"
          ]
        }
      ],
      "source": [
        "#1~4000\n",
        "year = int(input())\n",
        "\n",
        "#4로 나눠지면 윤년(1)\n",
        "if year % 4 == 0:\n",
        "    if year % 100 == 0:\n",
        "        #100으로 나눠지는 애들 중 400만 윤년임\n",
        "        if year %400 != 0:\n",
        "            print(0)\n",
        "        else:\n",
        "            print(1)\n",
        "    #4배수에 100으로 안나눠지면 윤년임\n",
        "    else:\n",
        "        print(1)\n",
        "else:\n",
        "    print(0)"
      ]
    },
    {
      "cell_type": "markdown",
      "metadata": {
        "id": "LYfEMDxdPgQU"
      },
      "source": [
        "# 14681. 사분면 고르기"
      ]
    },
    {
      "cell_type": "markdown",
      "metadata": {
        "id": "tCVRON75PgQU"
      },
      "source": [
        "# 25314번: 코딩은 체육과목입니다.\n"
      ]
    },
    {
      "cell_type": "markdown",
      "source": [
        "- 오늘은 혜아의 면접 날이다. 면접 준비를 열심히 해서 앞선 질문들을 잘 대답한 혜아는 이제 마지막으로 칠판에 직접 코딩하는 문제를 받았다. 혜아가 받은 문제는 두 수를 더하는 문제였다. C++ 책을 열심히 읽었던 혜아는 간단히 두 수를 더하는 코드를 칠판에 적었다. 코드를 본 면접관은 다음 질문을 했다. “만약, 입출력이  $N$바이트 크기의 정수라면 프로그램을 어떻게 구현해야 할까요?”\n",
        "\n",
        "- 혜아는 책에 있는 정수 자료형과 관련된 내용을 기억해 냈다. 책에는 long int는\n",
        "    - $4$바이트 정수까지 저장할 수 있는 정수 자료형이고 long long int는\n",
        "    - $8$바이트 정수까지 저장할 수 있는 정수 자료형이라고 적혀 있었다. 혜아는 이런 생각이 들었다. “int 앞에 long을 하나씩 더 붙일 때마다  $4$바이트씩 저장할 수 있는 공간이 늘어나는 걸까? 분명 long long long int는  $12$바이트, long long long long int는  $16$바이트까지 저장할 수 있는 정수 자료형일 거야!” 그렇게 혜아는 당황하는 면접관의 얼굴을 뒤로한 채 칠판에 정수 자료형을 써 내려가기 시작했다.\n",
        "\n",
        "- 혜아가  $N$바이트 정수까지 저장할 수 있다고 생각해서 칠판에 쓴 정수 자료형의 이름은 무엇일까?"
      ],
      "metadata": {
        "id": "bk7D7fVCQDSQ"
      }
    },
    {
      "cell_type": "markdown",
      "metadata": {
        "id": "i43FRi8-PgQV"
      },
      "source": [
        "- 첫 번째 줄에는 문제의 정수  $N$이 주어진다.  $(4\\le N\\le 1\\, 000$;  $N$은  $4$의 배수 $)$"
      ]
    },
    {
      "cell_type": "code",
      "execution_count": null,
      "metadata": {
        "id": "4FqICvHwPgQV",
        "outputId": "b94766bf-1f1b-410c-f4ba-9238d65f4652"
      },
      "outputs": [
        {
          "name": "stdin",
          "output_type": "stream",
          "text": [
            " 20\n"
          ]
        },
        {
          "name": "stdout",
          "output_type": "stream",
          "text": [
            "4\n",
            "long long long long long int\n"
          ]
        }
      ],
      "source": [
        "num = int(input())\n",
        "\n",
        "if num == 4:\n",
        "    print(\"long int\")\n",
        "elif num >=4 and (num-4)%4 == 0 :\n",
        "    i = (num-4)//4\n",
        "    #print(i)\n",
        "    print(\"long \"*i + \"long int\")"
      ]
    },
    {
      "cell_type": "markdown",
      "source": [
        "# 오븐시계"
      ],
      "metadata": {
        "id": "7DixwtALQGdA"
      }
    },
    {
      "cell_type": "markdown",
      "metadata": {
        "id": "Q2e9kXSBPgQW"
      },
      "source": [
        "첫째 줄에는 현재 시각이 나온다. 현재 시각은 시 A (0 ≤ A ≤ 23) 와 분 B (0 ≤ B ≤ 59)가 정수로 빈칸을 사이에 두고 순서대로 주어진다. 두 번째 줄에는 요리하는 데 필요한 시간 C (0 ≤ C ≤ 1,000)가 분 단위로 주어진다.\n",
        "\n",
        "\n",
        "첫째 줄에 종료되는 시각의 시와 분을 공백을 사이에 두고 출력한다. (단, 시는 0부터 23까지의 정수, 분은 0부터 59까지의 정수이다. 디지털 시계는 23시 59분에서 1분이 지나면 0시 0분이 된다.)"
      ]
    },
    {
      "cell_type": "markdown",
      "metadata": {
        "id": "wqOpak8EPgQW"
      },
      "source": [
        "시간 뺄셈위주로 -> 0 미만이면 시간이 줄어드는 구조\n",
        "-> 60을 0, hour +1\n",
        "\n",
        "예외처리 :새벽 00:00"
      ]
    },
    {
      "cell_type": "code",
      "execution_count": null,
      "metadata": {
        "id": "veJv3QM3PgQX",
        "outputId": "59e8343c-f205-4625-9f8d-47e658256f1d"
      },
      "outputs": [
        {
          "name": "stdin",
          "output_type": "stream",
          "text": [
            " 22 00\n",
            " 300\n"
          ]
        },
        {
          "name": "stdout",
          "output_type": "stream",
          "text": [
            "3 0\n"
          ]
        }
      ],
      "source": [
        "cooking = input().split(' ')\n",
        "hour = int(cooking[0])\n",
        "mins = int(cooking[1])\n",
        "cook_mins = int(input())\n",
        "\n",
        "if cook_mins >= 60:\n",
        "    cook_hours = cook_mins // 60\n",
        "    hour += cook_hours\n",
        "\n",
        "    cook_mins = cook_mins % 60\n",
        "    mins += cook_mins\n",
        "\n",
        "else:\n",
        "    mins += cook_mins\n",
        "\n",
        "\n",
        "if mins > 59:\n",
        "    hour += 1\n",
        "    mins = mins - 60\n",
        "\n",
        "if hour > 23:\n",
        "    hour-=24\n",
        "\n",
        "print(hour, mins)"
      ]
    },
    {
      "cell_type": "markdown",
      "source": [
        "# 5597.과제 안내신분?"
      ],
      "metadata": {
        "id": "uxgUfLCQQOE0"
      }
    },
    {
      "cell_type": "code",
      "execution_count": null,
      "metadata": {
        "id": "lklJZ9GzPgQY"
      },
      "outputs": [],
      "source": [
        "#\n",
        "\n",
        "submit = []\n",
        "student = []\n",
        "for s in range(1,31):\n",
        "    student.append(s)\n",
        "\n",
        "for i in range(28):\n",
        "    num = int(input())\n",
        "    submit.append(num)\n",
        "\n"
      ]
    },
    {
      "cell_type": "code",
      "execution_count": null,
      "metadata": {
        "id": "bJ5MC5PTPgQY",
        "outputId": "e44f6ce3-95e5-4aa4-acce-bec8561fec07"
      },
      "outputs": [
        {
          "name": "stdin",
          "output_type": "stream",
          "text": [
            " 3\n",
            " 4\n",
            " 6\n"
          ]
        },
        {
          "data": {
            "text/plain": [
              "[1,\n",
              " 2,\n",
              " 5,\n",
              " 7,\n",
              " 8,\n",
              " 9,\n",
              " 10,\n",
              " 11,\n",
              " 12,\n",
              " 13,\n",
              " 14,\n",
              " 15,\n",
              " 16,\n",
              " 17,\n",
              " 18,\n",
              " 19,\n",
              " 20,\n",
              " 21,\n",
              " 22,\n",
              " 23,\n",
              " 24,\n",
              " 25,\n",
              " 26,\n",
              " 27,\n",
              " 28,\n",
              " 29,\n",
              " 30]"
            ]
          },
          "execution_count": 8,
          "metadata": {},
          "output_type": "execute_result"
        }
      ],
      "source": [
        "## 5597.과제 안내신분?\n",
        "\n",
        "submit = []\n",
        "student = []\n",
        "no_submit = []\n",
        "\n",
        "for s in range(1,31):\n",
        "    student.append(s)\n",
        "\n",
        "for i in range(28):\n",
        "    num = int(input())\n",
        "    submit.append(num)\n",
        "\n",
        "submit.sort()\n",
        "\n",
        "\n",
        "for i in student:\n",
        "        if i not in submit:\n",
        "            no_submit.append(i)\n",
        "\n",
        "no_submit.sort()\n",
        "\n",
        "print(no_submit[0])\n",
        "print(no_submit[1])"
      ]
    },
    {
      "cell_type": "code",
      "execution_count": null,
      "metadata": {
        "id": "ukJFo_GpPgQZ"
      },
      "outputs": [],
      "source": []
    },
    {
      "cell_type": "markdown",
      "source": [
        "# 1546 평균 조작\n"
      ],
      "metadata": {
        "id": "mgOQvU2mPnKb"
      }
    },
    {
      "cell_type": "markdown",
      "source": [
        "세준이는 기말고사를 망쳤다. 세준이는 점수를 조작해서 집에 가져가기로 했다. 일단 세준이는 자기 점수 중에 최댓값을 골랐다. 이 값을 M이라고 한다. 그리고 나서 모든 점수를 점수/M*100으로 고쳤다.\n",
        "\n",
        "예를 들어, 세준이의 최고점이 70이고, 수학점수가 50이었으면 수학점수는 50/70*100이 되어 71.43점이 된다.\n",
        "\n",
        "세준이의 성적을 위의 방법대로 새로 계산했을 때, 새로운 평균을 구하는 프로그램을 작성하시오."
      ],
      "metadata": {
        "id": "rSxAlUo-RHJJ"
      }
    },
    {
      "cell_type": "markdown",
      "source": [
        "첫째 줄에 시험 본 과목의 개수 N이 주어진다. 이 값은 1000보다 작거나 같다. 둘째 줄에 세준이의 현재 성적이 주어진다. 이 값은 100보다 작거나 같은 음이 아닌 정수이고, 적어도 하나의 값은 0보다 크다."
      ],
      "metadata": {
        "id": "6w8D_GgGRIhn"
      }
    },
    {
      "cell_type": "code",
      "execution_count": null,
      "metadata": {
        "colab": {
          "base_uri": "https://localhost:8080/"
        },
        "id": "5A6P5mMdPgQZ",
        "outputId": "b45c21a6-afbb-4e27-e6b1-d9d67bc4ceb8"
      },
      "outputs": [
        {
          "output_type": "stream",
          "name": "stdout",
          "text": [
            "3\n",
            "40 80 60\n",
            "75.0\n"
          ]
        }
      ],
      "source": [
        "sub_num = int(input())\n",
        "scores = input().split(' ')\n",
        "for i in range (len(scores)):\n",
        "  scores[i] = int(scores[i])\n",
        "\n",
        "# score /(M*100)\n",
        "\n",
        "M = 0\n",
        "for score in scores:\n",
        "  if score > M:\n",
        "    M = score\n",
        "\n",
        "fin = []\n",
        "\n",
        "for s in scores:\n",
        "  s = (s*100)/M\n",
        "  fin.append(s)\n",
        "\n",
        "total = 0\n",
        "for f in fin:\n",
        "  total += f\n",
        "\n",
        "ave= total/len(fin)\n",
        "print(ave)"
      ]
    },
    {
      "cell_type": "code",
      "execution_count": null,
      "metadata": {
        "id": "uGN5vNOOPgQa"
      },
      "outputs": [],
      "source": [
        "2"
      ]
    },
    {
      "cell_type": "code",
      "source": [],
      "metadata": {
        "id": "Rpf448jj80Tl"
      },
      "execution_count": null,
      "outputs": []
    },
    {
      "cell_type": "markdown",
      "source": [
        "# 11557: Yangjojang of the year\n",
        "- https://www.acmicpc.net/problem/11557\n",
        "- 각 테스트 케이스마다 한 줄에 걸쳐 술 소비가 가장 많은 학교의 이름을 출력한다."
      ],
      "metadata": {
        "id": "FVqdZdEx801P"
      }
    },
    {
      "cell_type": "code",
      "source": [
        "T = int(input())\n",
        "\n",
        "for i in range(T):\n",
        "  uni_num = int(input())\n",
        "  max = 0\n",
        "  max_uni = \"\"\n",
        "  for i in range(uni_num):\n",
        "    uni = input().split(' ')\n",
        "    uni[1] = int(uni[1])\n",
        "    if uni[1] > max:\n",
        "      max_uni = uni[0]\n",
        "      max = uni[1]\n",
        "  print(max_uni)\n"
      ],
      "metadata": {
        "colab": {
          "base_uri": "https://localhost:8080/"
        },
        "id": "vF4byIit89ja",
        "outputId": "d6bd6403-4795-425f-aa80-7ef6c839c2e1"
      },
      "execution_count": null,
      "outputs": [
        {
          "output_type": "stream",
          "name": "stdout",
          "text": [
            "2\n",
            "3\n",
            "Y 10\n",
            "K 100\n",
            "E 20\n",
            "K\n",
            "2\n",
            "Y 1\n",
            "K 100\n",
            "K\n"
          ]
        }
      ]
    },
    {
      "cell_type": "code",
      "source": [
        "KE3\n"
      ],
      "metadata": {
        "id": "ywalNZGu_tKe"
      },
      "execution_count": null,
      "outputs": []
    },
    {
      "cell_type": "markdown",
      "source": [
        "# 10947. 로또"
      ],
      "metadata": {
        "id": "6k_wVIESoSnI"
      }
    },
    {
      "cell_type": "code",
      "source": [],
      "metadata": {
        "id": "w2G859Y1o8U2"
      },
      "execution_count": null,
      "outputs": []
    },
    {
      "cell_type": "markdown",
      "source": [
        "# 2941. 크로아티아 알파벳"
      ],
      "metadata": {
        "id": "XhLNBSuoXKgc"
      }
    },
    {
      "cell_type": "markdown",
      "source": [
        "https://www.acmicpc.net/problem/2941\n",
        "\n",
        "- 예전에는 운영체제에서 크로아티아 알파벳을 입력할 수가 없었다. 따라서, 다음과 같이 크로아티아 알파벳을 변경해서 입력했다.\n",
        "\n",
        "- 첫째 줄에 최대 100글자의 단어가 주어진다. 알파벳 소문자와 '-', '='로만 이루어져 있다.\n",
        "\n",
        "단어는 크로아티아 알파벳으로 이루어져 있다. 문제 설명의 표에 나와있는 알파벳은 변경된 형태로 입력된다."
      ],
      "metadata": {
        "id": "JOBIlwuuXOpn"
      }
    },
    {
      "cell_type": "code",
      "source": [
        "a = []\n",
        "a.append('a'+'b')\n",
        "a.append('b'+'A')\n",
        "a"
      ],
      "metadata": {
        "colab": {
          "base_uri": "https://localhost:8080/"
        },
        "id": "54BsycVOZRzo",
        "outputId": "88a7dfbe-55cb-4875-9149-49f14bfe0622"
      },
      "execution_count": null,
      "outputs": [
        {
          "output_type": "execute_result",
          "data": {
            "text/plain": [
              "['ab', 'bA']"
            ]
          },
          "metadata": {},
          "execution_count": 1
        }
      ]
    },
    {
      "cell_type": "code",
      "source": [
        "# 내 풀이\n",
        "word = input()\n",
        "alphabets = []\n",
        "i = 0\n",
        "\n",
        "while i < len(word):\n",
        "\n",
        "  # 특수 알파벳 처리\n",
        "  if word[i] == 'c' and i+1 <len(word):\n",
        "    if word[i+1] == '=' or word[i+1] == '-':\n",
        "      alphabets.append(word[i]+word[i+1])\n",
        "      i += 2\n",
        "    # c지만 특수외국어가 아닌 케이스\n",
        "    else:\n",
        "      alphabets.append(word[i])\n",
        "      i += 1\n",
        "\n",
        "  # d예외처리\n",
        "  elif word[i] == 'd':\n",
        "    if i+1 < len(word) and word[i+1] == '-':\n",
        "      alphabets.append(word[i]+word[i+1])\n",
        "      i += 2\n",
        "    elif i + 2 < len(word) and word[i+1] == 'z' and word[i+2] == '=':\n",
        "      alphabets.append(word[i]+word[i+1]+word[i+2])\n",
        "      i += 3\n",
        "    else:\n",
        "      alphabets.append(word[i])\n",
        "      i += 1\n",
        "\n",
        "  #lj, nj\n",
        "  elif word[i] == 'l' or word[i] =='n':\n",
        "    if i+1 <len(word) and word[i+1] == 'j' :\n",
        "      alphabets.append(word[i]+ word[i+1])\n",
        "      i+=2\n",
        "    else:\n",
        "      alphabets.append(word[i])\n",
        "      i+=1\n",
        "\n",
        "  #s,z 예외\n",
        "  elif word[i] == 's':\n",
        "    if i+1 <len(word) and word[i+1] == '=' :\n",
        "      alphabets.append(word[i] + word[i+1])\n",
        "      i += 2\n",
        "    else:\n",
        "      alphabets.append(word[i])\n",
        "      i += 1\n",
        "\n",
        "  elif word[i] == 'z':\n",
        "    if i+1 <len(word) and word[i+1] == '=' :\n",
        "      alphabets.append(word[i] + word[i+1])\n",
        "      i += 2\n",
        "\n",
        "    else:\n",
        "      alphabets.append(word[i])\n",
        "      i+= 1\n",
        "\n",
        "  # 그외 예외처리\n",
        "  else:\n",
        "    alphabets.append(word[i])\n",
        "    i +=1\n",
        "\n",
        "#print(alphabets, len(alphabets))\n",
        "print(len(alphabets))"
      ],
      "metadata": {
        "colab": {
          "base_uri": "https://localhost:8080/",
          "height": 377
        },
        "id": "I2iVtGdxXN_C",
        "outputId": "d773034b-3e47-4d07-a08c-2c23ca161228"
      },
      "execution_count": null,
      "outputs": [
        {
          "output_type": "error",
          "ename": "KeyboardInterrupt",
          "evalue": "Interrupted by user",
          "traceback": [
            "\u001b[0;31m---------------------------------------------------------------------------\u001b[0m",
            "\u001b[0;31mKeyboardInterrupt\u001b[0m                         Traceback (most recent call last)",
            "\u001b[0;32m<ipython-input-35-c1eba5b4f6b7>\u001b[0m in \u001b[0;36m<cell line: 1>\u001b[0;34m()\u001b[0m\n\u001b[0;32m----> 1\u001b[0;31m \u001b[0mword\u001b[0m \u001b[0;34m=\u001b[0m \u001b[0minput\u001b[0m\u001b[0;34m(\u001b[0m\u001b[0;34m)\u001b[0m\u001b[0;34m\u001b[0m\u001b[0;34m\u001b[0m\u001b[0m\n\u001b[0m\u001b[1;32m      2\u001b[0m \u001b[0malphabets\u001b[0m \u001b[0;34m=\u001b[0m \u001b[0;34m[\u001b[0m\u001b[0;34m]\u001b[0m\u001b[0;34m\u001b[0m\u001b[0;34m\u001b[0m\u001b[0m\n\u001b[1;32m      3\u001b[0m \u001b[0mi\u001b[0m \u001b[0;34m=\u001b[0m \u001b[0;36m0\u001b[0m\u001b[0;34m\u001b[0m\u001b[0;34m\u001b[0m\u001b[0m\n\u001b[1;32m      4\u001b[0m \u001b[0;34m\u001b[0m\u001b[0m\n\u001b[1;32m      5\u001b[0m \u001b[0;32mwhile\u001b[0m \u001b[0mi\u001b[0m \u001b[0;34m<\u001b[0m \u001b[0mlen\u001b[0m\u001b[0;34m(\u001b[0m\u001b[0mword\u001b[0m\u001b[0;34m)\u001b[0m\u001b[0;34m:\u001b[0m\u001b[0;34m\u001b[0m\u001b[0;34m\u001b[0m\u001b[0m\n",
            "\u001b[0;32m/usr/local/lib/python3.10/dist-packages/ipykernel/kernelbase.py\u001b[0m in \u001b[0;36mraw_input\u001b[0;34m(self, prompt)\u001b[0m\n\u001b[1;32m    849\u001b[0m                 \u001b[0;34m\"raw_input was called, but this frontend does not support input requests.\"\u001b[0m\u001b[0;34m\u001b[0m\u001b[0;34m\u001b[0m\u001b[0m\n\u001b[1;32m    850\u001b[0m             )\n\u001b[0;32m--> 851\u001b[0;31m         return self._input_request(str(prompt),\n\u001b[0m\u001b[1;32m    852\u001b[0m             \u001b[0mself\u001b[0m\u001b[0;34m.\u001b[0m\u001b[0m_parent_ident\u001b[0m\u001b[0;34m,\u001b[0m\u001b[0;34m\u001b[0m\u001b[0;34m\u001b[0m\u001b[0m\n\u001b[1;32m    853\u001b[0m             \u001b[0mself\u001b[0m\u001b[0;34m.\u001b[0m\u001b[0m_parent_header\u001b[0m\u001b[0;34m,\u001b[0m\u001b[0;34m\u001b[0m\u001b[0;34m\u001b[0m\u001b[0m\n",
            "\u001b[0;32m/usr/local/lib/python3.10/dist-packages/ipykernel/kernelbase.py\u001b[0m in \u001b[0;36m_input_request\u001b[0;34m(self, prompt, ident, parent, password)\u001b[0m\n\u001b[1;32m    893\u001b[0m             \u001b[0;32mexcept\u001b[0m \u001b[0mKeyboardInterrupt\u001b[0m\u001b[0;34m:\u001b[0m\u001b[0;34m\u001b[0m\u001b[0;34m\u001b[0m\u001b[0m\n\u001b[1;32m    894\u001b[0m                 \u001b[0;31m# re-raise KeyboardInterrupt, to truncate traceback\u001b[0m\u001b[0;34m\u001b[0m\u001b[0;34m\u001b[0m\u001b[0m\n\u001b[0;32m--> 895\u001b[0;31m                 \u001b[0;32mraise\u001b[0m \u001b[0mKeyboardInterrupt\u001b[0m\u001b[0;34m(\u001b[0m\u001b[0;34m\"Interrupted by user\"\u001b[0m\u001b[0;34m)\u001b[0m \u001b[0;32mfrom\u001b[0m \u001b[0;32mNone\u001b[0m\u001b[0;34m\u001b[0m\u001b[0;34m\u001b[0m\u001b[0m\n\u001b[0m\u001b[1;32m    896\u001b[0m             \u001b[0;32mexcept\u001b[0m \u001b[0mException\u001b[0m \u001b[0;32mas\u001b[0m \u001b[0me\u001b[0m\u001b[0;34m:\u001b[0m\u001b[0;34m\u001b[0m\u001b[0;34m\u001b[0m\u001b[0m\n\u001b[1;32m    897\u001b[0m                 \u001b[0mself\u001b[0m\u001b[0;34m.\u001b[0m\u001b[0mlog\u001b[0m\u001b[0;34m.\u001b[0m\u001b[0mwarning\u001b[0m\u001b[0;34m(\u001b[0m\u001b[0;34m\"Invalid Message:\"\u001b[0m\u001b[0;34m,\u001b[0m \u001b[0mexc_info\u001b[0m\u001b[0;34m=\u001b[0m\u001b[0;32mTrue\u001b[0m\u001b[0;34m)\u001b[0m\u001b[0;34m\u001b[0m\u001b[0;34m\u001b[0m\u001b[0m\n",
            "\u001b[0;31mKeyboardInterrupt\u001b[0m: Interrupted by user"
          ]
        }
      ]
    },
    {
      "cell_type": "code",
      "source": [
        "# 모범답안. 위에는 너무 신기하게 푼 것 같음\n",
        "# 문자열을 입력받기\n",
        "a = input()\n",
        "\n",
        "# 크로아티아 알파벳 기록\n",
        "alphabet = ['c=', 'c-', 'dz=', 'd-', 'lj', 'nj', 's=', 'z=']\n",
        "\n",
        "# 크로아티아 알파벳 등장할 때마다 한 글자로 변경. 이때, 다른 문자열은 혼동을 일으킬 수 있으니, * 를 사용하기로 함.\n",
        "# (예를 들어 n 으로 치환할 경우, ljj -> nj -> n 으로 변형이 되기 때문에, 혼동을 일으키지 않을 글자를 선택해야 함)\n",
        "for t in alphabet:\n",
        "  a = a.replace(t, '*')\n",
        "print(len(a),a)"
      ],
      "metadata": {
        "colab": {
          "base_uri": "https://localhost:8080/"
        },
        "id": "5SRCFrCldFXH",
        "outputId": "140172e2-fd49-4f10-b5e2-fa2ae12760dd"
      },
      "execution_count": null,
      "outputs": [
        {
          "output_type": "stream",
          "name": "stdout",
          "text": [
            "dz=ak\n",
            "3 *ak\n"
          ]
        }
      ]
    },
    {
      "cell_type": "code",
      "source": [
        "word = input()\n",
        "cro_list = ['c=', 'c-', 'dz=', 'd-', 'lj', 'nj', 's=', 'z=']\n",
        "flag = 0\n",
        "\n",
        "for i in range(len(cro_list)):\n",
        "    cro_count = word.count(cro_list[i])  #(1)\n",
        "    if cro_count >= 1:  #(2)\n",
        "        flag += cro_count  #(3)\n",
        "    word = word.replace(cro_list[i], \" \")  #(4)\n",
        "\n",
        "word = word.replace(' ', '')\n",
        "count = len(word)\n",
        "\n",
        "print(flag + count, word)"
      ],
      "metadata": {
        "colab": {
          "base_uri": "https://localhost:8080/"
        },
        "id": "2bpOb2Y3gXwB",
        "outputId": "21f2e751-66aa-450f-f281-9a9b9bb50816"
      },
      "execution_count": null,
      "outputs": [
        {
          "output_type": "stream",
          "name": "stdout",
          "text": [
            "dz=ak\n",
            "3 ak\n"
          ]
        }
      ]
    },
    {
      "cell_type": "code",
      "source": [
        "word = input()\n",
        "special_letters = ['c=', 'c-', 'dz=', 'd-', 'lj', 'nj', 's=', 'z=']\n",
        "\n",
        "for letter in special_letters:\n",
        "    word = word.replace(letter, '_')\n",
        "print(len(word))"
      ],
      "metadata": {
        "id": "IFyjcekughfZ",
        "colab": {
          "base_uri": "https://localhost:8080/"
        },
        "outputId": "1a04eee7-1f92-42af-dc14-10698cbac19c"
      },
      "execution_count": null,
      "outputs": [
        {
          "output_type": "stream",
          "name": "stdout",
          "text": [
            "dz=ak\n",
            "3\n"
          ]
        }
      ]
    },
    {
      "cell_type": "code",
      "source": [],
      "metadata": {
        "id": "5clXBJpusR2J"
      },
      "execution_count": null,
      "outputs": []
    },
    {
      "cell_type": "markdown",
      "source": [
        "# 1157 단어공부\n",
        "https://acmicpc.net/problem/1157\n",
        "\n",
        "알파벳 대소문자로 된 단어가 주어지면, 이 단어에서 가장 많이 사용된 알파벳이 무엇인지 알아내는 프로그램을 작성하시오. 단, 대문자와 소문자를 구분하지 않는다."
      ],
      "metadata": {
        "id": "p3qofh95z2my"
      }
    },
    {
      "cell_type": "code",
      "source": [
        "word = input()\n",
        "word = word.upper()\n",
        "letter_cnt = {}\n",
        "max = 0\n",
        "max_letter = []\n",
        "\n",
        "for letter in word:\n",
        "  if letter not in letter_cnt:\n",
        "    letter_cnt[letter] = 0\n",
        "  else:\n",
        "    letter_cnt[letter] += 1\n",
        "# print(letter_cnt)\n",
        "\n",
        "\n",
        "for letter in letter_cnt:\n",
        "  if letter_cnt[letter] > max:\n",
        "    max = letter_cnt[letter]\n",
        "\n",
        "for letter in letter_cnt:\n",
        "  if letter_cnt[letter] == max:\n",
        "    max_letter.append(letter)\n",
        "\n",
        "if len(max_letter) > 1:\n",
        "  print('?')\n",
        "else:\n",
        "  print(max_letter[0])\n"
      ],
      "metadata": {
        "colab": {
          "base_uri": "https://localhost:8080/"
        },
        "id": "WKpqkm3j0aam",
        "outputId": "6c9ef7a0-f9a8-4179-e088-0dd475f21bbc"
      },
      "execution_count": 12,
      "outputs": [
        {
          "output_type": "stream",
          "name": "stdout",
          "text": [
            "letter\n",
            "{'L': 0, 'E': 1, 'T': 1, 'R': 0}\n",
            "?\n"
          ]
        }
      ]
    },
    {
      "cell_type": "code",
      "source": [
        "# 모범답안https://blog.naver.com/social-programmer/223465089126\n",
        "word = input().upper()\n",
        "spells = list(set(word))\n",
        "lst = []\n",
        "for spell in spells:\n",
        "    lst.append(word.count(spell))\n",
        "if lst.count(max(lst)) >= 2:\n",
        "    print('?')\n",
        "else:\n",
        "    print(spells[lst.index(max(lst))])\n",
        "\n"
      ],
      "metadata": {
        "id": "IkJY9ue91CMX"
      },
      "execution_count": null,
      "outputs": []
    }
  ],
  "metadata": {
    "kernelspec": {
      "display_name": "Python 3",
      "language": "python",
      "name": "python3"
    },
    "language_info": {
      "codemirror_mode": {
        "name": "ipython",
        "version": 3
      },
      "file_extension": ".py",
      "mimetype": "text/x-python",
      "name": "python",
      "nbconvert_exporter": "python",
      "pygments_lexer": "ipython3",
      "version": "3.7.6"
    },
    "colab": {
      "provenance": [],
      "collapsed_sections": [
        "OmEv9gT3PgQP",
        "tCVRON75PgQU",
        "7DixwtALQGdA",
        "uxgUfLCQQOE0"
      ]
    }
  },
  "nbformat": 4,
  "nbformat_minor": 0
}