{
  "nbformat": 4,
  "nbformat_minor": 0,
  "metadata": {
    "colab": {
      "provenance": [],
      "collapsed_sections": [
        "ZHkJUStNrakf",
        "tJFcfpS7rxZl"
      ],
      "authorship_tag": "ABX9TyM1UlPPSNP4maj5rPL8z7Z3",
      "include_colab_link": true
    },
    "kernelspec": {
      "name": "python3",
      "display_name": "Python 3"
    },
    "language_info": {
      "name": "python"
    }
  },
  "cells": [
    {
      "cell_type": "markdown",
      "metadata": {
        "id": "view-in-github",
        "colab_type": "text"
      },
      "source": [
        "<a href=\"https://colab.research.google.com/github/LYZAcell/python_algorithm/blob/main/%EC%8B%B8%ED%94%BC_%EC%BD%94%ED%85%8C%EC%A4%80%EB%B9%84.ipynb\" target=\"_parent\"><img src=\"https://colab.research.google.com/assets/colab-badge.svg\" alt=\"Open In Colab\"/></a>"
      ]
    },
    {
      "cell_type": "markdown",
      "source": [
        "# 싸피준비 (11/20 예상)\n",
        "- 매주 수,토 22시\n",
        "- https://www.notion.so/259bf9a2ac404905966bbbef2943798a"
      ],
      "metadata": {
        "id": "Tg2Pytm_q_RW"
      }
    },
    {
      "cell_type": "markdown",
      "source": [
        "## 0911 수요일: 자료구조 정리\n"
      ],
      "metadata": {
        "id": "AtbgO4uQrLQC"
      }
    },
    {
      "cell_type": "markdown",
      "source": [
        "## 0914 토요일: 그리디 알고리즘"
      ],
      "metadata": {
        "id": "hd7mwEgLrR8V"
      }
    },
    {
      "cell_type": "markdown",
      "source": [
        "### 1. 거스름돈 문제\n",
        "\n",
        "\n"
      ],
      "metadata": {
        "id": "ZHkJUStNrakf"
      }
    },
    {
      "cell_type": "markdown",
      "source": [
        "\n",
        "- 자바풀이\n",
        "\n",
        "\n",
        "```\n",
        "public class Main {\n",
        "\tpublic static void main(String[] args){\n",
        "\t\tint n =1260;\n",
        "\t\tint cnt = 0;\n",
        "\t\tint[] coinTypes = {500,100,50,10};\n",
        "\n",
        "\t\tfor (int i = 0; i<4; i++){\n",
        "\t\t\tcnt += n/coinTypes[i];\n",
        "\t\t\tn%= coinTypes[i];\n",
        "\t\t\t}\n",
        "\t\t\tSystem.out.println(cnt);\n",
        "\t\t}\n",
        "\t}\n",
        "```"
      ],
      "metadata": {
        "id": "tJUg6S118zo0"
      }
    },
    {
      "cell_type": "code",
      "execution_count": null,
      "metadata": {
        "colab": {
          "base_uri": "https://localhost:8080/"
        },
        "id": "q1NWAmZxq88X",
        "outputId": "3c632800-a121-4bd2-ef8c-a203db0a9307"
      },
      "outputs": [
        {
          "output_type": "stream",
          "name": "stdout",
          "text": [
            "6\n"
          ]
        }
      ],
      "source": [
        "n = 1260\n",
        "count = 0\n",
        "array = [500, 100, 50, 10]\n",
        "\n",
        "for coin in array:\n",
        "\tcount += n // coin # 정수개수로 나누기\n",
        "\tn %= coin\n",
        "print(count)"
      ]
    },
    {
      "cell_type": "markdown",
      "source": [
        "### 2. 1이될때까지\n",
        "설명:  N이 1이될때까지 다음 두과정 중 하나를 반복적으로 선택하여 수행하려고 합니다. 단 두번째 연산은 N이 K로 나누어떨어질 때만 선택할 수  있습니다.\n",
        "\n",
        "1. N에서 1을 뺀다\n",
        "2. N을 K로 나눈다\n",
        "\n",
        "예를 들어 N = 17, K=4라면 1을 수행해 N=16. 이후 2를 수행해 N이 16/4 = 4 ⇒ 4/4 =1. 전체 실행횟수는 3이며 이는 N을 1로 만드는 최소횟수\n",
        "\n",
        "이와 같이 **N과 K가 주어질 때 N이 1이될때까지 1번 혹은 2번의 과정을 수행해야하는 최소횟수**를 구하는 프로그램을 작성하세요"
      ],
      "metadata": {
        "id": "HrBK1fiIrlU5"
      }
    },
    {
      "cell_type": "code",
      "source": [
        "# 내풀이\n",
        "N = int(input())\n",
        "K = int(input())\n",
        "calc = 0\n",
        "\n",
        "while N != 1:\n",
        "  # 나머지가 0일 시 2번 시행\n",
        "  if N % K ==0:\n",
        "    N  = N /K\n",
        "    calc += 1\n",
        "  # 나머지가 0이 아닐 시 1번 시행\n",
        "  elif N %K != 0:\n",
        "    N -= 1\n",
        "    calc += 1\n",
        "\n",
        "print(calc)"
      ],
      "metadata": {
        "colab": {
          "base_uri": "https://localhost:8080/"
        },
        "id": "ntlp0uw1rcXH",
        "outputId": "795da9b2-4da3-41df-dc7d-14de86a03d51"
      },
      "execution_count": null,
      "outputs": [
        {
          "output_type": "stream",
          "name": "stdout",
          "text": [
            "3\n",
            "5\n",
            "2\n"
          ]
        }
      ]
    },
    {
      "cell_type": "markdown",
      "source": [
        "#### 문제 그리디로 풀기\n",
        "- idea: N을 나누는 것이 수가 가장 빠르게 줄어드는 길\n",
        "- 위의 내방법은 수가 적을 때는 괜찮지만 수가 크다면 느려질 수 있음\n",
        "- 아래의 방법은 while한번만 돌면 연산이 끝남.\n",
        "- 시간복잡도는 log시간복잡도"
      ],
      "metadata": {
        "id": "tJFcfpS7rxZl"
      }
    },
    {
      "cell_type": "code",
      "source": [
        "n,k = map(int, input().split())\n",
        "\n",
        "result = 0\n",
        "\n",
        "while True:\n",
        "\ttarget = (n//k) *k # 7//3 *3 = 6 -> 가장가까운 나눠지는 수가 뭔지 알 수 있음\n",
        "\tresult += (n-target) # n = 7일 때 7-6 = 1 result\n",
        "\tn = target\n",
        "\n",
        "\tif n<k: # k = 3 n = 6으로 갱신됨. -> 2를 3으로 나눌 수 없으니 break되는 구조\n",
        "\t\tbreak\n",
        "\n",
        "\tresult +=1 #연산횟수 추가\n",
        "\tn//=k # 다시나누고 target n = 2로 갱신, result = 1\n",
        "\n",
        "result += (n-1) #한꺼번에 뺌\n",
        "print(result)"
      ],
      "metadata": {
        "colab": {
          "base_uri": "https://localhost:8080/"
        },
        "id": "NmPaFWeRrsa5",
        "outputId": "12294a58-af17-49d5-e5ed-2e5f3dd74972"
      },
      "execution_count": null,
      "outputs": [
        {
          "output_type": "stream",
          "name": "stdout",
          "text": [
            "3 5\n",
            "2\n"
          ]
        }
      ]
    },
    {
      "cell_type": "code",
      "source": [],
      "metadata": {
        "id": "llgUb-DVr6pw"
      },
      "execution_count": null,
      "outputs": []
    },
    {
      "cell_type": "markdown",
      "source": [
        "### 곱하기 혹은 더하기"
      ],
      "metadata": {
        "id": "jkJwmIUp82ef"
      }
    },
    {
      "cell_type": "markdown",
      "source": [
        "- 각자리가 0~9로만 이루어진 문자열 S가 주어졌을 때, 왼쪽부터 오른쪽으로 하나씩 모든 숫자를 확인하며 숫자 사이에 곱하기 또는 덧셈을 넣어 만들어질 수 있는 가장 큰수를 구하는 프로그램을 작성하세요\n",
        "- 단 +보다 곱셈을 먼저 계산하는 일반방식과는 달리 모든 연산은 왼쪽부터 순서대로 진행된다.\n",
        "- ex: 02984에서 가장 큰 수는 0+2 *9 *8 * 4 이다. 가장 큰수는 항상 20억 이하의 정수가 되도록 입력이 주어짐"
      ],
      "metadata": {
        "id": "Cbg9RXXh89px"
      }
    },
    {
      "cell_type": "markdown",
      "source": [
        "##### 브레인스토밍\n",
        "- 그리디 : 곱하기 횟수. 0제외 곱하면 무조건 이득임\n",
        "- 0이 몇개인지 셀까?\n",
        "- if로 0제외는 뒤에 곱하라하면되지않을까?"
      ],
      "metadata": {
        "id": "qu7lEZ2y90p7"
      }
    },
    {
      "cell_type": "code",
      "source": [
        "input_nums = input()\n",
        "nums = []\n",
        "total =  1\n",
        "\n",
        "# 0버리기\n",
        "for n in input_nums:\n",
        "  if n != '0':\n",
        "    n = int(n)\n",
        "    nums.append(n)\n",
        "  else:\n",
        "    continue\n",
        "\n",
        "# 곱하기\n",
        "for n in nums:\n",
        "  total *= n\n",
        "print(total)"
      ],
      "metadata": {
        "colab": {
          "base_uri": "https://localhost:8080/"
        },
        "id": "HmleQoaA84Ny",
        "outputId": "2619e668-6452-48e3-ecd0-40a3ea14a311"
      },
      "execution_count": 13,
      "outputs": [
        {
          "output_type": "stream",
          "name": "stdout",
          "text": [
            "567\n",
            "210\n"
          ]
        }
      ]
    },
    {
      "cell_type": "markdown",
      "source": [
        "##### 유튜브정답\n",
        "- 곱하기 연산이 더 큼\n",
        "- 다만 0이나 ** 1인경우 ** 더하기가 낫다"
      ],
      "metadata": {
        "id": "PuKcILuxAeo9"
      }
    },
    {
      "cell_type": "code",
      "source": [
        "data = input()\n",
        "result = int(data[0]) #첫수는 그냥 대입\n",
        "\n",
        "for i in range(1, len(data)):\n",
        "  num = int(data[i]) #수로 바꾸고\n",
        "  if num <= 1 or result <= 1: #n이나 result가 0이나 !!! 1이면!!! 더해주기\n",
        "    result += num\n",
        "  else:\n",
        "    result *= num\n",
        "\n",
        "\n",
        "print(result)"
      ],
      "metadata": {
        "id": "fehO822C9_ot"
      },
      "execution_count": null,
      "outputs": []
    },
    {
      "cell_type": "markdown",
      "source": [
        "- 오답노트"
      ],
      "metadata": {
        "id": "nQY2sGL3Ba5R"
      }
    },
    {
      "cell_type": "code",
      "source": [
        "input_nums = input()\n",
        "nums = []\n",
        "\n",
        "# 0버리기\n",
        "for n in input_nums:\n",
        "  if n != '0':\n",
        "    n = int(n)\n",
        "    nums.append(n)\n",
        "  else:\n",
        "    continue\n",
        "\n",
        "# 첫데이터 그대로 넣어주고 시작\n",
        "total = int(nums[0])\n",
        "\n",
        "# 곱하기\n",
        "for i in range(1,len(nums)):\n",
        "  if total ==1 or nums[i]==1:\n",
        "    total += nums[i]\n",
        "  else:\n",
        "    total *= nums[i]\n",
        "\n",
        "print(total)"
      ],
      "metadata": {
        "colab": {
          "base_uri": "https://localhost:8080/"
        },
        "id": "q_aliupjBbgR",
        "outputId": "588b58ec-36a1-4171-b1ee-093a9ef57aae"
      },
      "execution_count": 18,
      "outputs": [
        {
          "output_type": "stream",
          "name": "stdout",
          "text": [
            "02948\n",
            "576\n"
          ]
        }
      ]
    },
    {
      "cell_type": "markdown",
      "source": [
        "#### 자바코드"
      ],
      "metadata": {
        "id": "X6pakmgDCeht"
      }
    },
    {
      "cell_type": "markdown",
      "source": [
        "```\n",
        "import java.util.*;\n",
        "\n",
        "public class Main{\n",
        "  public static void main (String[] args){\n",
        "    Scanner sc = new Scanner(System.in);\n",
        "    String str = sc.next();\n",
        "\n",
        "    //첫문자를 숫자로 변경한 값으로 대입\n",
        "    long result = str.charAt(0) - '0';\n",
        "    for (int i = 1; i < str.length(); i++){\n",
        "      // 결과나 n이 0이나 1이면 더하기\n",
        "      int num = str.charAt(i) - '0';\n",
        "      if (num <=1 || result <=1 ){\n",
        "        result += num;}\n",
        "      else{\n",
        "        result *= num;}\n",
        "        }\n",
        "        System.out.println(result);\n",
        "        }\n",
        "}\n",
        "\n",
        "```"
      ],
      "metadata": {
        "id": "0agG9vZVChFh"
      }
    },
    {
      "cell_type": "code",
      "source": [],
      "metadata": {
        "id": "oOAGMvcfBv3P"
      },
      "execution_count": null,
      "outputs": []
    },
    {
      "cell_type": "markdown",
      "source": [
        "### 모험가 길드\n",
        "- 한마을에 모험가가 N명 있습니다. 길드에서는 N명의 모험가를 대상으로 공포도를 측정합니다. 공포도가 높은 모험가는 쉽게쫄아 위기대처 능력이 떨어집니다\n",
        "- 길드장 동빈이는 공포도가 X인 모험가는 반드시 X명이상으로 파티를 구성해야 퀘스트를 받을 수 있도록 했습니다\n",
        "- 동빈이는 길드에서 몇개의 그룹을 만들 수 있을지 궁금합니다. N이 주어지면 몇개의 그룹이 최대가 되는지 구하는 프로그램을 작성하시오"
      ],
      "metadata": {
        "id": "d8yoHiUIDnUL"
      }
    },
    {
      "cell_type": "code",
      "source": [],
      "metadata": {
        "id": "UExT8unXD9lU"
      },
      "execution_count": null,
      "outputs": []
    }
  ]
}