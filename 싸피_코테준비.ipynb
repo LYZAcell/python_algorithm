{
  "nbformat": 4,
  "nbformat_minor": 0,
  "metadata": {
    "colab": {
      "provenance": [],
      "collapsed_sections": [
        "ZHkJUStNrakf",
        "tJFcfpS7rxZl"
      ],
      "authorship_tag": "ABX9TyP2ONVDoWVkMd82po28Mfa1",
      "include_colab_link": true
    },
    "kernelspec": {
      "name": "python3",
      "display_name": "Python 3"
    },
    "language_info": {
      "name": "python"
    }
  },
  "cells": [
    {
      "cell_type": "markdown",
      "metadata": {
        "id": "view-in-github",
        "colab_type": "text"
      },
      "source": [
        "<a href=\"https://colab.research.google.com/github/LYZAcell/python_algorithm/blob/main/%EC%8B%B8%ED%94%BC_%EC%BD%94%ED%85%8C%EC%A4%80%EB%B9%84.ipynb\" target=\"_parent\"><img src=\"https://colab.research.google.com/assets/colab-badge.svg\" alt=\"Open In Colab\"/></a>"
      ]
    },
    {
      "cell_type": "markdown",
      "source": [
        "# 싸피준비 (11/20 예상)\n",
        "- 매주 수,토 22시\n",
        "- https://www.notion.so/259bf9a2ac404905966bbbef2943798a"
      ],
      "metadata": {
        "id": "Tg2Pytm_q_RW"
      }
    },
    {
      "cell_type": "markdown",
      "source": [
        "## 0911 수요일: 자료구조 정리\n"
      ],
      "metadata": {
        "id": "AtbgO4uQrLQC"
      }
    },
    {
      "cell_type": "markdown",
      "source": [
        "## 0914 토요일: 그리디 알고리즘"
      ],
      "metadata": {
        "id": "hd7mwEgLrR8V"
      }
    },
    {
      "cell_type": "markdown",
      "source": [
        "### 1. 거스름돈 문제\n",
        "\n",
        "\n"
      ],
      "metadata": {
        "id": "ZHkJUStNrakf"
      }
    },
    {
      "cell_type": "markdown",
      "source": [
        "\n",
        "- 자바풀이\n",
        "\n",
        "\n",
        "```\n",
        "public class Main {\n",
        "\tpublic static void main(String[] args){\n",
        "\t\tint n =1260;\n",
        "\t\tint cnt = 0;\n",
        "\t\tint[] coinTypes = {500,100,50,10};\n",
        "\n",
        "\t\tfor (int i = 0; i<4; i++){\n",
        "\t\t\tcnt += n/coinTypes[i];\n",
        "\t\t\tn%= coinTypes[i];\n",
        "\t\t\t}\n",
        "\t\t\tSystem.out.println(cnt);\n",
        "\t\t}\n",
        "\t}\n",
        "```"
      ],
      "metadata": {
        "id": "tJUg6S118zo0"
      }
    },
    {
      "cell_type": "code",
      "execution_count": null,
      "metadata": {
        "colab": {
          "base_uri": "https://localhost:8080/"
        },
        "id": "q1NWAmZxq88X",
        "outputId": "3c632800-a121-4bd2-ef8c-a203db0a9307"
      },
      "outputs": [
        {
          "output_type": "stream",
          "name": "stdout",
          "text": [
            "6\n"
          ]
        }
      ],
      "source": [
        "n = 1260\n",
        "count = 0\n",
        "array = [500, 100, 50, 10]\n",
        "\n",
        "for coin in array:\n",
        "\tcount += n // coin # 정수개수로 나누기\n",
        "\tn %= coin\n",
        "print(count)"
      ]
    },
    {
      "cell_type": "markdown",
      "source": [
        "### 2. 1이될때까지\n",
        "설명:  N이 1이될때까지 다음 두과정 중 하나를 반복적으로 선택하여 수행하려고 합니다. 단 두번째 연산은 N이 K로 나누어떨어질 때만 선택할 수  있습니다.\n",
        "\n",
        "1. N에서 1을 뺀다\n",
        "2. N을 K로 나눈다\n",
        "\n",
        "예를 들어 N = 17, K=4라면 1을 수행해 N=16. 이후 2를 수행해 N이 16/4 = 4 ⇒ 4/4 =1. 전체 실행횟수는 3이며 이는 N을 1로 만드는 최소횟수\n",
        "\n",
        "이와 같이 **N과 K가 주어질 때 N이 1이될때까지 1번 혹은 2번의 과정을 수행해야하는 최소횟수**를 구하는 프로그램을 작성하세요"
      ],
      "metadata": {
        "id": "HrBK1fiIrlU5"
      }
    },
    {
      "cell_type": "code",
      "source": [
        "# 내풀이\n",
        "N = int(input())\n",
        "K = int(input())\n",
        "calc = 0\n",
        "\n",
        "while N != 1:\n",
        "  # 나머지가 0일 시 2번 시행\n",
        "  if N % K ==0:\n",
        "    N  = N /K\n",
        "    calc += 1\n",
        "  # 나머지가 0이 아닐 시 1번 시행\n",
        "  elif N %K != 0:\n",
        "    N -= 1\n",
        "    calc += 1\n",
        "\n",
        "print(calc)"
      ],
      "metadata": {
        "colab": {
          "base_uri": "https://localhost:8080/"
        },
        "id": "ntlp0uw1rcXH",
        "outputId": "795da9b2-4da3-41df-dc7d-14de86a03d51"
      },
      "execution_count": null,
      "outputs": [
        {
          "output_type": "stream",
          "name": "stdout",
          "text": [
            "3\n",
            "5\n",
            "2\n"
          ]
        }
      ]
    },
    {
      "cell_type": "markdown",
      "source": [
        "#### 문제 그리디로 풀기\n",
        "- idea: N을 나누는 것이 수가 가장 빠르게 줄어드는 길\n",
        "- 위의 내방법은 수가 적을 때는 괜찮지만 수가 크다면 느려질 수 있음\n",
        "- 아래의 방법은 while한번만 돌면 연산이 끝남.\n",
        "- 시간복잡도는 log시간복잡도"
      ],
      "metadata": {
        "id": "tJFcfpS7rxZl"
      }
    },
    {
      "cell_type": "code",
      "source": [
        "n,k = map(int, input().split())\n",
        "\n",
        "result = 0\n",
        "\n",
        "while True:\n",
        "\ttarget = (n//k) *k # 7//3 *3 = 6 -> 가장가까운 나눠지는 수가 뭔지 알 수 있음\n",
        "\tresult += (n-target) # n = 7일 때 7-6 = 1 result\n",
        "\tn = target\n",
        "\n",
        "\tif n<k: # k = 3 n = 6으로 갱신됨. -> 2를 3으로 나눌 수 없으니 break되는 구조\n",
        "\t\tbreak\n",
        "\n",
        "\tresult +=1 #연산횟수 추가\n",
        "\tn//=k # 다시나누고 target n = 2로 갱신, result = 1\n",
        "\n",
        "result += (n-1) #한꺼번에 뺌\n",
        "print(result)"
      ],
      "metadata": {
        "colab": {
          "base_uri": "https://localhost:8080/"
        },
        "id": "NmPaFWeRrsa5",
        "outputId": "12294a58-af17-49d5-e5ed-2e5f3dd74972"
      },
      "execution_count": null,
      "outputs": [
        {
          "output_type": "stream",
          "name": "stdout",
          "text": [
            "3 5\n",
            "2\n"
          ]
        }
      ]
    },
    {
      "cell_type": "code",
      "source": [],
      "metadata": {
        "id": "llgUb-DVr6pw"
      },
      "execution_count": null,
      "outputs": []
    },
    {
      "cell_type": "markdown",
      "source": [
        "### 곱하기 혹은 더하기"
      ],
      "metadata": {
        "id": "jkJwmIUp82ef"
      }
    },
    {
      "cell_type": "markdown",
      "source": [
        "- 각자리가 0~9로만 이루어진 문자열 S가 주어졌을 때, 왼쪽부터 오른쪽으로 하나씩 모든 숫자를 확인하며 숫자 사이에 곱하기 또는 덧셈을 넣어 만들어질 수 있는 가장 큰수를 구하는 프로그램을 작성하세요\n",
        "- 단 +보다 곱셈을 먼저 계산하는 일반방식과는 달리 모든 연산은 왼쪽부터 순서대로 진행된다.\n",
        "- ex: 02984에서 가장 큰 수는 0+2 *9 *8 * 4 이다. 가장 큰수는 항상 20억 이하의 정수가 되도록 입력이 주어짐"
      ],
      "metadata": {
        "id": "Cbg9RXXh89px"
      }
    },
    {
      "cell_type": "markdown",
      "source": [
        "##### 브레인스토밍\n",
        "- 그리디 : 곱하기 횟수. 0제외 곱하면 무조건 이득임\n",
        "- 0이 몇개인지 셀까?\n",
        "- if로 0제외는 뒤에 곱하라하면되지않을까?"
      ],
      "metadata": {
        "id": "qu7lEZ2y90p7"
      }
    },
    {
      "cell_type": "code",
      "source": [
        "input_nums = input()\n",
        "nums = []\n",
        "total =  1\n",
        "\n",
        "# 0버리기\n",
        "for n in input_nums:\n",
        "  if n != '0':\n",
        "    n = int(n)\n",
        "    nums.append(n)\n",
        "  else:\n",
        "    continue\n",
        "\n",
        "# 곱하기\n",
        "for n in nums:\n",
        "  total *= n\n",
        "print(total)"
      ],
      "metadata": {
        "colab": {
          "base_uri": "https://localhost:8080/"
        },
        "id": "HmleQoaA84Ny",
        "outputId": "2619e668-6452-48e3-ecd0-40a3ea14a311"
      },
      "execution_count": null,
      "outputs": [
        {
          "output_type": "stream",
          "name": "stdout",
          "text": [
            "567\n",
            "210\n"
          ]
        }
      ]
    },
    {
      "cell_type": "markdown",
      "source": [
        "##### 유튜브정답\n",
        "- 곱하기 연산이 더 큼\n",
        "- 다만 0이나 ** 1인경우 ** 더하기가 낫다"
      ],
      "metadata": {
        "id": "PuKcILuxAeo9"
      }
    },
    {
      "cell_type": "code",
      "source": [
        "data = input()\n",
        "result = int(data[0]) #첫수는 그냥 대입\n",
        "\n",
        "for i in range(1, len(data)):\n",
        "  num = int(data[i]) #수로 바꾸고\n",
        "  if num <= 1 or result <= 1: #n이나 result가 0이나 !!! 1이면!!! 더해주기\n",
        "    result += num\n",
        "  else:\n",
        "    result *= num\n",
        "\n",
        "\n",
        "print(result)"
      ],
      "metadata": {
        "id": "fehO822C9_ot"
      },
      "execution_count": null,
      "outputs": []
    },
    {
      "cell_type": "markdown",
      "source": [
        "- 오답노트"
      ],
      "metadata": {
        "id": "nQY2sGL3Ba5R"
      }
    },
    {
      "cell_type": "code",
      "source": [
        "input_nums = input()\n",
        "nums = []\n",
        "\n",
        "# 0버리기\n",
        "for n in input_nums:\n",
        "  if n != '0':\n",
        "    n = int(n)\n",
        "    nums.append(n)\n",
        "  else:\n",
        "    continue\n",
        "\n",
        "# 첫데이터 그대로 넣어주고 시작\n",
        "total = int(nums[0])\n",
        "\n",
        "# 곱하기\n",
        "for i in range(1,len(nums)):\n",
        "  if total ==1 or nums[i]==1:\n",
        "    total += nums[i]\n",
        "  else:\n",
        "    total *= nums[i]\n",
        "\n",
        "print(total)"
      ],
      "metadata": {
        "colab": {
          "base_uri": "https://localhost:8080/"
        },
        "id": "q_aliupjBbgR",
        "outputId": "b40418f4-b03d-405a-f9f6-01ed8831f92d"
      },
      "execution_count": null,
      "outputs": [
        {
          "output_type": "stream",
          "name": "stdout",
          "text": [
            "02948\n",
            "576\n"
          ]
        }
      ]
    },
    {
      "cell_type": "markdown",
      "source": [
        "#### 자바코드"
      ],
      "metadata": {
        "id": "X6pakmgDCeht"
      }
    },
    {
      "cell_type": "markdown",
      "source": [
        "```\n",
        "import java.util.*;\n",
        "\n",
        "public class Main{\n",
        "  public static void main (String[] args){\n",
        "    Scanner sc = new Scanner(System.in);\n",
        "    String str = sc.next();\n",
        "\n",
        "    //첫문자를 숫자로 변경한 값으로 대입\n",
        "    long result = str.charAt(0) - '0';\n",
        "    for (int i = 1; i < str.length(); i++){\n",
        "      // 결과나 n이 0이나 1이면 더하기\n",
        "      int num = str.charAt(i) - '0';\n",
        "      if (num <=1 || result <=1 ){\n",
        "        result += num;}\n",
        "      else{\n",
        "        result *= num;}\n",
        "        }\n",
        "        System.out.println(result);\n",
        "        }\n",
        "}\n",
        "\n",
        "```"
      ],
      "metadata": {
        "id": "0agG9vZVChFh"
      }
    },
    {
      "cell_type": "code",
      "source": [],
      "metadata": {
        "id": "oOAGMvcfBv3P"
      },
      "execution_count": null,
      "outputs": []
    },
    {
      "cell_type": "markdown",
      "source": [
        "### 모험가 길드\n",
        "- 한마을에 모험가가 N명 있습니다. 길드에서는 N명의 모험가를 대상으로 공포도를 측정합니다. 공포도가 높은 모험가는 쉽게쫄아 위기대처 능력이 떨어집니다\n",
        "- 길드장 동빈이는 공포도가 X인 모험가는 반드시 X명이상으로 파티를 구성해야 퀘스트를 받을 수 있도록 했습니다\n",
        "- 동빈이는 길드에서 몇개의 그룹을 만들 수 있을지 궁금합니다. 모험가정보 N개가 주어지면 몇개의 그룹이 최대가 되는지 구하는 프로그램을 작성하시오"
      ],
      "metadata": {
        "id": "d8yoHiUIDnUL"
      }
    },
    {
      "cell_type": "markdown",
      "source": [
        "- N = 5고 2 3 1 2 2가 입력된다면 3인 모험가는 3명 -> 322 12이므로 두그룹이 최대\n",
        "- 몇명의 모험가는 남아있어도되기 때문에 모든 모험가가 떠날 필요는 없다"
      ],
      "metadata": {
        "id": "T3tX2lCVT0YB"
      }
    },
    {
      "cell_type": "markdown",
      "source": [
        "#### 내풀이\n",
        "- 그리디발상 :작은애들부터 묶는게 좋음"
      ],
      "metadata": {
        "id": "AQZchvDtVVU_"
      }
    },
    {
      "cell_type": "code",
      "source": [
        "N = int(input())\n",
        "info = input().split(' ')\n",
        "num_info = []\n",
        "\n",
        "for num in info:\n",
        "  num = int(num)\n",
        "  num_info.append(num)\n",
        "\n",
        "num_info.sort()\n",
        "\n"
      ],
      "metadata": {
        "id": "UExT8unXD9lU",
        "colab": {
          "base_uri": "https://localhost:8080/"
        },
        "outputId": "c4ed7edd-5ab8-4aa2-8083-60595f7f9db4"
      },
      "execution_count": null,
      "outputs": [
        {
          "name": "stdout",
          "output_type": "stream",
          "text": [
            "2\n",
            "19 17\n"
          ]
        },
        {
          "output_type": "execute_result",
          "data": {
            "text/plain": [
              "[17, 19]"
            ]
          },
          "metadata": {},
          "execution_count": 7
        }
      ]
    },
    {
      "cell_type": "markdown",
      "source": [
        "#### 이코테 풀이"
      ],
      "metadata": {
        "id": "JLXsuV0MW1AZ"
      }
    },
    {
      "cell_type": "code",
      "source": [
        "n = int(input())\n",
        "data = list(map(int, input().split()))\n",
        "data.sort()\n",
        "\n",
        "result = 0\n",
        "count = 0\n",
        "\n",
        "for i in data:\n",
        "  count+= 1\n",
        "  if count >= i:\n",
        "    result += 1\n",
        "    count = 0\n",
        "\n",
        "print(result)"
      ],
      "metadata": {
        "colab": {
          "base_uri": "https://localhost:8080/"
        },
        "id": "NGKpL_RuUMBi",
        "outputId": "b647e666-93cb-4f5b-afe5-39a0cf975fd2"
      },
      "execution_count": null,
      "outputs": [
        {
          "output_type": "stream",
          "name": "stdout",
          "text": [
            "3\n",
            "1 1 1\n",
            "3\n"
          ]
        }
      ]
    },
    {
      "cell_type": "code",
      "source": [],
      "metadata": {
        "id": "-yHjr32dW_pW"
      },
      "execution_count": null,
      "outputs": []
    },
    {
      "cell_type": "markdown",
      "source": [
        "## 0918 수요일: 구현 & 완전탐색\n",
        "- 구현이 어려운 문제유형을 구현문제라고 말함\n",
        "- 풀이는 알겠는데 코딩이 어려운 문제\n",
        "- 알고리즘은 간단한데 지나치게 긴 문제, 실수연산 및 특정 소수점까지 출력, 문자열 출력, 라이브러리 활용\n"
      ],
      "metadata": {
        "id": "MoB6RpoP3OaU"
      }
    },
    {
      "cell_type": "markdown",
      "source": [
        "### 구현 : 행렬"
      ],
      "metadata": {
        "id": "tHn5dZes5_lg"
      }
    },
    {
      "cell_type": "code",
      "source": [
        "for i in range(5):\n",
        "  for j in range(5):\n",
        "    print(f'({i}.{j})', end = ' ')\n",
        "    print()"
      ],
      "metadata": {
        "colab": {
          "base_uri": "https://localhost:8080/"
        },
        "id": "QVXLTA663P6Q",
        "outputId": "db2e281a-d3ab-4f8e-b2be-325714a6b654"
      },
      "execution_count": null,
      "outputs": [
        {
          "output_type": "stream",
          "name": "stdout",
          "text": [
            "(0.0) \n",
            "(0.1) \n",
            "(0.2) \n",
            "(0.3) \n",
            "(0.4) \n",
            "(1.0) \n",
            "(1.1) \n",
            "(1.2) \n",
            "(1.3) \n",
            "(1.4) \n",
            "(2.0) \n",
            "(2.1) \n",
            "(2.2) \n",
            "(2.3) \n",
            "(2.4) \n",
            "(3.0) \n",
            "(3.1) \n",
            "(3.2) \n",
            "(3.3) \n",
            "(3.4) \n",
            "(4.0) \n",
            "(4.1) \n",
            "(4.2) \n",
            "(4.3) \n",
            "(4.4) \n"
          ]
        }
      ]
    },
    {
      "cell_type": "markdown",
      "source": [
        "## 구현: 방항벡터"
      ],
      "metadata": {
        "id": "7np-zPCy6WLD"
      }
    },
    {
      "cell_type": "code",
      "source": [
        "#동 북 서 남\n",
        "dx = [0,-1,0,1]\n",
        "dy = [1,0,-1,0]\n",
        "# 현재 위치\n",
        "x,y = 2,2\n",
        "\n",
        "for i in range(4):\n",
        "  # 다음위치\n",
        "  nx = x + dx[i] # x축한칸\n",
        "  ny = y + dy[i] # y축한칸\n",
        "  print(nx,ny)"
      ],
      "metadata": {
        "colab": {
          "base_uri": "https://localhost:8080/"
        },
        "id": "clqoyIBv6MXT",
        "outputId": "f3292d37-dbb6-4e09-b6f9-9861206622ab"
      },
      "execution_count": null,
      "outputs": [
        {
          "output_type": "stream",
          "name": "stdout",
          "text": [
            "2 3\n",
            "1 2\n",
            "2 1\n",
            "3 2\n"
          ]
        }
      ]
    },
    {
      "cell_type": "markdown",
      "source": [
        "### 문제: 상하좌우 문제"
      ],
      "metadata": {
        "id": "e8qxVGwOKAZP"
      }
    },
    {
      "cell_type": "markdown",
      "source": [
        "- 여행가 A는 N*N 크기의 정사각형 공간 위에 서있습니다. 이 공간은 1x1 크기의 정사각형으로 나누어져있습니다. 가장 왼쪽 위 좌표는 (1,1)이며, 가장 오른쪽 좌표는 N,N에 해당합니다\n",
        "- 여행가는 상하좌우로 이동할 수 있으며 시작좌표는 항상 1,1입니다. 우리 앞에는 여행가 A가 이동할 계획이 적힌 계획서가 하나 놓여있습니다.\n",
        "- 하나의 띄어쓰기를 기준으로 LRUD가 반복적으로 적힌다. U는 위, D는 아래\n",
        "- 여행가 A가 NxN크기의 정사각형 공간을 벗어나는 움직임은 무시된다. 즉 1,1의 위치에서 L이나 U는 무시된다."
      ],
      "metadata": {
        "id": "hIAJFGJvKEj8"
      }
    },
    {
      "cell_type": "markdown",
      "source": [
        "- 첫째줄에 공간의 크기인 N이 주어진다\n",
        "- 이동 계획서는 내용이 주어집니다\n",
        "- 출력: 이동 후 좌표\n",
        "\n",
        "\n",
        "\n",
        "```\n",
        "5\n",
        "R R R U D D\n",
        "# 3 4\n",
        "```\n",
        "\n"
      ],
      "metadata": {
        "id": "6R8PTIqlK_Nm"
      }
    },
    {
      "cell_type": "markdown",
      "source": [
        "#### 모르겠어서 풀이봄\n",
        "- 대표 구현 문제 유형임\n",
        "- 시뮬레이션, 구현, 완전탐색 유형은 비슷한 유형이라고 보면 괜찮음"
      ],
      "metadata": {
        "id": "SUyyocv0Pdor"
      }
    },
    {
      "cell_type": "code",
      "source": [
        "n = int(input())\n",
        "x,y = 1,1\n",
        "plans = input().split()\n",
        "\n",
        "# L,R,U,D에 따른 이동방향\n",
        "dx = [0,0,-1,1]\n",
        "dy = [-1,1,0,0]\n",
        "move_types = ['L','R','U','D']\n",
        "\n",
        "for plan in plans:\n",
        "  for i in range(len(move_types)):\n",
        "    if plan == move_types[i]:\n",
        "      nx = x + dx[i]\n",
        "      ny = y + dy[i]\n",
        "\n",
        "  if nx < 1 or ny < 1 or nx > n or ny > n:\n",
        "    continue\n",
        "  x,y = nx,ny\n",
        "\n",
        "print(x,y)"
      ],
      "metadata": {
        "id": "K0rIPNUq6tfb",
        "colab": {
          "base_uri": "https://localhost:8080/"
        },
        "outputId": "2810f28d-eaef-42b5-b4c6-313d4799a07a"
      },
      "execution_count": null,
      "outputs": [
        {
          "output_type": "stream",
          "name": "stdout",
          "text": [
            "5\n",
            "R R R U D D\n",
            "3 4\n"
          ]
        }
      ]
    },
    {
      "cell_type": "markdown",
      "source": [
        "- 이해가 안가던 부분\n",
        "\n",
        "```\n",
        "# L,R,U,D에 따른 이동방향\n",
        "dx = [0,0,-1,1]\n",
        "dy = [-1,1,0,0]\n",
        "move_types = ['L','R','U','D']\n",
        "\n",
        "```\n",
        "\n",
        "- 기존에 알던 x,y축이 아니라 가는 순서가\n",
        "\n",
        "\n",
        "```\n",
        "(1,1) (1,2) (1,3)\n",
        "(2,1) (2,2) (2,3)\n",
        "```\n",
        "구조라 왼쪽이y가 -1이 움직이는 것. 즉 축이라 생각하면 안됨!\n",
        "\n"
      ],
      "metadata": {
        "id": "wjU6REDWVhti"
      }
    },
    {
      "cell_type": "markdown",
      "source": [
        "### 다시 내 풀이"
      ],
      "metadata": {
        "id": "RsNlk6atFl0g"
      }
    },
    {
      "cell_type": "code",
      "source": [
        "N = int(input())\n",
        "x,y = 1,1\n",
        "# L R U D\n",
        "dx = [0, 0, -1, +1]\n",
        "dy = [-1, 1, 0, 0]\n",
        "move_types = ['L','R','U','D']\n",
        "plan = input().split()\n",
        "\n",
        "for p in plan:\n",
        "  for j in range(len(move_types)):\n",
        "    if p == move_types[j]:\n",
        "      nx = x + dx[j]\n",
        "      ny = y + dy[j]\n",
        "      #print(dx[j], dy[j])\n",
        "\n",
        "    # 범위 안벗어나게 설정 -> 반복문 다 돌고 최종에만 판정하면된다고 생각\n",
        "    # 1보다 작으면 안됨 + N 보다 크면 안됨\n",
        "    if nx<1 or ny < 1 or nx > N or ny > N:\n",
        "      continue\n",
        "    x,y = nx,ny\n",
        "\n",
        "print(x,y)"
      ],
      "metadata": {
        "id": "fXREWxz-QHAT",
        "colab": {
          "base_uri": "https://localhost:8080/"
        },
        "outputId": "d704ff7d-7db6-4a13-f6e1-99fe35d8e455"
      },
      "execution_count": 14,
      "outputs": [
        {
          "output_type": "stream",
          "name": "stdout",
          "text": [
            "5\n",
            "R R R D D\n",
            "0 1\n",
            "0 1\n",
            "0 1\n",
            "1 0\n",
            "1 0\n",
            "3 4\n"
          ]
        }
      ]
    },
    {
      "cell_type": "code",
      "source": [],
      "metadata": {
        "colab": {
          "base_uri": "https://localhost:8080/"
        },
        "id": "Ur592wuuGvyb",
        "outputId": "509b4c4e-92e5-495c-ce8f-11c4c84e90ae"
      },
      "execution_count": 6,
      "outputs": [
        {
          "output_type": "execute_result",
          "data": {
            "text/plain": [
              "1"
            ]
          },
          "metadata": {},
          "execution_count": 6
        }
      ]
    },
    {
      "cell_type": "code",
      "source": [],
      "metadata": {
        "id": "WFqqpNIBHqCN"
      },
      "execution_count": null,
      "outputs": []
    }
  ]
}