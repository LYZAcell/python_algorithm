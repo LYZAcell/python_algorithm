{
  "nbformat": 4,
  "nbformat_minor": 0,
  "metadata": {
    "colab": {
      "provenance": [],
      "authorship_tag": "ABX9TyPpKyGyD9TLQjH12456Bmhc",
      "include_colab_link": true
    },
    "kernelspec": {
      "name": "python3",
      "display_name": "Python 3"
    },
    "language_info": {
      "name": "python"
    }
  },
  "cells": [
    {
      "cell_type": "markdown",
      "metadata": {
        "id": "view-in-github",
        "colab_type": "text"
      },
      "source": [
        "<a href=\"https://colab.research.google.com/github/LYZAcell/python_algorithm/blob/main/%EC%8B%B8%ED%94%BC_%EC%BD%94%ED%85%8C%EC%A4%80%EB%B9%84.ipynb\" target=\"_parent\"><img src=\"https://colab.research.google.com/assets/colab-badge.svg\" alt=\"Open In Colab\"/></a>"
      ]
    },
    {
      "cell_type": "markdown",
      "source": [
        "# 싸피준비 (11/20 예상)\n",
        "- 매주 수,토 22시\n",
        "- https://www.notion.so/259bf9a2ac404905966bbbef2943798a"
      ],
      "metadata": {
        "id": "Tg2Pytm_q_RW"
      }
    },
    {
      "cell_type": "markdown",
      "source": [
        "## 0911 수요일: 자료구조 정리\n"
      ],
      "metadata": {
        "id": "AtbgO4uQrLQC"
      }
    },
    {
      "cell_type": "markdown",
      "source": [
        "## 0914 토요일: 그리디 알고리즘"
      ],
      "metadata": {
        "id": "hd7mwEgLrR8V"
      }
    },
    {
      "cell_type": "markdown",
      "source": [
        "### 1. 거스름돈 문제\n",
        "\n",
        "- 자바풀이\n",
        "\n",
        "\n",
        "```\n",
        "public class Main {\n",
        "\tpublic static void main(String[] args){\n",
        "\t\tint n =1260;\n",
        "\t\tint cnt = 0;\n",
        "\t\tint[] coinTypes = {500,100,50,10};\n",
        "\n",
        "\t\tfor (int i = 0; i<4; i++){\n",
        "\t\t\tcnt += n/coinTypes[i];\n",
        "\t\t\tn%= coinTypes[i];\n",
        "\t\t\t}\n",
        "\t\t\tSystem.out.println(cnt);\n",
        "\t\t}\n",
        "\t}\n",
        "```\n",
        "\n",
        "\n"
      ],
      "metadata": {
        "id": "ZHkJUStNrakf"
      }
    },
    {
      "cell_type": "code",
      "execution_count": 1,
      "metadata": {
        "colab": {
          "base_uri": "https://localhost:8080/"
        },
        "id": "q1NWAmZxq88X",
        "outputId": "3c632800-a121-4bd2-ef8c-a203db0a9307"
      },
      "outputs": [
        {
          "output_type": "stream",
          "name": "stdout",
          "text": [
            "6\n"
          ]
        }
      ],
      "source": [
        "n = 1260\n",
        "count = 0\n",
        "array = [500, 100, 50, 10]\n",
        "\n",
        "for coin in array:\n",
        "\tcount += n // coin # 정수개수로 나누기\n",
        "\tn %= coin\n",
        "print(count)"
      ]
    },
    {
      "cell_type": "markdown",
      "source": [
        "### 2. 1이될때까지\n",
        "설명:  N이 1이될때까지 다음 두과정 중 하나를 반복적으로 선택하여 수행하려고 합니다. 단 두번째 연산은 N이 K로 나누어떨어질 때만 선택할 수  있습니다.\n",
        "\n",
        "1. N에서 1을 뺀다\n",
        "2. N을 K로 나눈다\n",
        "\n",
        "예를 들어 N = 17, K=4라면 1을 수행해 N=16. 이후 2를 수행해 N이 16/4 = 4 ⇒ 4/4 =1. 전체 실행횟수는 3이며 이는 N을 1로 만드는 최소횟수\n",
        "\n",
        "이와 같이 **N과 K가 주어질 때 N이 1이될때까지 1번 혹은 2번의 과정을 수행해야하는 최소횟수**를 구하는 프로그램을 작성하세요"
      ],
      "metadata": {
        "id": "HrBK1fiIrlU5"
      }
    },
    {
      "cell_type": "code",
      "source": [
        "# 내풀이\n",
        "N = int(input())\n",
        "K = int(input())\n",
        "calc = 0\n",
        "\n",
        "while N != 1:\n",
        "  # 나머지가 0일 시 2번 시행\n",
        "  if N % K ==0:\n",
        "    N  = N /K\n",
        "    calc += 1\n",
        "  # 나머지가 0이 아닐 시 1번 시행\n",
        "  elif N %K != 0:\n",
        "    N -= 1\n",
        "    calc += 1\n",
        "\n",
        "print(calc)"
      ],
      "metadata": {
        "colab": {
          "base_uri": "https://localhost:8080/"
        },
        "id": "ntlp0uw1rcXH",
        "outputId": "795da9b2-4da3-41df-dc7d-14de86a03d51"
      },
      "execution_count": 2,
      "outputs": [
        {
          "output_type": "stream",
          "name": "stdout",
          "text": [
            "3\n",
            "5\n",
            "2\n"
          ]
        }
      ]
    },
    {
      "cell_type": "markdown",
      "source": [
        "#### 문제 그리디로 풀기\n",
        "- idea: N을 나누는 것이 수가 가장 빠르게 줄어드는 길\n",
        "- 위의 내방법은 수가 적을 때는 괜찮지만 수가 크다면 느려질 수 있음\n",
        "- 아래의 방법은 while한번만 돌면 연산이 끝남.\n",
        "- 시간복잡도는 log시간복잡도"
      ],
      "metadata": {
        "id": "tJFcfpS7rxZl"
      }
    },
    {
      "cell_type": "code",
      "source": [
        "n,k = map(int, input().split())\n",
        "\n",
        "result = 0\n",
        "\n",
        "while True:\n",
        "\ttarget = (n//k) *k # 7//3 *3 = 6 -> 가장가까운 나눠지는 수가 뭔지 알 수 있음\n",
        "\tresult += (n-target) # n = 7일 때 7-6 = 1 result\n",
        "\tn = target\n",
        "\n",
        "\tif n<k: # k = 3 n = 6으로 갱신됨. -> 2를 3으로 나눌 수 없으니 break되는 구조\n",
        "\t\tbreak\n",
        "\n",
        "\tresult +=1 #연산횟수 추가\n",
        "\tn//=k # 다시나누고 target n = 2로 갱신, result = 1\n",
        "\n",
        "result += (n-1) #한꺼번에 뺌\n",
        "print(result)"
      ],
      "metadata": {
        "colab": {
          "base_uri": "https://localhost:8080/"
        },
        "id": "NmPaFWeRrsa5",
        "outputId": "12294a58-af17-49d5-e5ed-2e5f3dd74972"
      },
      "execution_count": 4,
      "outputs": [
        {
          "output_type": "stream",
          "name": "stdout",
          "text": [
            "3 5\n",
            "2\n"
          ]
        }
      ]
    },
    {
      "cell_type": "code",
      "source": [],
      "metadata": {
        "id": "llgUb-DVr6pw"
      },
      "execution_count": null,
      "outputs": []
    }
  ]
}