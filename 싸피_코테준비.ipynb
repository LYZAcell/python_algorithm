{
  "nbformat": 4,
  "nbformat_minor": 0,
  "metadata": {
    "colab": {
      "provenance": [],
      "collapsed_sections": [
        "ZHkJUStNrakf",
        "tJFcfpS7rxZl",
        "MoB6RpoP3OaU",
        "tHn5dZes5_lg"
      ],
      "authorship_tag": "ABX9TyPvV2buTJEA2fYBaE1HVcQa",
      "include_colab_link": true
    },
    "kernelspec": {
      "name": "python3",
      "display_name": "Python 3"
    },
    "language_info": {
      "name": "python"
    }
  },
  "cells": [
    {
      "cell_type": "markdown",
      "metadata": {
        "id": "view-in-github",
        "colab_type": "text"
      },
      "source": [
        "<a href=\"https://colab.research.google.com/github/LYZAcell/python_algorithm/blob/main/%EC%8B%B8%ED%94%BC_%EC%BD%94%ED%85%8C%EC%A4%80%EB%B9%84.ipynb\" target=\"_parent\"><img src=\"https://colab.research.google.com/assets/colab-badge.svg\" alt=\"Open In Colab\"/></a>"
      ]
    },
    {
      "cell_type": "markdown",
      "source": [
        "# 싸피준비 (11/20 예상)\n",
        "- 매주 수,토 22시\n",
        "- https://www.notion.so/259bf9a2ac404905966bbbef2943798a"
      ],
      "metadata": {
        "id": "Tg2Pytm_q_RW"
      }
    },
    {
      "cell_type": "markdown",
      "source": [
        "\n",
        "\n",
        "```\n",
        "# 기본 제공코드는 임의 수정해도 관계 없습니다. 단, 입출력 포맷 주의\n",
        "# 아래 표준 입출력 예제 필요시 참고하세요.\n",
        "\n",
        "# 표준 입력 예제\n",
        "'''\n",
        "a = int(input())                        정수형 변수 1개 입력 받는 예제\n",
        "b, c = map(int, input().split())        정수형 변수 2개 입력 받는 예제\n",
        "d = float(input())                      실수형 변수 1개 입력 받는 예제\n",
        "e, f, g = map(float, input().split())   실수형 변수 3개 입력 받는 예제\n",
        "h = input()                             문자열 변수 1개 입력 받는 예제\n",
        "'''\n",
        "\n",
        "# 표준 출력 예제\n",
        "'''\n",
        "a, b = 6, 3\n",
        "c, d, e = 1.0, 2.5, 3.4\n",
        "f = \"ABC\"\n",
        "print(a)                                정수형 변수 1개 출력하는 예제\n",
        "print(b, end = \" \")                     줄바꿈 하지 않고 정수형 변수와 공백을 출력하는 예제\n",
        "print(c, d, e)                          실수형 변수 3개 출력하는 예제\n",
        "print(f)                                문자열 1개 출력하는 예제\n",
        "'''\n",
        "\n",
        "\n",
        "\n",
        "\n",
        "'''\n",
        "아래의 구문은 input.txt 를 read only 형식으로 연 후,\n",
        "앞으로 표준 입력(키보드) 대신 input.txt 파일로부터 읽어오겠다는 의미의 코드입니다.\n",
        "여러분이 작성한 코드를 테스트 할 때, 편의를 위해서 input.txt에 입력을 저장한 후,\n",
        "아래 구문을 이용하면 이후 입력을 수행할 때 표준 입력 대신 파일로부터 입력을 받아올 수 있습니다.\n",
        "따라서 테스트를 수행할 때에는 아래 주석을 지우고 이 구문을 사용하셔도 좋습니다.\n",
        "아래 구문을 사용하기 위해서는 import sys가 필요합니다.\n",
        "단, 채점을 위해 코드를 제출하실 때에는 반드시 아래 구문을 지우거나 주석 처리 하셔야 합니다.\n",
        "'''\n",
        "#import sys\n",
        "#sys.stdin = open(\"input.txt\", \"r\")\n",
        "\n",
        "T = int(input())\n",
        "# 여러개의 테스트 케이스가 주어지므로, 각각을 처리합니다.\n",
        "for test_case in range(1, T + 1):\n",
        "    # ///////////////////////////////////////////////////////////////////////////////////\n",
        "    '''\n",
        "\n",
        "        이 부분에 여러분의 알고리즘 구현이 들어갑니다.\n",
        "\n",
        "    '''\n",
        "    # ///////////////////////////////////////////////////////////////////////////////////\n",
        "\n",
        "```\n",
        "\n"
      ],
      "metadata": {
        "id": "mGLw23azm-ID"
      }
    },
    {
      "cell_type": "markdown",
      "source": [
        "## 0911 수요일: 자료구조 정리\n"
      ],
      "metadata": {
        "id": "AtbgO4uQrLQC"
      }
    },
    {
      "cell_type": "markdown",
      "source": [
        "## 0914 토요일: 그리디 알고리즘"
      ],
      "metadata": {
        "id": "hd7mwEgLrR8V"
      }
    },
    {
      "cell_type": "markdown",
      "source": [
        "### 1. 거스름돈 문제\n",
        "\n",
        "\n"
      ],
      "metadata": {
        "id": "ZHkJUStNrakf"
      }
    },
    {
      "cell_type": "markdown",
      "source": [
        "\n",
        "- 자바풀이\n",
        "\n",
        "\n",
        "```\n",
        "public class Main {\n",
        "\tpublic static void main(String[] args){\n",
        "\t\tint n =1260;\n",
        "\t\tint cnt = 0;\n",
        "\t\tint[] coinTypes = {500,100,50,10};\n",
        "\n",
        "\t\tfor (int i = 0; i<4; i++){\n",
        "\t\t\tcnt += n/coinTypes[i];\n",
        "\t\t\tn%= coinTypes[i];\n",
        "\t\t\t}\n",
        "\t\t\tSystem.out.println(cnt);\n",
        "\t\t}\n",
        "\t}\n",
        "```"
      ],
      "metadata": {
        "id": "tJUg6S118zo0"
      }
    },
    {
      "cell_type": "code",
      "execution_count": null,
      "metadata": {
        "colab": {
          "base_uri": "https://localhost:8080/"
        },
        "id": "q1NWAmZxq88X",
        "outputId": "3c632800-a121-4bd2-ef8c-a203db0a9307"
      },
      "outputs": [
        {
          "output_type": "stream",
          "name": "stdout",
          "text": [
            "6\n"
          ]
        }
      ],
      "source": [
        "n = 1260\n",
        "count = 0\n",
        "array = [500, 100, 50, 10]\n",
        "\n",
        "for coin in array:\n",
        "\tcount += n // coin # 정수개수로 나누기\n",
        "\tn %= coin\n",
        "print(count)"
      ]
    },
    {
      "cell_type": "markdown",
      "source": [
        "### 2. 1이될때까지\n",
        "설명:  N이 1이될때까지 다음 두과정 중 하나를 반복적으로 선택하여 수행하려고 합니다. 단 두번째 연산은 N이 K로 나누어떨어질 때만 선택할 수  있습니다.\n",
        "\n",
        "1. N에서 1을 뺀다\n",
        "2. N을 K로 나눈다\n",
        "\n",
        "예를 들어 N = 17, K=4라면 1을 수행해 N=16. 이후 2를 수행해 N이 16/4 = 4 ⇒ 4/4 =1. 전체 실행횟수는 3이며 이는 N을 1로 만드는 최소횟수\n",
        "\n",
        "이와 같이 **N과 K가 주어질 때 N이 1이될때까지 1번 혹은 2번의 과정을 수행해야하는 최소횟수**를 구하는 프로그램을 작성하세요"
      ],
      "metadata": {
        "id": "HrBK1fiIrlU5"
      }
    },
    {
      "cell_type": "code",
      "source": [
        "# 내풀이\n",
        "N = int(input())\n",
        "K = int(input())\n",
        "calc = 0\n",
        "\n",
        "while N != 1:\n",
        "  # 나머지가 0일 시 2번 시행\n",
        "  if N % K ==0:\n",
        "    N  = N /K\n",
        "    calc += 1\n",
        "  # 나머지가 0이 아닐 시 1번 시행\n",
        "  elif N %K != 0:\n",
        "    N -= 1\n",
        "    calc += 1\n",
        "\n",
        "print(calc)"
      ],
      "metadata": {
        "colab": {
          "base_uri": "https://localhost:8080/"
        },
        "id": "ntlp0uw1rcXH",
        "outputId": "795da9b2-4da3-41df-dc7d-14de86a03d51"
      },
      "execution_count": null,
      "outputs": [
        {
          "output_type": "stream",
          "name": "stdout",
          "text": [
            "3\n",
            "5\n",
            "2\n"
          ]
        }
      ]
    },
    {
      "cell_type": "markdown",
      "source": [
        "#### 문제 그리디로 풀기\n",
        "- idea: N을 나누는 것이 수가 가장 빠르게 줄어드는 길\n",
        "- 위의 내방법은 수가 적을 때는 괜찮지만 수가 크다면 느려질 수 있음\n",
        "- 아래의 방법은 while한번만 돌면 연산이 끝남.\n",
        "- 시간복잡도는 log시간복잡도"
      ],
      "metadata": {
        "id": "tJFcfpS7rxZl"
      }
    },
    {
      "cell_type": "code",
      "source": [
        "n,k = map(int, input().split())\n",
        "\n",
        "result = 0\n",
        "\n",
        "while True:\n",
        "\ttarget = (n//k) *k # 7//3 *3 = 6 -> 가장가까운 나눠지는 수가 뭔지 알 수 있음\n",
        "\tresult += (n-target) # n = 7일 때 7-6 = 1 result\n",
        "\tn = target\n",
        "\n",
        "\tif n<k: # k = 3 n = 6으로 갱신됨. -> 2를 3으로 나눌 수 없으니 break되는 구조\n",
        "\t\tbreak\n",
        "\n",
        "\tresult +=1 #연산횟수 추가\n",
        "\tn//=k # 다시나누고 target n = 2로 갱신, result = 1\n",
        "\n",
        "result += (n-1) #한꺼번에 뺌\n",
        "print(result)"
      ],
      "metadata": {
        "colab": {
          "base_uri": "https://localhost:8080/"
        },
        "id": "NmPaFWeRrsa5",
        "outputId": "12294a58-af17-49d5-e5ed-2e5f3dd74972"
      },
      "execution_count": null,
      "outputs": [
        {
          "output_type": "stream",
          "name": "stdout",
          "text": [
            "3 5\n",
            "2\n"
          ]
        }
      ]
    },
    {
      "cell_type": "code",
      "source": [],
      "metadata": {
        "id": "llgUb-DVr6pw"
      },
      "execution_count": null,
      "outputs": []
    },
    {
      "cell_type": "markdown",
      "source": [
        "### 곱하기 혹은 더하기"
      ],
      "metadata": {
        "id": "jkJwmIUp82ef"
      }
    },
    {
      "cell_type": "markdown",
      "source": [
        "- 각자리가 0~9로만 이루어진 문자열 S가 주어졌을 때, 왼쪽부터 오른쪽으로 하나씩 모든 숫자를 확인하며 숫자 사이에 곱하기 또는 덧셈을 넣어 만들어질 수 있는 가장 큰수를 구하는 프로그램을 작성하세요\n",
        "- 단 +보다 곱셈을 먼저 계산하는 일반방식과는 달리 모든 연산은 왼쪽부터 순서대로 진행된다.\n",
        "- ex: 02984에서 가장 큰 수는 0+2 *9 *8 * 4 이다. 가장 큰수는 항상 20억 이하의 정수가 되도록 입력이 주어짐"
      ],
      "metadata": {
        "id": "Cbg9RXXh89px"
      }
    },
    {
      "cell_type": "markdown",
      "source": [
        "##### 브레인스토밍\n",
        "- 그리디 : 곱하기 횟수. 0제외 곱하면 무조건 이득임\n",
        "- 0이 몇개인지 셀까?\n",
        "- if로 0제외는 뒤에 곱하라하면되지않을까?"
      ],
      "metadata": {
        "id": "qu7lEZ2y90p7"
      }
    },
    {
      "cell_type": "code",
      "source": [
        "input_nums = input()\n",
        "nums = []\n",
        "total =  1\n",
        "\n",
        "# 0버리기\n",
        "for n in input_nums:\n",
        "  if n != '0':\n",
        "    n = int(n)\n",
        "    nums.append(n)\n",
        "  else:\n",
        "    continue\n",
        "\n",
        "# 곱하기\n",
        "for n in nums:\n",
        "  total *= n\n",
        "print(total)"
      ],
      "metadata": {
        "colab": {
          "base_uri": "https://localhost:8080/"
        },
        "id": "HmleQoaA84Ny",
        "outputId": "2619e668-6452-48e3-ecd0-40a3ea14a311"
      },
      "execution_count": null,
      "outputs": [
        {
          "output_type": "stream",
          "name": "stdout",
          "text": [
            "567\n",
            "210\n"
          ]
        }
      ]
    },
    {
      "cell_type": "markdown",
      "source": [
        "##### 유튜브정답\n",
        "- 곱하기 연산이 더 큼\n",
        "- 다만 0이나 ** 1인경우 ** 더하기가 낫다"
      ],
      "metadata": {
        "id": "PuKcILuxAeo9"
      }
    },
    {
      "cell_type": "code",
      "source": [
        "data = input()\n",
        "result = int(data[0]) #첫수는 그냥 대입\n",
        "\n",
        "for i in range(1, len(data)):\n",
        "  num = int(data[i]) #수로 바꾸고\n",
        "  if num <= 1 or result <= 1: #n이나 result가 0이나 !!! 1이면!!! 더해주기\n",
        "    result += num\n",
        "  else:\n",
        "    result *= num\n",
        "\n",
        "\n",
        "print(result)"
      ],
      "metadata": {
        "id": "fehO822C9_ot"
      },
      "execution_count": null,
      "outputs": []
    },
    {
      "cell_type": "markdown",
      "source": [
        "- 오답노트"
      ],
      "metadata": {
        "id": "nQY2sGL3Ba5R"
      }
    },
    {
      "cell_type": "code",
      "source": [
        "input_nums = input()\n",
        "nums = []\n",
        "\n",
        "# 0버리기\n",
        "for n in input_nums:\n",
        "  if n != '0':\n",
        "    n = int(n)\n",
        "    nums.append(n)\n",
        "  else:\n",
        "    continue\n",
        "\n",
        "# 첫데이터 그대로 넣어주고 시작\n",
        "total = int(nums[0])\n",
        "\n",
        "# 곱하기\n",
        "for i in range(1,len(nums)):\n",
        "  if total ==1 or nums[i]==1:\n",
        "    total += nums[i]\n",
        "  else:\n",
        "    total *= nums[i]\n",
        "\n",
        "print(total)"
      ],
      "metadata": {
        "colab": {
          "base_uri": "https://localhost:8080/"
        },
        "id": "q_aliupjBbgR",
        "outputId": "b40418f4-b03d-405a-f9f6-01ed8831f92d"
      },
      "execution_count": null,
      "outputs": [
        {
          "output_type": "stream",
          "name": "stdout",
          "text": [
            "02948\n",
            "576\n"
          ]
        }
      ]
    },
    {
      "cell_type": "markdown",
      "source": [
        "#### 자바코드"
      ],
      "metadata": {
        "id": "X6pakmgDCeht"
      }
    },
    {
      "cell_type": "markdown",
      "source": [
        "```\n",
        "import java.util.*;\n",
        "\n",
        "public class Main{\n",
        "  public static void main (String[] args){\n",
        "    Scanner sc = new Scanner(System.in);\n",
        "    String str = sc.next();\n",
        "\n",
        "    //첫문자를 숫자로 변경한 값으로 대입\n",
        "    long result = str.charAt(0) - '0';\n",
        "    for (int i = 1; i < str.length(); i++){\n",
        "      // 결과나 n이 0이나 1이면 더하기\n",
        "      int num = str.charAt(i) - '0';\n",
        "      if (num <=1 || result <=1 ){\n",
        "        result += num;}\n",
        "      else{\n",
        "        result *= num;}\n",
        "        }\n",
        "        System.out.println(result);\n",
        "        }\n",
        "}\n",
        "\n",
        "```"
      ],
      "metadata": {
        "id": "0agG9vZVChFh"
      }
    },
    {
      "cell_type": "code",
      "source": [],
      "metadata": {
        "id": "oOAGMvcfBv3P"
      },
      "execution_count": null,
      "outputs": []
    },
    {
      "cell_type": "markdown",
      "source": [
        "### 모험가 길드\n",
        "- 한마을에 모험가가 N명 있습니다. 길드에서는 N명의 모험가를 대상으로 공포도를 측정합니다. 공포도가 높은 모험가는 쉽게쫄아 위기대처 능력이 떨어집니다\n",
        "- 길드장 동빈이는 공포도가 X인 모험가는 반드시 X명이상으로 파티를 구성해야 퀘스트를 받을 수 있도록 했습니다\n",
        "- 동빈이는 길드에서 몇개의 그룹을 만들 수 있을지 궁금합니다. 모험가정보 N개가 주어지면 몇개의 그룹이 최대가 되는지 구하는 프로그램을 작성하시오"
      ],
      "metadata": {
        "id": "d8yoHiUIDnUL"
      }
    },
    {
      "cell_type": "markdown",
      "source": [
        "- N = 5고 2 3 1 2 2가 입력된다면 3인 모험가는 3명 -> 322 12이므로 두그룹이 최대\n",
        "- 몇명의 모험가는 남아있어도되기 때문에 모든 모험가가 떠날 필요는 없다"
      ],
      "metadata": {
        "id": "T3tX2lCVT0YB"
      }
    },
    {
      "cell_type": "markdown",
      "source": [
        "#### 내풀이\n",
        "- 그리디발상 :작은애들부터 묶는게 좋음"
      ],
      "metadata": {
        "id": "AQZchvDtVVU_"
      }
    },
    {
      "cell_type": "code",
      "source": [
        "N = int(input())\n",
        "info = input().split(' ')\n",
        "num_info = []\n",
        "\n",
        "for num in info:\n",
        "  num = int(num)\n",
        "  num_info.append(num)\n",
        "\n",
        "num_info.sort()\n",
        "\n"
      ],
      "metadata": {
        "id": "UExT8unXD9lU",
        "colab": {
          "base_uri": "https://localhost:8080/"
        },
        "outputId": "c4ed7edd-5ab8-4aa2-8083-60595f7f9db4"
      },
      "execution_count": null,
      "outputs": [
        {
          "name": "stdout",
          "output_type": "stream",
          "text": [
            "2\n",
            "19 17\n"
          ]
        },
        {
          "output_type": "execute_result",
          "data": {
            "text/plain": [
              "[17, 19]"
            ]
          },
          "metadata": {},
          "execution_count": 7
        }
      ]
    },
    {
      "cell_type": "markdown",
      "source": [
        "#### 이코테 풀이"
      ],
      "metadata": {
        "id": "JLXsuV0MW1AZ"
      }
    },
    {
      "cell_type": "code",
      "source": [
        "n = int(input())\n",
        "data = list(map(int, input().split()))\n",
        "data.sort()\n",
        "\n",
        "result = 0\n",
        "count = 0\n",
        "\n",
        "for i in data:\n",
        "  count+= 1\n",
        "  if count >= i:\n",
        "    result += 1\n",
        "    count = 0\n",
        "\n",
        "print(result)"
      ],
      "metadata": {
        "colab": {
          "base_uri": "https://localhost:8080/"
        },
        "id": "NGKpL_RuUMBi",
        "outputId": "b647e666-93cb-4f5b-afe5-39a0cf975fd2"
      },
      "execution_count": null,
      "outputs": [
        {
          "output_type": "stream",
          "name": "stdout",
          "text": [
            "3\n",
            "1 1 1\n",
            "3\n"
          ]
        }
      ]
    },
    {
      "cell_type": "code",
      "source": [],
      "metadata": {
        "id": "-yHjr32dW_pW"
      },
      "execution_count": null,
      "outputs": []
    },
    {
      "cell_type": "markdown",
      "source": [
        "## 0918 수요일: 구현 & 완전탐색\n",
        "- 구현이 어려운 문제유형을 구현문제라고 말함\n",
        "- 풀이는 알겠는데 코딩이 어려운 문제\n",
        "- 알고리즘은 간단한데 지나치게 긴 문제, 실수연산 및 특정 소수점까지 출력, 문자열 출력, 라이브러리 활용\n"
      ],
      "metadata": {
        "id": "MoB6RpoP3OaU"
      }
    },
    {
      "cell_type": "markdown",
      "source": [
        "### 구현 : 행렬"
      ],
      "metadata": {
        "id": "tHn5dZes5_lg"
      }
    },
    {
      "cell_type": "code",
      "source": [
        "for i in range(5):\n",
        "  for j in range(5):\n",
        "    print(f'({i}.{j})', end = ' ')\n",
        "    print()"
      ],
      "metadata": {
        "colab": {
          "base_uri": "https://localhost:8080/"
        },
        "id": "QVXLTA663P6Q",
        "outputId": "db2e281a-d3ab-4f8e-b2be-325714a6b654"
      },
      "execution_count": null,
      "outputs": [
        {
          "output_type": "stream",
          "name": "stdout",
          "text": [
            "(0.0) \n",
            "(0.1) \n",
            "(0.2) \n",
            "(0.3) \n",
            "(0.4) \n",
            "(1.0) \n",
            "(1.1) \n",
            "(1.2) \n",
            "(1.3) \n",
            "(1.4) \n",
            "(2.0) \n",
            "(2.1) \n",
            "(2.2) \n",
            "(2.3) \n",
            "(2.4) \n",
            "(3.0) \n",
            "(3.1) \n",
            "(3.2) \n",
            "(3.3) \n",
            "(3.4) \n",
            "(4.0) \n",
            "(4.1) \n",
            "(4.2) \n",
            "(4.3) \n",
            "(4.4) \n"
          ]
        }
      ]
    },
    {
      "cell_type": "markdown",
      "source": [
        "### 구현: 방항벡터"
      ],
      "metadata": {
        "id": "7np-zPCy6WLD"
      }
    },
    {
      "cell_type": "code",
      "source": [
        "#동 북 서 남\n",
        "dx = [0,-1,0,1]\n",
        "dy = [1,0,-1,0]\n",
        "# 현재 위치\n",
        "x,y = 2,2\n",
        "\n",
        "for i in range(4):\n",
        "  # 다음위치\n",
        "  nx = x + dx[i] # x축한칸\n",
        "  ny = y + dy[i] # y축한칸\n",
        "  print(nx,ny)"
      ],
      "metadata": {
        "colab": {
          "base_uri": "https://localhost:8080/"
        },
        "id": "clqoyIBv6MXT",
        "outputId": "f3292d37-dbb6-4e09-b6f9-9861206622ab"
      },
      "execution_count": null,
      "outputs": [
        {
          "output_type": "stream",
          "name": "stdout",
          "text": [
            "2 3\n",
            "1 2\n",
            "2 1\n",
            "3 2\n"
          ]
        }
      ]
    },
    {
      "cell_type": "markdown",
      "source": [
        "### 문제: 상하좌우 문제"
      ],
      "metadata": {
        "id": "e8qxVGwOKAZP"
      }
    },
    {
      "cell_type": "markdown",
      "source": [
        "- 여행가 A는 N*N 크기의 정사각형 공간 위에 서있습니다. 이 공간은 1x1 크기의 정사각형으로 나누어져있습니다. 가장 왼쪽 위 좌표는 (1,1)이며, 가장 오른쪽 좌표는 N,N에 해당합니다\n",
        "- 여행가는 상하좌우로 이동할 수 있으며 시작좌표는 항상 1,1입니다. 우리 앞에는 여행가 A가 이동할 계획이 적힌 계획서가 하나 놓여있습니다.\n",
        "- 하나의 띄어쓰기를 기준으로 LRUD가 반복적으로 적힌다. U는 위, D는 아래\n",
        "- 여행가 A가 NxN크기의 정사각형 공간을 벗어나는 움직임은 무시된다. 즉 1,1의 위치에서 L이나 U는 무시된다."
      ],
      "metadata": {
        "id": "hIAJFGJvKEj8"
      }
    },
    {
      "cell_type": "markdown",
      "source": [
        "- 첫째줄에 공간의 크기인 N이 주어진다\n",
        "- 이동 계획서는 내용이 주어집니다\n",
        "- 출력: 이동 후 좌표\n",
        "\n",
        "\n",
        "\n",
        "```\n",
        "5\n",
        "R R R U D D\n",
        "# 3 4\n",
        "```\n",
        "\n"
      ],
      "metadata": {
        "id": "6R8PTIqlK_Nm"
      }
    },
    {
      "cell_type": "markdown",
      "source": [
        "#### 모르겠어서 풀이봄\n",
        "- 대표 구현 문제 유형임\n",
        "- 시뮬레이션, 구현, 완전탐색 유형은 비슷한 유형이라고 보면 괜찮음"
      ],
      "metadata": {
        "id": "SUyyocv0Pdor"
      }
    },
    {
      "cell_type": "code",
      "source": [
        "n = int(input())\n",
        "x,y = 1,1\n",
        "plans = input().split()\n",
        "\n",
        "# L,R,U,D에 따른 이동방향\n",
        "dx = [0,0,-1,1]\n",
        "dy = [-1,1,0,0]\n",
        "move_types = ['L','R','U','D']\n",
        "\n",
        "for plan in plans:\n",
        "  for i in range(len(move_types)):\n",
        "    if plan == move_types[i]:\n",
        "      nx = x + dx[i]\n",
        "      ny = y + dy[i]\n",
        "\n",
        "  if nx < 1 or ny < 1 or nx > n or ny > n:\n",
        "    continue\n",
        "  x,y = nx,ny\n",
        "\n",
        "print(x,y)"
      ],
      "metadata": {
        "id": "K0rIPNUq6tfb",
        "colab": {
          "base_uri": "https://localhost:8080/"
        },
        "outputId": "2810f28d-eaef-42b5-b4c6-313d4799a07a"
      },
      "execution_count": null,
      "outputs": [
        {
          "output_type": "stream",
          "name": "stdout",
          "text": [
            "5\n",
            "R R R U D D\n",
            "3 4\n"
          ]
        }
      ]
    },
    {
      "cell_type": "markdown",
      "source": [
        "- 이해가 안가던 부분\n",
        "\n",
        "```\n",
        "# L,R,U,D에 따른 이동방향\n",
        "dx = [0,0,-1,1]\n",
        "dy = [-1,1,0,0]\n",
        "move_types = ['L','R','U','D']\n",
        "\n",
        "```\n",
        "\n",
        "- 기존에 알던 x,y축이 아니라 가는 순서가\n",
        "\n",
        "\n",
        "```\n",
        "(1,1) (1,2) (1,3)\n",
        "(2,1) (2,2) (2,3)\n",
        "```\n",
        "구조라 왼쪽이y가 -1이 움직이는 것. 즉 축이라 생각하면 안됨!\n",
        "\n"
      ],
      "metadata": {
        "id": "wjU6REDWVhti"
      }
    },
    {
      "cell_type": "markdown",
      "source": [
        "#### 다시 내 풀이"
      ],
      "metadata": {
        "id": "RsNlk6atFl0g"
      }
    },
    {
      "cell_type": "code",
      "source": [
        "N = int(input())\n",
        "x,y = 1,1\n",
        "# L R U D\n",
        "dx = [0, 0, -1, +1]\n",
        "dy = [-1, 1, 0, 0]\n",
        "move_types = ['L','R','U','D']\n",
        "plan = input().split()\n",
        "\n",
        "for p in plan:\n",
        "  for j in range(len(move_types)):\n",
        "    if p == move_types[j]:\n",
        "      nx = x + dx[j]\n",
        "      ny = y + dy[j]\n",
        "      #print(dx[j], dy[j])\n",
        "\n",
        "    # 범위 안벗어나게 설정 -> 반복문 다 돌고 최종에만 판정하면된다고 생각\n",
        "    # 1보다 작으면 안됨 + N 보다 크면 안됨\n",
        "    if nx<1 or ny < 1 or nx > N or ny > N:\n",
        "      continue\n",
        "    x,y = nx,ny\n",
        "\n",
        "print(x,y)"
      ],
      "metadata": {
        "id": "fXREWxz-QHAT",
        "colab": {
          "base_uri": "https://localhost:8080/"
        },
        "outputId": "d704ff7d-7db6-4a13-f6e1-99fe35d8e455"
      },
      "execution_count": null,
      "outputs": [
        {
          "output_type": "stream",
          "name": "stdout",
          "text": [
            "5\n",
            "R R R D D\n",
            "0 1\n",
            "0 1\n",
            "0 1\n",
            "1 0\n",
            "1 0\n",
            "3 4\n"
          ]
        }
      ]
    },
    {
      "cell_type": "code",
      "source": [],
      "metadata": {
        "colab": {
          "base_uri": "https://localhost:8080/"
        },
        "id": "Ur592wuuGvyb",
        "outputId": "509b4c4e-92e5-495c-ce8f-11c4c84e90ae"
      },
      "execution_count": null,
      "outputs": [
        {
          "output_type": "execute_result",
          "data": {
            "text/plain": [
              "1"
            ]
          },
          "metadata": {},
          "execution_count": 6
        }
      ]
    },
    {
      "cell_type": "code",
      "source": [],
      "metadata": {
        "id": "WFqqpNIBHqCN"
      },
      "execution_count": null,
      "outputs": []
    },
    {
      "cell_type": "markdown",
      "source": [
        "### 구현문제: 시각\n",
        "- 정수 N이 입력되면 00시00분 00 초부터 N시 59분 59초까지 모든 시각 중에서 3이 하나라도 포함되는 모든 경우의 수를 구하는 프로그램"
      ],
      "metadata": {
        "id": "2V__1nKfwlVN"
      }
    },
    {
      "cell_type": "markdown",
      "source": [
        "- 예를 들어 1을 입력했을 때 다음은 3이 하나라도 포함되어있으니 세어야하는 시각\n",
        "  - 00시 00분 03초, 00시 13분 30초\n",
        "- 세면 안되는 시각 :2분 55초, 1시 27분 45초\n",
        "- 첫줄에 정수 N 입력, 출력은 경우의 수"
      ],
      "metadata": {
        "id": "qKGH1Os-wvYB"
      }
    },
    {
      "cell_type": "markdown",
      "source": [
        "#### 내 풀이\n",
        "- 아이디어: 0 0 0으로 넣고 1씩 더함.\n",
        "- hour <= N이어야함\n",
        "- hour = 3의배수면 cnt += 1\n",
        "- hour이 아니면 mins을 검사해서 3이 들어가면 +=1\n",
        "  - 3이들어가는 mins : 3, 13, 23, 33, 43, 53,30~39\n",
        "- 아니면 sec에서 3검사\n",
        "- 단위를 인덱스로 나눠서 3이 있는지 검사"
      ],
      "metadata": {
        "id": "30PBgXfYxSvK"
      }
    },
    {
      "cell_type": "code",
      "source": [
        "N = int(input())\n",
        "hour, min, sec = 0, 0, 0\n",
        "cnt = 0\n",
        "\n",
        "while hour <= N :\n",
        "  if hour == 3 or 13 or 23:\n",
        "    cnt += 60\n",
        "    hour += 1\n",
        "    print(cnt)\n",
        "  elif min == 3 or 13 or 23 or 30 or 31 or 32 or 33 or 34 or 35 or 36 or 37 or 38 or 39 or 43 or 53:\n",
        "    cnt += 60\n",
        "    min += 1\n",
        "    print(cnt)\n",
        "  elif sec == 3 or 13 or 23 or 30 or 31 or 32 or 33 or 34 or 35 or 36 or 37 or 38 or 39 or 43 or 53:\n",
        "    cnt += 1\n",
        "    sec += 1\n",
        "    print(cnt)\n",
        "print(cnt)"
      ],
      "metadata": {
        "colab": {
          "base_uri": "https://localhost:8080/"
        },
        "id": "fIqpjXYOwuxw",
        "outputId": "7b9e9e1f-49da-48a8-a076-f07206ddc389"
      },
      "execution_count": null,
      "outputs": [
        {
          "output_type": "stream",
          "name": "stdout",
          "text": [
            "5\n",
            "60\n",
            "120\n",
            "180\n",
            "240\n",
            "300\n",
            "360\n",
            "360\n"
          ]
        }
      ]
    },
    {
      "cell_type": "markdown",
      "source": [
        "#### 못품 : 풀이보기\n",
        "- 완전한 모든 탐색. 86400초를 다 세면 됨 (Brute Forcing)"
      ],
      "metadata": {
        "id": "dChtd4oR03B6"
      }
    },
    {
      "cell_type": "code",
      "source": [
        "h= int(input())\n",
        "count = 0\n",
        "\n",
        "for i in range(h+1):\n",
        "  for j in range(60):\n",
        "    for k in range(60):\n",
        "      if '3' in str(i) + str(j) + str(k):\n",
        "        count += 1\n",
        "\n",
        "print(count)"
      ],
      "metadata": {
        "colab": {
          "base_uri": "https://localhost:8080/"
        },
        "id": "_3JRhGKgyHGj",
        "outputId": "9bf9d274-6c17-40ea-e6ce-ebc718052385"
      },
      "execution_count": null,
      "outputs": [
        {
          "output_type": "stream",
          "name": "stdout",
          "text": [
            "5\n",
            "11475\n"
          ]
        }
      ]
    },
    {
      "cell_type": "code",
      "source": [
        "hour = int(input())\n",
        "cnt = 0\n",
        "\n",
        "for h in range(hour + 1):\n",
        "  for m in range(60):\n",
        "    for s in range(60):\n",
        "      clock = str(h) + str(m)+ str(s)\n",
        "      if '3' in clock:\n",
        "        cnt += 1\n",
        "\n",
        "print(cnt)"
      ],
      "metadata": {
        "colab": {
          "base_uri": "https://localhost:8080/"
        },
        "id": "a4kdTfxs1an-",
        "outputId": "68cf2df4-1e08-45ce-8972-76b58dcc1740"
      },
      "execution_count": null,
      "outputs": [
        {
          "output_type": "stream",
          "name": "stdout",
          "text": [
            "5\n",
            "11475\n"
          ]
        }
      ]
    },
    {
      "cell_type": "code",
      "source": [],
      "metadata": {
        "id": "7VeKn1OK9u95"
      },
      "execution_count": null,
      "outputs": []
    },
    {
      "cell_type": "markdown",
      "source": [
        "### 문제: 왕실의 나이트"
      ],
      "metadata": {
        "id": "ydY940gl-Er_"
      }
    },
    {
      "cell_type": "markdown",
      "source": [
        "- 8X8 좌표평면 위에 왕실 정원의 특정한 한칸에 나이트가 서있습니다. 나이트는 충실신하라 매일 무술을 연마합니다\n",
        "- 나이트는 말을 타고 있기 때문에 이동을 할 때는 L자 형태로만 이동할 수 있으며 정원밖으로는 나갈 수 없습니다\n",
        "- 나이트는 특정위치에서 다음 두가지 경우로 이동이 가능합니다\n",
        "  1. 수평으로 두칸 이동한 뒤 수직으로 한칸\n",
        "  2. 수직으로 두칸 이동한 뒤에 수평으로 한칸 이동하기\n",
        "\n",
        "- 나이트의 좌표가 주어졌을 대 이동할 수 있는 경우의 수를 출력하는 프로그램을 작성하세요\n",
        "- 열 위치는 a\\~h , 행은 1\\~n으로 입력합니다\n",
        "\n",
        "```\n",
        "#입력양식\n",
        "a1\n",
        "# 출력예시\n",
        "2\n",
        "```"
      ],
      "metadata": {
        "id": "iD7FlkjQ-fxU"
      }
    },
    {
      "cell_type": "markdown",
      "source": [
        "- 발상\n",
        "- 1. dx, dy문제처럼 움직이기\n",
        "  - 그 중에서 LLU, LLD, RRU,RRD, UUR,UUL, DDL,DDR이 가능한 것.\n",
        "- 안 벗어나는 애로 cnt 하면 될듯함"
      ],
      "metadata": {
        "id": "w9fmz-Aw_QsN"
      }
    },
    {
      "cell_type": "code",
      "source": [
        "# 15분 소요. 제한시간 20분이었음\n",
        "knight = input()\n",
        "column = ['a','b','c','d','e','f','g','h']\n",
        "row = [1,2,3,4,5,6,7,8]\n",
        "cnt= 0\n",
        "\n",
        "for i in range(len(column)):\n",
        "  for num in row:\n",
        "    if knight == column[i] + str(num):\n",
        "      print(i+1,num)\n",
        "      x,y = i+1,num\n",
        "\n",
        "# LLU LLD RRU RRD UUR UUL DDL DDR\n",
        "dx = (-1, 1,-1 ,1,-2,-2, 2,2)\n",
        "dy = (2, 2, -2, -2,+1,-1,+1,-1)\n",
        "move = ['LLU','LLD','RRU','RRD','UUR','UUL','DDL','DDR']\n",
        "\n",
        "for direction in range(len(move)):\n",
        "  nx = x+ dx[direction]\n",
        "  ny = y + dy[direction]\n",
        "\n",
        "  if nx<1 or ny<1 or nx>8 or ny>8:\n",
        "    continue\n",
        "  else:\n",
        "    cnt += 1\n",
        "\n",
        "print(cnt)"
      ],
      "metadata": {
        "colab": {
          "base_uri": "https://localhost:8080/"
        },
        "id": "g34Jeiox-fRE",
        "outputId": "8acb83e5-1ac3-4275-aec3-d9dd913107bd"
      },
      "execution_count": null,
      "outputs": [
        {
          "output_type": "stream",
          "name": "stdout",
          "text": [
            "c2\n",
            "3 2\n",
            "6\n"
          ]
        }
      ]
    },
    {
      "cell_type": "markdown",
      "source": [
        "#### 이코테 풀이"
      ],
      "metadata": {
        "id": "dNn5dMtPDFtk"
      }
    },
    {
      "cell_type": "code",
      "source": [
        "input_data = input()\n",
        "row = int(input_data[1])\n",
        "# 아스키 활용\n",
        "column = int(ord(input_data[0])) - int(ord('a')) + 1\n",
        "\n",
        "# 방향 정의 -> 방향벡터 응용\n",
        "steps = [(-2,-1), (-1,-2), (1,-2),(2,-1),(2,1),(1,2),(-1,2),(-2,1)]\n",
        "\n",
        "# 범위 확인\n",
        "result = 0\n",
        "for step in steps:\n",
        "  next_row = row + step[0]\n",
        "  next_column = column + step[1]\n",
        "\n",
        "  if next_row >= 1 and next_row <= 8 and next_column >= 1 and next_column <= 8:\n",
        "    result += 1\n",
        "\n",
        "print(result)"
      ],
      "metadata": {
        "colab": {
          "base_uri": "https://localhost:8080/"
        },
        "id": "RH2USHg1ASnU",
        "outputId": "5418d2bf-ae65-4cef-fd92-e03fc5da1aad"
      },
      "execution_count": null,
      "outputs": [
        {
          "output_type": "stream",
          "name": "stdout",
          "text": [
            "a1\n",
            "2\n"
          ]
        }
      ]
    },
    {
      "cell_type": "markdown",
      "source": [
        "### 문제: 문자열 재정렬"
      ],
      "metadata": {
        "id": "Ux3zn9SYG5xv"
      }
    },
    {
      "cell_type": "markdown",
      "source": [
        "- 알파벳 대문자와 숫자로만 구성된 문자열이 입력으로 주어진다\n",
        "- 알파벳은 오름차순으로 정렬하여 이어서 출력하고 모든 숫자는 더해서 뒤에 출력합니다\n",
        "- K1KA5CB7 -> ABCKK13"
      ],
      "metadata": {
        "id": "D3wOYlLHG7xh"
      }
    },
    {
      "cell_type": "code",
      "source": [
        "letter = input()\n",
        "alphabet = []\n",
        "number = 0\n",
        "result = ''\n",
        "for l in letter:\n",
        "  if l.isalpha():\n",
        "    alphabet.append(l)\n",
        "  elif l.isnumeric():\n",
        "    l = int(l)\n",
        "    number+=l\n",
        "\n",
        "number = str(number)\n",
        "alphabet.sort()\n",
        "for a in alphabet:\n",
        "  result += a\n",
        "result += number\n",
        "print(result)"
      ],
      "metadata": {
        "colab": {
          "base_uri": "https://localhost:8080/"
        },
        "id": "SlshlRL7GiO3",
        "outputId": "b6e9c058-9c2c-4f36-9fce-9e1422f80bfe"
      },
      "execution_count": null,
      "outputs": [
        {
          "output_type": "stream",
          "name": "stdout",
          "text": [
            "acb23\n",
            "abc5\n"
          ]
        }
      ]
    },
    {
      "cell_type": "code",
      "source": [
        "import time\n",
        "start_time = time.time()\n",
        "#letter = input()\n",
        "letter = '2abljs523ak2d1'\n",
        "alphabet = []\n",
        "number = 0\n",
        "result = ''\n",
        "for l in letter:\n",
        "  if l.isalpha():\n",
        "    alphabet.append(l)\n",
        "  elif l.isnumeric():\n",
        "    l = int(l)\n",
        "    number+=l\n",
        "\n",
        "number = str(number)\n",
        "alphabet.sort()\n",
        "for a in alphabet:\n",
        "  result += a\n",
        "result += number\n",
        "print(result)\n",
        "\n",
        "end_time =time.time()\n",
        "print('time:', end_time - start_time)"
      ],
      "metadata": {
        "colab": {
          "base_uri": "https://localhost:8080/"
        },
        "id": "0LkFcB4fHzoY",
        "outputId": "df1f089d-b964-4511-f3c0-58e9e2696846"
      },
      "execution_count": null,
      "outputs": [
        {
          "output_type": "stream",
          "name": "stdout",
          "text": [
            "aabdjkls15\n",
            "time: 0.002622842788696289\n"
          ]
        }
      ]
    },
    {
      "cell_type": "markdown",
      "source": [
        "#### 이코테 풀이\n",
        "- 숫자, 알파벳 따로 리스트에 저장하고 합계, sort 하는게 핵심\n"
      ],
      "metadata": {
        "id": "CwRra3uMLlKJ"
      }
    },
    {
      "cell_type": "code",
      "source": [
        "data = input()\n",
        "result = []\n",
        "value = 0\n",
        "\n",
        "for x in data:\n",
        "  if x.isalpha():\n",
        "    result.append(x)\n",
        "  else:\n",
        "    value += int(x)\n",
        "\n",
        "result.sort()\n",
        "\n",
        "if value != 0:\n",
        "  result.append(str(value))\n",
        "#append해둬서 join도 해줘야함\n",
        "print(''.join(result))"
      ],
      "metadata": {
        "colab": {
          "base_uri": "https://localhost:8080/"
        },
        "id": "Aps07GCeLSXF",
        "outputId": "0c4de035-aba1-41a4-c066-4c4d0ae39e1b"
      },
      "execution_count": null,
      "outputs": [
        {
          "output_type": "stream",
          "name": "stdout",
          "text": [
            "asvdjklq2\n",
            "adjklqsv2\n"
          ]
        }
      ]
    },
    {
      "cell_type": "markdown",
      "source": [
        "### SWEA: 20955.XY문자열1\n",
        "https://swexpertacademy.com/main/code/problem/problemDetail.do?contestProbId=AY_gm8_6NjcDFAVF&categoryId=AY_gm8_6NjcDFAVF&categoryType=CODE&problemTitle=&orderBy=FIRST_REG_DATETIME&selectCodeLang=ALL&select-1=&pageSize=10&pageIndex=2"
      ],
      "metadata": {
        "id": "I5eywT1Udzi8"
      }
    },
    {
      "cell_type": "markdown",
      "source": [
        "- S의 제일 뒤에 ‘X’를 붙인다.\n",
        "    S를 뒤집은 다음 제일 뒤에 ‘Y’를 붙인다.\n",
        "\n",
        "예를 들어, S가 “XYXX”일 때 1번 연산을 사용하면 S는 “XYXXX”가 되고, 2번 연산을 사용하면 S는 “XXYXY”가 된다.\n",
        "연산을 적절히 사용해서 S를 E로 만들 수 있는지 판별하는 프로그램을 작성하라.\n"
      ],
      "metadata": {
        "id": "v6fgIq-md8I7"
      }
    },
    {
      "cell_type": "markdown",
      "source": [
        "- 접근법:X는 그냥추가, Y는 뒤집어서 추가해야함\n",
        "- 짧을 때 개수를 늘려가며 되는지 확인해야함\n",
        "- 반복문돌며 다음이 Y일 땐 돌리고"
      ],
      "metadata": {
        "id": "e6GtwEAAeAci"
      }
    },
    {
      "cell_type": "code",
      "source": [
        "# 테스트 케이스 전 그냥 알고리즘\n",
        "S = input()\n",
        "E = input()\n",
        "cnt = 0\n",
        "\n",
        "for i in range(len(S)):\n",
        "  for j in range(len(E)):\n",
        "    if len(S) > len(E):\n",
        "      break\n",
        "    elif E[j]\n"
      ],
      "metadata": {
        "id": "gNiFEcGrL59V",
        "colab": {
          "base_uri": "https://localhost:8080/"
        },
        "outputId": "93f8e84e-0fc7-4c7c-881e-c7804459b9ff"
      },
      "execution_count": null,
      "outputs": [
        {
          "output_type": "stream",
          "name": "stdout",
          "text": [
            "XYXS\n",
            "X\n",
            "Y\n",
            "X\n",
            "S\n"
          ]
        }
      ]
    },
    {
      "cell_type": "markdown",
      "source": [
        "## 0921: BFS + DFS\n",
        "- https://www.youtube.com/watch?v=7C9RgOcvkvo&list=PLRx0vPvlEmdAghTr5mXQxGpHjWqSz0dgC&index=3"
      ],
      "metadata": {
        "id": "B5On_wjgAhBD"
      }
    },
    {
      "cell_type": "markdown",
      "source": [
        "- 그래프 탐색 알고리즘 : 탐색  원하는 데이터를 찾는 과정\n",
        "- DFS, BFS는 빈출임"
      ],
      "metadata": {
        "id": "-6zFbt63AyPE"
      }
    },
    {
      "cell_type": "markdown",
      "source": [
        "### 스택\n",
        "- 선입후출\n",
        "- 입구, 출구가 동일한 형태. 바구니에 쌓고 드러내는 형태와 같음"
      ],
      "metadata": {
        "id": "txNGR5ETI02N"
      }
    },
    {
      "cell_type": "markdown",
      "source": [
        "\n",
        "\n",
        "```\n",
        "#Java\n",
        "using namespace std;\n",
        "\n",
        "// 스택에 정수형 넣으면 int\n",
        "stack<int> s;\n",
        "\n",
        "int main(void) {\n",
        "  s.push(5);\n",
        "  s.push(2);\n",
        "  s.pop();\n",
        "  s.push(3);\n",
        "  s.pop();\n",
        "\n",
        "  // 스택의 최상단 원소부터 출력\n",
        "  while (!s.empty()) {\n",
        "    count << s.top() << ' ' ;\n",
        "    s.pop();\n",
        "  }\n",
        "\n",
        "}\n",
        "```\n",
        "\n"
      ],
      "metadata": {
        "id": "oTdBbRlbPUMV"
      }
    },
    {
      "cell_type": "code",
      "source": [
        "# 스택 구현\n",
        "stack = []\n",
        "stack.append(5)\n",
        "stack.append(4)\n",
        "stack.pop()\n",
        "print(stack)\n",
        "stack.append('a')\n",
        "stack.append('z')\n",
        "stack.append(6)\n",
        "print(stack)\n",
        "stack.pop()\n",
        "print(stack)\n",
        "\n",
        "print(stack[::-1])\n",
        "print(stack)"
      ],
      "metadata": {
        "colab": {
          "base_uri": "https://localhost:8080/"
        },
        "id": "vjERo4WWAnVO",
        "outputId": "6e2633ea-2969-4e1c-cace-b3748df2928b"
      },
      "execution_count": null,
      "outputs": [
        {
          "output_type": "stream",
          "name": "stdout",
          "text": [
            "[5]\n",
            "[5, 'a', 'z', 6]\n",
            "[5, 'a', 'z']\n",
            "['z', 'a', 5]\n",
            "[5, 'a', 'z']\n"
          ]
        }
      ]
    },
    {
      "cell_type": "code",
      "source": [],
      "metadata": {
        "id": "ZpvTuNWTJPgL"
      },
      "execution_count": null,
      "outputs": []
    },
    {
      "cell_type": "markdown",
      "source": [
        "### 큐\n",
        "- 선입선출 : 입구출구가 모두 뚫려있는 터널과 같음\n",
        "- 리스트로 구현가능하나 시간복잡도가 높아서 deque을 사용해주는게 좋다"
      ],
      "metadata": {
        "id": "7GB1TejWUmK3"
      }
    },
    {
      "cell_type": "markdown",
      "source": [
        "\n",
        "\n",
        "```\n",
        "# JAVA\n",
        "import java.util.*\n",
        "public class Main {\n",
        "  public static void main(String[] args){\n",
        "    Queue<Integer>q = new LinkedList<>();\n",
        "\n",
        "    q.offer(5);\n",
        "    q.offer(2);\n",
        "    q.poll();\n",
        "    while (!q.isEmpty()){\n",
        "      System.out.print(q.poll() + \" \");\n",
        "    }\n",
        "  }\n",
        "}\n",
        "```\n",
        "\n"
      ],
      "metadata": {
        "id": "utj0q2-1baCe"
      }
    },
    {
      "cell_type": "code",
      "source": [
        "from collections import deque\n",
        "\n",
        "queue = deque()\n",
        "\n",
        "queue.append('a')\n",
        "queue.append('b')\n",
        "queue.append('c')\n",
        "queue.popleft() #선입선출이라 왼쪽으로 나가기로 구현\n",
        "queue.append(1)\n",
        "queue.popleft()\n",
        "\n",
        "print(queue)\n",
        "queue.reverse() #큐 역순\n",
        "print(queue)"
      ],
      "metadata": {
        "colab": {
          "base_uri": "https://localhost:8080/"
        },
        "id": "HGVkrYcuUwVI",
        "outputId": "c110dad2-30a5-4d0e-b801-3573f2baaf6c"
      },
      "execution_count": null,
      "outputs": [
        {
          "output_type": "stream",
          "name": "stdout",
          "text": [
            "deque(['c', 1])\n",
            "deque([1, 'c'])\n"
          ]
        }
      ]
    },
    {
      "cell_type": "markdown",
      "source": [
        "### 재귀함수"
      ],
      "metadata": {
        "id": "74IO1ipkcE19"
      }
    },
    {
      "cell_type": "markdown",
      "source": [
        "- DFS, BFS에 직결됨\n",
        "- 14분~"
      ],
      "metadata": {
        "id": "Gj5CG0vWcGhO"
      }
    },
    {
      "cell_type": "markdown",
      "source": [
        "## SWEA D1 밀기"
      ],
      "metadata": {
        "id": "cQM1LILCjdPv"
      }
    },
    {
      "cell_type": "markdown",
      "source": [
        "### 2072. 홀수만 더하기\n",
        "- 10개 입력 시 홀수만 더하기\n",
        "\n",
        "입력\n",
        "\n",
        "```\n",
        "# 테스트케이스 개수\n",
        "3\n",
        "3 17 1 39 8 41 2 32 99 2\n",
        "22 8 5 123 7 2 63 7 3 46\n",
        "6 63 2 3 58 76 21 33 8 1  \n",
        "```\n",
        "\n",
        "출력\n",
        "- #은 주석아니고 테스트케이스 num\n",
        "\n",
        "```\n",
        "#1 200\n",
        "#2 208\n",
        "#3 121\n",
        "```\n",
        "\n",
        "\n",
        "\n"
      ],
      "metadata": {
        "id": "tQWLcOjJjlQg"
      }
    },
    {
      "cell_type": "code",
      "source": [
        "# 입력횟수\n",
        "n = int(input())\n",
        "\n",
        "for i in range(n):\n",
        "  numbers = input().split(' ')\n",
        "  odd_sum = 0\n",
        "  for num in numbers:\n",
        "    if int(num) % 2 == 1:\n",
        "      odd_sum += int(num)\n",
        "  print(f\"#{i+1} {odd_sum}\")"
      ],
      "metadata": {
        "id": "hgp4ZWxkXWvQ",
        "colab": {
          "base_uri": "https://localhost:8080/"
        },
        "outputId": "435f0b17-2c41-46e1-bb82-8b89fde64597"
      },
      "execution_count": null,
      "outputs": [
        {
          "output_type": "stream",
          "name": "stdout",
          "text": [
            "1\n",
            "6 63 2 3 58 76 21 33 8 1\n",
            "#1 121\n"
          ]
        }
      ]
    },
    {
      "cell_type": "markdown",
      "source": [
        "### 2071. 평균값 구하기\n",
        "- 핵심 : 나누고 '반올림'을 해야함\n",
        "- int나 // 는 그저 '내림'이라 ave구하고 **round(ave)** 해줘야 반올림 가능\n",
        "- https://olivia-blackcherry.tistory.com/42 _ 반올림연산자 참고"
      ],
      "metadata": {
        "id": "U3LjB4RFt99b"
      }
    },
    {
      "cell_type": "code",
      "source": [
        "T = int(input())\n",
        "\n",
        "for i in range(T):\n",
        "    numbers = input().split(' ')\n",
        "    total = 0\n",
        "\n",
        "    for num in numbers:\n",
        "        total += int(num)\n",
        "\n",
        "    ave = total / len(numbers)\n",
        "    # 반올림\n",
        "    ave = round(ave)\n",
        "    print(f'#{i+1} {ave}')"
      ],
      "metadata": {
        "id": "W-Kx9-kBm_lg"
      },
      "execution_count": null,
      "outputs": []
    },
    {
      "cell_type": "code",
      "source": [
        "### 2070. 큰놈 작은놈\n",
        "T = int(input())\n",
        "\n",
        "for t in range(T):\n",
        "    numbers = input().split(' ')\n",
        "    num1 = int(numbers[0])\n",
        "    num2 = int(numbers[1])\n",
        "    if num1 > num2:\n",
        "        ans = '>'\n",
        "    elif num1 == num2:\n",
        "        ans = '='\n",
        "    elif num1 < num2 :\n",
        "        ans = '<'\n",
        "    else:\n",
        "        print('not calculated')\n",
        "    print(f'#{t+1} {ans}')"
      ],
      "metadata": {
        "id": "F5Ywh5kAGpBa"
      },
      "execution_count": null,
      "outputs": []
    },
    {
      "cell_type": "code",
      "source": [
        "### 2068. 최대수 구하기\n",
        "T = int(input())\n",
        "\n",
        "for t in range(T):\n",
        "    numbers = input().split(' ')\n",
        "    temp = 0\n",
        "    for i in range(len(numbers)):\n",
        "        num1 = int(numbers[i])\n",
        "        if num1 > temp:\n",
        "            temp = num1\n",
        "        elif num1 < temp:\n",
        "            continue\n",
        "\n",
        "    max_num = temp\n",
        "    print(f'#{t+1} {max_num}')\n"
      ],
      "metadata": {
        "colab": {
          "base_uri": "https://localhost:8080/"
        },
        "id": "urTslUXeBmOM",
        "outputId": "0392f7d8-5e2a-409a-afcd-082ccc560dcf"
      },
      "execution_count": null,
      "outputs": [
        {
          "output_type": "stream",
          "name": "stdout",
          "text": [
            "1\n",
            "1\n",
            "#1 1\n"
          ]
        }
      ]
    },
    {
      "cell_type": "markdown",
      "source": [
        "### 2063. 중간값구하기\n",
        "- https://star-crab.tistory.com/22 (정렬정리)"
      ],
      "metadata": {
        "id": "5s_EN5onkjMl"
      }
    },
    {
      "cell_type": "code",
      "source": [
        "N = int(input())\n",
        "numbers = input().split()\n",
        "nums = []\n",
        "for n in numbers:\n",
        "    n = int(n)\n",
        "    nums.append(n)\n",
        "\n",
        " # sort말고 정렬구현해보기\n",
        "nums.sort()\n",
        "# 5/2 = 2.5 가운데는 3이지만,  2번인덱스라 round가 아닌 int\n",
        "mid = int(len(nums)/2)\n",
        "print(nums[mid])"
      ],
      "metadata": {
        "id": "_7zy-JY0BnSY",
        "colab": {
          "base_uri": "https://localhost:8080/"
        },
        "outputId": "ecf315b4-35e6-4668-dcf4-3ca5ba98312d"
      },
      "execution_count": null,
      "outputs": [
        {
          "output_type": "stream",
          "name": "stdout",
          "text": [
            "3\n",
            "1 2 3\n",
            "2\n"
          ]
        }
      ]
    },
    {
      "cell_type": "code",
      "source": [
        "# 2058. 자릿수 더하기\n",
        "N = input()\n",
        "total = 0\n",
        "for n in N:\n",
        "    n = int(n)\n",
        "    total += n\n",
        "\n",
        "print(total)"
      ],
      "metadata": {
        "id": "-nl9zbGhkrJJ"
      },
      "execution_count": null,
      "outputs": []
    },
    {
      "cell_type": "code",
      "source": [
        "# 2050. 달력연산 : 0보존이 핵심. int 위치를 잘 설정해야함\n",
        "T = int(input())\n",
        "\n",
        "for t in range(T):\n",
        "    date = input()\n",
        "    year = date[0:4]\n",
        "    month = date[4:6]\n",
        "    day = date[6:8]\n",
        "    #print(year,month,day)\n",
        "    # 31일까지 있는날: 1,3,5,7,8,10,12\n",
        "    if int(month) in (1,3,5,7,8,10,12):\n",
        "        if int(day) > 0 and int(day) < 32:\n",
        "            print(f'#{t+1} {year}/{month}/{day}')\n",
        "        else:\n",
        "            print(f'#{t+1} -1')\n",
        "    # 30일까지 있는날: 4,6,9,11\n",
        "    elif int(month) in (4,6,9,11):\n",
        "        if int(day) > 0 and int(day) < 31:\n",
        "            print(f'#{t+1} {year}/{month}/{day}')\n",
        "        else:\n",
        "            print(f'#{t+1} -1')\n",
        "\n",
        "    # 2월은 28일까지\n",
        "    elif int(month) == 2:\n",
        "        if int(day) > 0 and int(day) < 29:\n",
        "            print(f'#{t+1} {year}/{month}/{day}')\n",
        "        else:\n",
        "            print(f'#{t+1} -1')\n",
        "\n",
        "    else:\n",
        "        print(f'#{t+1} -1')"
      ],
      "metadata": {
        "id": "VDpf2mP4Hwpf"
      },
      "execution_count": null,
      "outputs": []
    },
    {
      "cell_type": "code",
      "source": [
        "# 2047. 알파벳을 숫자로 변환\n",
        "letters = input()\n",
        "answer = []\n",
        "alphabets = 'ABCDEFGHIJKLMNOPQRSTUVWXYZ'\n",
        "\n",
        "for l in letters:\n",
        "    for i in range(len(alphabets)):\n",
        "        if l == alphabets[i]:\n",
        "            l = i+1\n",
        "            answer.append(l)\n",
        "\n",
        "for num in answer:\n",
        "    print(num, end = ' ')"
      ],
      "metadata": {
        "colab": {
          "base_uri": "https://localhost:8080/"
        },
        "id": "3e-td42fSJqz",
        "outputId": "42d63acf-e662-4b30-9a75-6421d0fe095a"
      },
      "execution_count": null,
      "outputs": [
        {
          "name": "stdout",
          "output_type": "stream",
          "text": [
            "ㄷ\n"
          ]
        }
      ]
    },
    {
      "cell_type": "code",
      "source": [
        "# 2046. 신문 헤드라인\n",
        "title = input()\n",
        "Title = []\n",
        "for letter in title:\n",
        "    letter =letter.upper()\n",
        "    Title.append(letter)\n",
        "\n",
        "for Letter in Title:\n",
        "    print(Letter, end = '')\n",
        "\n",
        "\n",
        "# 풀이2그냥 한줄\n",
        "print(title.upper())"
      ],
      "metadata": {
        "id": "sZ7kK3LfSLTl"
      },
      "execution_count": null,
      "outputs": []
    },
    {
      "cell_type": "code",
      "source": [
        "# 2043. 서랍의 비밀번호\n",
        "info = input().split(' ')\n",
        "P = int(info[0])\n",
        "K = int(info[1])\n",
        "\n",
        "ans = P-K + 1\n",
        "print(ans)"
      ],
      "metadata": {
        "id": "sza-mRcXVccZ"
      },
      "execution_count": null,
      "outputs": []
    },
    {
      "cell_type": "code",
      "source": [
        "# 2029. 몫과 나머지\n",
        "T = int(input())\n",
        "\n",
        "for t in range(T):\n",
        "    nums = input().split()\n",
        "    num1 = int(nums[0])\n",
        "    num2 = int(nums[1])\n",
        "    quotient = num1 // num2\n",
        "    remainder = num1 % num2\n",
        "    print(f'#{t+1} {quotient} {remainder}')"
      ],
      "metadata": {
        "id": "UaTEuXTWWfIJ"
      },
      "execution_count": null,
      "outputs": []
    },
    {
      "cell_type": "code",
      "source": [
        "# 2027. 대각선 출력하기\n",
        "for i in range(5):\n",
        "    print('+' *(i), end = '')\n",
        "    print('#', end = '')\n",
        "    print('+'*(4-i))"
      ],
      "metadata": {
        "id": "WVwng8_fXqn-"
      },
      "execution_count": null,
      "outputs": []
    },
    {
      "cell_type": "code",
      "source": [
        "# 2025, N줄 덧셈\n",
        "n = int(input())\n",
        "total = 0\n",
        "for num in range(n+1):\n",
        "    total += num\n",
        "    #print(num)\n",
        "\n",
        "print(total)\n"
      ],
      "metadata": {
        "id": "VddVS7VpZA1A"
      },
      "execution_count": null,
      "outputs": []
    },
    {
      "cell_type": "code",
      "source": [
        "# 1938. 아주 간단한 계산기\n",
        "input_num = input().split()\n",
        "num1 = int(input_num[0])\n",
        "num2 = int(input_num[1])\n",
        "\n",
        "print(num1+num2)\n",
        "print(num1-num2)\n",
        "print(num1*num2)\n",
        "print(num1//num2)"
      ],
      "metadata": {
        "id": "mtJK78H_Zpe2"
      },
      "execution_count": null,
      "outputs": []
    },
    {
      "cell_type": "code",
      "source": [
        "# 1933, 간단한 N의 약수\n",
        "\n",
        "n = int(input())\n",
        "ans = []\n",
        "for i in range(1, n+1):\n",
        "    if n % i == 0:\n",
        "        ans.append(i)\n",
        "\n",
        "for num in ans:\n",
        "    print(num, end = ' ')\n",
        "\n",
        "# 출력 개선\n",
        "n = int(input())\n",
        "for i in range(1, n+1):\n",
        "    if n % i == 0:\n",
        "        print(i, end = ' ')\n"
      ],
      "metadata": {
        "id": "x2_jaHwiajLW"
      },
      "execution_count": null,
      "outputs": []
    },
    {
      "cell_type": "code",
      "source": [
        "# 1936. 1대1 가위바위보\n",
        "# 가위 1 바위 2 보 3\n",
        "\n",
        "rsp = input().split()\n",
        "num1 = int(rsp[0])\n",
        "num2 = int(rsp[1])\n",
        "\n",
        "if num1 == 1:\n",
        "    if num2 == 3:\n",
        "        print('A')\n",
        "    else:\n",
        "        print('B')\n",
        "elif num1 == 2:\n",
        "    if num2 == 1:\n",
        "        print('A')\n",
        "    else:\n",
        "        print('B')\n",
        "\n",
        "elif num1 == 3:\n",
        "    if num2 == 2:\n",
        "        print('A')\n",
        "    else:\n",
        "        print('B')"
      ],
      "metadata": {
        "id": "F-EqUdTacFbW"
      },
      "execution_count": null,
      "outputs": []
    },
    {
      "cell_type": "code",
      "source": [
        "# 2019 더블더블\n",
        "n = int(input())\n",
        "\n",
        "for i in range(n+1):\n",
        "    print(2 ** i, end = ' ')"
      ],
      "metadata": {
        "id": "5JoB9l6UcHdg"
      },
      "execution_count": null,
      "outputs": []
    },
    {
      "cell_type": "code",
      "source": [
        "#1545 거꾸로 출력해보아요\n",
        "n = int(input())\n",
        "\n",
        "for i in range(n+1):\n",
        "    print(n-i, end =' ')"
      ],
      "metadata": {
        "id": "S-oc19mPdBtA"
      },
      "execution_count": null,
      "outputs": []
    },
    {
      "cell_type": "markdown",
      "source": [
        "## D2 밀기"
      ],
      "metadata": {
        "id": "Yo3z_6K_d7yZ"
      }
    },
    {
      "cell_type": "code",
      "source": [
        "#1204. [S/W 문제해결 기본] 1일차 - 최빈수 구하기\n",
        "T = int(input())\n",
        "\n",
        "for t in range(T):\n",
        "    test = int(input())\n",
        "    scores = input().split()\n",
        "    for i in range(len(scores)):\n",
        "        scores[i] = int(scores[i])\n",
        "\n",
        "    # 중복제거\n",
        "    sample = set(scores)\n",
        "    sample = list(sample)\n",
        "    freq = []\n",
        "    for s in sample:\n",
        "        cnt = 0\n",
        "        for score in scores:\n",
        "            if s == score:\n",
        "                cnt+=1\n",
        "        freq.append(cnt)\n",
        "\n",
        "    #횟수 및 결과 확인 시\n",
        "    # print(sample)\n",
        "    # print(freq)\n",
        "\n",
        "    temp=0\n",
        "    for j in range(len(freq)):\n",
        "        if freq[j] > temp:\n",
        "            temp = freq[j]\n",
        "            freq_num = sample[j]\n",
        "    print(f'#{t+1} {freq_num}')"
      ],
      "metadata": {
        "id": "iGgSIAPPd8oy"
      },
      "execution_count": null,
      "outputs": []
    },
    {
      "cell_type": "code",
      "source": [
        "# 1970. 쉬운 거스름돈\n",
        "T  = int(input())\n",
        "\n",
        "for t in range(T):\n",
        "    print(f'#{t+1}')\n",
        "    money = int(input())\n",
        "    coin = [50000, 10000, 5000, 1000, 500, 100, 50, 10]\n",
        "\n",
        "    for c in coin:\n",
        "        cnt = money // c\n",
        "        money = money % c\n",
        "        print(cnt, end = ' ')\n",
        "    print()"
      ],
      "metadata": {
        "id": "Va1xVPNRovUY"
      },
      "execution_count": null,
      "outputs": []
    },
    {
      "cell_type": "code",
      "source": [
        "# 1284. 수도 요금 경쟁\n",
        "T = int(input())\n",
        "\n",
        "for t in range(T):\n",
        "    toll = input().split()\n",
        "\n",
        "    P = int(toll[0])\n",
        "    Q = int(toll[1])\n",
        "    R = int(toll[2])\n",
        "    S = int(toll[3])\n",
        "    W= int(toll[4])\n",
        "\n",
        "    A = W * P\n",
        "\n",
        "    # B 판정문\n",
        "    if W < R :\n",
        "        B = Q\n",
        "    else:\n",
        "        additional = W-R\n",
        "        B = Q + (additional * S)\n",
        "    # 회사 판정문\n",
        "    if  A>B:\n",
        "        print(f'#{t+1} {B}')\n",
        "\n",
        "    elif B>A:\n",
        "        print(f'#{t+1} {A}')\n"
      ],
      "metadata": {
        "id": "f2f2LxwYqqKM"
      },
      "execution_count": null,
      "outputs": []
    },
    {
      "cell_type": "code",
      "source": [
        "# 1288. 새로운 불면증 치료법 -> 아직못품\n",
        "T = int(input())\n",
        "for t in range(T):\n",
        "    nums = [0,1,2,3,4,5,6,7,8,9]\n",
        "    cnt = 0\n",
        "    N = input()\n",
        "    while nums == True:\n",
        "        for n in N:\n",
        "            n = int(n)\n",
        "            if n in nums:\n",
        "                nums.remove(n)\n",
        "        cnt+=1\n"
      ],
      "metadata": {
        "id": "FfsjaxhkOH2N"
      },
      "execution_count": null,
      "outputs": []
    },
    {
      "cell_type": "code",
      "source": [
        "#1945. 간단한 소인수분해\n",
        "\n",
        "T = int(input())\n",
        "\n",
        "for t in range(T):\n",
        "    N = int(input())\n",
        "    a = 0 #2\n",
        "    b = 0 #3\n",
        "    c = 0 #5\n",
        "    d = 0 #7\n",
        "    e = 0 #11\n",
        "\n",
        "    while N%2 == 0:\n",
        "        N = N // 2\n",
        "        a += 1\n",
        "\n",
        "    while N%3 == 0:\n",
        "        N = N // 3\n",
        "        b += 1\n",
        "\n",
        "    while N%5 == 0:\n",
        "        N = N // 5\n",
        "        c += 1\n",
        "\n",
        "    while N%7 == 0:\n",
        "        N = N // 7\n",
        "        d += 1\n",
        "\n",
        "    while N%11 == 0:\n",
        "        N = N // 11\n",
        "        e += 1\n",
        "\n",
        "    print(f'#{t+1} {a} {b} {c} {d} {e}')"
      ],
      "metadata": {
        "id": "6BHHorPH2sOR"
      },
      "execution_count": null,
      "outputs": []
    },
    {
      "cell_type": "code",
      "source": [
        "# 유림님 코드\n",
        "T = int(input())\n",
        "\n",
        "for i in range(T):\n",
        "    N = int(input())\n",
        "    # 변수명은 list는 보통 list로 만들어주는 함수와 겹쳐서 array를 많이써요!\n",
        "    array = [2, 3, 5, 7, 11]       # list = [2, 3, 5, 7, 11]\n",
        "    result = []\n",
        "    a=0\n",
        "    #보통 for문에 횟수는 되도록이면 len으로 줘야 활용성??이 좋아요!\n",
        "    #for j in range(5):\n",
        "    for j in range(len(array))\n",
        "    # list가 함수라 다르게 활용될 여지가 있어서 다 array로 바꿔줬어요!\n",
        "        while N % array[j] ==0:\n",
        "            N = N // array[j]\n",
        "            a += 1\n",
        "        result.append(a)\n",
        "        a=0\n",
        "    #print(\"#\"+str(i+1), *result)\n",
        "    # f출력이라고 변수를 쉽게 출력할 수 있어요!\n",
        "    print(f'#{i+1} {*result}')"
      ],
      "metadata": {
        "id": "Orumm0O7FGFD"
      },
      "execution_count": null,
      "outputs": []
    },
    {
      "cell_type": "code",
      "source": [
        "# 1948. 날짜 계산기\n",
        "T = int(input())\n",
        "for t in range(T):\n",
        "    month1, date1, month2, date2 = map(int, input().split())\n",
        "\n",
        "    #1/31, 2/28, 3/31, 4/30, 5/31, 6/30, 7/31, 8/31, 9/30, 10/31, 11/30, 12/31\n",
        "    # 해당달 남은일수 + 건너뛰는 달 + 해당 달 일수\n",
        "    days = [31 , 28 ,31 ,30 ,31 ,30 ,31 ,31, 30, 31, 30, 31]\n",
        "    months = [1,2,3,4,5,6,7,8,9,10,11,12]\n",
        "\n",
        "    if month1 == month2 :\n",
        "        answer = date2 - date1 + 1\n",
        "        #print(answer)\n",
        "    elif month1 + 1 == month2:\n",
        "        fin1_index = months.index(month1)\n",
        "        fin1 = days[fin1_index]\n",
        "        calc1 = fin1 - date1 + 1\n",
        "        answer = calc1 + date2\n",
        "        #print(answer)\n",
        "    else:\n",
        "        fin1_index = months.index(month1)\n",
        "        fin1 = days[fin1_index]\n",
        "        calc1 = fin1 - date1 + 1\n",
        "        fin2_index = months.index(month2)\n",
        "        cnt = 0\n",
        "\n",
        "        for i in range(fin1_index+1, fin2_index):\n",
        "            cnt += days[i]\n",
        "            #print(cnt)\n",
        "\n",
        "        answer = calc1 + date2 + cnt\n",
        "        #print(answer)\n",
        "\n",
        "    print(f'#{t+1} {answer}')"
      ],
      "metadata": {
        "id": "4jKwsw-n_v8L"
      },
      "execution_count": null,
      "outputs": []
    },
    {
      "cell_type": "markdown",
      "source": [
        "### 정렬알고리즘\n",
        "- https://velog.io/@jguuun/%EC%A0%95%EB%A0%AC-%EC%95%8C%EA%B3%A0%EB%A6%AC%EC%A6%98\n"
      ],
      "metadata": {
        "id": "kY0EOyJ-mQZE"
      }
    },
    {
      "cell_type": "code",
      "source": [
        "# 선택정렬\n",
        "def selection_sort(array):\n",
        "  n = len(array)\n",
        "  for i iin range(n):\n",
        "    min_index = i\n",
        "    for j in range(i+1, n):\n",
        "      if array[min_index] > array[j]:\n",
        "        min_index = j\n",
        "    array[i], array[min_index] = array[min_index], array[i]"
      ],
      "metadata": {
        "id": "_Vo8T4VLmp26"
      },
      "execution_count": null,
      "outputs": []
    },
    {
      "cell_type": "code",
      "source": [
        "def bubble_sort(array):\n",
        "  n = len(array)\n",
        "  for i in range(n-1):\n",
        "    for j in range(n-i-1): # 끝자리가 i개 만큼 정렬되는 것이 핵심\n",
        "      if array[j] > array[j+1]:\n",
        "        array[j], array[j+1] = array[j+1], array[j]\n",
        "\n",
        "  return array\n",
        "\n",
        "array = [3,2,1,5,4]\n",
        "a = bubble_sort(array)\n",
        "print(a)\n"
      ],
      "metadata": {
        "colab": {
          "base_uri": "https://localhost:8080/"
        },
        "id": "GPBgldo3ufKP",
        "outputId": "3cbc7b92-7305-4121-833c-6e7b0baaee60"
      },
      "execution_count": null,
      "outputs": [
        {
          "output_type": "stream",
          "name": "stdout",
          "text": [
            "[1, 2, 3, 4, 5]\n"
          ]
        }
      ]
    },
    {
      "cell_type": "markdown",
      "source": [
        "#### 퀵정렬 예시\n",
        "- https://velog.io/@cjjss11/%ED%80%B5-%EC%A0%95%EB%A0%AC-Quick-Sort\n",
        "- https://www.youtube.com/watch?v=O-O-90zX-U4\n",
        "- 분할정복이라고도 함"
      ],
      "metadata": {
        "id": "oeXkpSKAwSrK"
      }
    },
    {
      "cell_type": "code",
      "source": [
        "array = [5,7,9,0,3,1,6,2,4,8]\n",
        "\n",
        "def quick_sort(array, start, end):\n",
        "  if start >= end: #피봇설정 start = end면 중지 (끝수가 pivot이면 더이상 나눠지지 않음))\n",
        "    return\n",
        "  pivot = start\n",
        "  left = start + 1\n",
        "  right = end\n",
        "\n",
        "  while left <= right: # left, right가 겹치면 안됨\n",
        "  # left가 end랑 겹치면 안됨 (오른쪽단)\n",
        "  # pivot값보다 작은게 left\n",
        "    while left <= end and array[left] <= array[pivot]:\n",
        "      left += 1\n",
        "    while right > start and array [right] >= array[pivot]:\n",
        "      right -=1\n",
        "\n",
        "    if left > right:\n",
        "      array[right], array[pivot] = array[pivot], array[right]\n",
        "    else:\n",
        "      array[left], array[right] = array[right], array[left]\n",
        "\n",
        "    # 재귀1: 왼쪽 리스트 호출\n",
        "    quick_sort(array,start,right-1)\n",
        "    # 재귀2: 오른쪽리스트 호출\n",
        "    quick_sort(array, right+1, end)\n",
        "\n",
        "quick_sort(array, 0 ,len(array)-1)\n",
        "print(array)\n"
      ],
      "metadata": {
        "colab": {
          "base_uri": "https://localhost:8080/"
        },
        "id": "XpA7NmqPwVvT",
        "outputId": "c09cd93c-58cb-466e-e333-b32967c441ac"
      },
      "execution_count": null,
      "outputs": [
        {
          "output_type": "stream",
          "name": "stdout",
          "text": [
            "[0, 1, 2, 3, 4, 5, 6, 7, 8, 9]\n"
          ]
        }
      ]
    },
    {
      "cell_type": "markdown",
      "source": [
        "ex) 3 7 1 8 1 5 9 6 10 2 4\n",
        "1. 왼쪽에서 오른쪽으로 검사\n",
        "2. 3 기준 7과 2는 바꿔줘야함 (더 작음)\n",
        "  - 왼쪽에서 작은 값, 오른족에서 큰값\n",
        "  - 3 2 8 1 5 9 6 10 7 4 (pivot 3)\n",
        "3. 다시 왼쪽에서는 작은값, 오른쪽에서 큰 값을 찾는다\n",
        "  - 3 2 1 8 5 9 6 10 7 4\n",
        "  - 1이 작고, 8이 큰 곳에서 남는다\n",
        "\n",
        "4. 3 2 1 8 5 9 6 10 7 4 는 엇갈리게 된다. 1을 기점으로 한쪽은 3보다 작고 한쪽은 더 커짐 -> 3을 해당 위치로 바꿔준다\n",
        "  - 이 분할을 통해 정렬이 완료되게 된다."
      ],
      "metadata": {
        "id": "nbY4HJTPp2Wl"
      }
    },
    {
      "cell_type": "markdown",
      "source": [
        "https://youtu.be/EuJSDghD4z8?si=gJEBSL_2UKjDe7qr"
      ],
      "metadata": {
        "id": "gOuD8mtywe7f"
      }
    },
    {
      "cell_type": "code",
      "source": [
        "array = [5, 7, 9 ,0 ,3,1,6,2,4,8]\n",
        "\n",
        "def quick_sort(array, start, end):\n",
        "  if start > end: # 원소가 1개면 종료\n",
        "    return\n",
        "  pivot  = start\n",
        "  left = start + 1 #피봇제외 +1\n",
        "  right = end # 끝\n",
        "\n",
        "  while  (left <= right):\n",
        "    # 재귀함수 : 정렬확인\n",
        "    print(\"정렬중:\", array)\n",
        "    # 왼쪽부터 큰데이터 순회 : left는 끝보다 작게 순회하고 pivot값보다 작은지 비교\n",
        "    while (left <= end and array[left] <= array[pivot]):\n",
        "      left += 1  # 한칸씩 이동\n",
        "\n",
        "    # 오른쪽 순회 : 작은값 찾기\n",
        "    while (right > start and array[right] >= array[pivot]):\n",
        "      right -= 1\n",
        "    # while문이 하나씩 인덱스를 옮기는 작업할 때마다 값을 옮기는 판정문에 해당한다.\n",
        "    # left와 right가 엇갈린 경우 = 작은값/큰값 위치가 다른 파티션리스트에 있는 경우\n",
        "    if left > right:\n",
        "      # 교차지점으로 pivot을 옮겨준다 = 정렬해준다\n",
        "      array[right], array[pivot] = array[pivot], array[right]\n",
        "    else: # 엇갈리지 않는다면 그냥 피봇기준 파티션 바꿔주는 작업\n",
        "      array[left], array[right] = array[right], array[left]\n",
        "    print(\"정렬right확인\", \"right:\", right, \"값:\",array[right])\n",
        "\n",
        "  # 분할 : 오른쪽-1 / 끝까지\n",
        "  print(\"################# 분할 ###################\")\n",
        "  quick_sort(array, start, right -1)\n",
        "  quick_sort(array, right+1, end)\n",
        "\n",
        "\n",
        "quick_sort(array, 0 , len(array)-1)\n",
        "print(array)\n"
      ],
      "metadata": {
        "colab": {
          "base_uri": "https://localhost:8080/"
        },
        "id": "-jk9ckAMpzUz",
        "outputId": "d53b4741-33ed-4bfa-8315-deac32e8f26a"
      },
      "execution_count": null,
      "outputs": [
        {
          "output_type": "stream",
          "name": "stdout",
          "text": [
            "정렬중: [5, 7, 9, 0, 3, 1, 6, 2, 4, 8]\n",
            "정렬right확인 right: 8 값: 7\n",
            "정렬중: [5, 4, 9, 0, 3, 1, 6, 2, 7, 8]\n",
            "정렬right확인 right: 7 값: 9\n",
            "정렬중: [5, 4, 2, 0, 3, 1, 6, 9, 7, 8]\n",
            "정렬right확인 right: 5 값: 5\n",
            "################# 분할 ###################\n",
            "정렬중: [1, 4, 2, 0, 3, 5, 6, 9, 7, 8]\n",
            "정렬right확인 right: 3 값: 4\n",
            "정렬중: [1, 0, 2, 4, 3, 5, 6, 9, 7, 8]\n",
            "정렬right확인 right: 1 값: 1\n",
            "################# 분할 ###################\n",
            "################# 분할 ###################\n",
            "정렬중: [0, 1, 2, 4, 3, 5, 6, 9, 7, 8]\n",
            "정렬right확인 right: 2 값: 2\n",
            "################# 분할 ###################\n",
            "정렬중: [0, 1, 2, 4, 3, 5, 6, 9, 7, 8]\n",
            "정렬right확인 right: 4 값: 4\n",
            "################# 분할 ###################\n",
            "################# 분할 ###################\n",
            "정렬중: [0, 1, 2, 3, 4, 5, 6, 9, 7, 8]\n",
            "정렬right확인 right: 6 값: 6\n",
            "################# 분할 ###################\n",
            "정렬중: [0, 1, 2, 3, 4, 5, 6, 9, 7, 8]\n",
            "정렬right확인 right: 9 값: 9\n",
            "################# 분할 ###################\n",
            "정렬중: [0, 1, 2, 3, 4, 5, 6, 8, 7, 9]\n",
            "정렬right확인 right: 8 값: 8\n",
            "################# 분할 ###################\n",
            "################# 분할 ###################\n",
            "[0, 1, 2, 3, 4, 5, 6, 7, 8, 9]\n"
          ]
        }
      ]
    },
    {
      "cell_type": "markdown",
      "source": [
        "퀵소트 문제:\n",
        "https://www.acmicpc.net/problem/24090\n",
        "- 교환횟수에 따른 숫자를 입력해야함 (정렬과정 파악)"
      ],
      "metadata": {
        "id": "XBTSvDHJ0HMs"
      }
    },
    {
      "cell_type": "code",
      "source": [
        "# 주석 제거 버전 : 최종만 출력\n",
        "\n",
        "array = [5, 7, 9 ,0 ,3,1,6,2,4,8]\n",
        "\n",
        "def quick_sort(array, start, end):\n",
        "  if start > end:\n",
        "    return\n",
        "  pivot  = start\n",
        "  left = start + 1\n",
        "  right = end\n",
        "\n",
        "  while  (left <= right):\n",
        "    while (left <= end and array[left] <= array[pivot]):\n",
        "      left += 1\n",
        "\n",
        "    while (right > start and array[right] >= array[pivot]):\n",
        "      right -= 1\n",
        "    if left > right:\n",
        "      array[right], array[pivot] = array[pivot], array[right]\n",
        "    else:\n",
        "      array[left], array[right] = array[right], array[left]\n",
        "\n",
        "  quick_sort(array, start, right -1)\n",
        "  quick_sort(array, right+1, end)\n",
        "\n",
        "\n",
        "quick_sort(array, 0 , len(array)-1)\n",
        "print(array)"
      ],
      "metadata": {
        "colab": {
          "base_uri": "https://localhost:8080/"
        },
        "id": "-3lxQ0A30E01",
        "outputId": "d186f0ee-5a36-4bc7-ef14-ccacc6d26eed"
      },
      "execution_count": 1,
      "outputs": [
        {
          "output_type": "stream",
          "name": "stdout",
          "text": [
            "[0, 1, 2, 3, 4, 5, 6, 7, 8, 9]\n"
          ]
        }
      ]
    },
    {
      "cell_type": "markdown",
      "source": [
        "### BASE64 decoder\n",
        "- 문제 : https://swexpertacademy.com/main/solvingProblem/solvingProblem.do\n",
        "- 풀이 : https://velog.io/@hrlrh/SWEA-1928.-Base64-Decoder"
      ],
      "metadata": {
        "id": "CE9I98m0_t3I"
      }
    },
    {
      "cell_type": "markdown",
      "source": [
        "## D3 도전"
      ],
      "metadata": {
        "id": "Fw46hVadxj-a"
      }
    },
    {
      "cell_type": "code",
      "source": [],
      "metadata": {
        "id": "-Lj4VGXmpuc_"
      },
      "execution_count": null,
      "outputs": []
    },
    {
      "cell_type": "code",
      "source": [
        "#1206. [S/W 문제해결 기본] 1일차 - View\n",
        "# T = 10\n",
        "\n",
        "for i in range(10):\n",
        "    #건물갯수\n",
        "    N = int(input())\n",
        "    aparts = input().split()\n",
        "    cnt = 0\n",
        "    for n in range(N):\n",
        "        aparts[n] = int(aparts[n])\n",
        "\n",
        "    for a in range(2, len(aparts)-2):\n",
        "        # 앞 두칸은 띄고 시작함\n",
        "        if a == 2:\n",
        "            if aparts[2]>aparts[3] and aparts[2]>aparts[4]:\n",
        "                temp = [aparts[2],aparts[3], aparts[4]]\n",
        "                # 정렬 후 최댓값 - 그다음값\n",
        "                temp.sort()\n",
        "                add =aparts[a]-temp[1]\n",
        "                cnt += add\n",
        "        else:\n",
        "            if aparts[a]>aparts[a+1] and aparts[a]>aparts[a+2]:\n",
        "                #왼쪽전망도 확인\n",
        "                if aparts[a]>aparts[a-1] and aparts[a]>aparts[a-2]:\n",
        "                \ttemp = [aparts[a],aparts[a+1], aparts[a+2], aparts[a-1], aparts[a-2]]\n",
        "                \ttemp.sort()\n",
        "                \tadd =aparts[a]-temp[3]\n",
        "                \tcnt += add\n",
        "    print(f'#{i+1} {cnt}')\n",
        "\n"
      ],
      "metadata": {
        "id": "qVEY2lgaxmGH"
      },
      "execution_count": null,
      "outputs": []
    }
  ]
}